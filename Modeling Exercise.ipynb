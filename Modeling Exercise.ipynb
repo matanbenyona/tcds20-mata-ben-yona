{
 "cells": [
  {
   "cell_type": "markdown",
   "id": "05bb7c4c-452a-408f-ac26-b184f1e10862",
   "metadata": {},
   "source": [
    "# Modeling exercise"
   ]
  },
  {
   "cell_type": "markdown",
   "id": "38dbae80-7f28-4596-945e-a0784e384e4c",
   "metadata": {},
   "source": [
    "## General Instructions"
   ]
  },
  {
   "cell_type": "markdown",
   "id": "a5650156-42a5-4fb7-b74a-dec08bafd6c1",
   "metadata": {},
   "source": [
    "* Submission date: 4.5.2023\n",
    "* Submission Method: Link to your solution notebook in [this sheet](https://docs.google.com/spreadsheets/d/1GNPESGIhJpPb7LwMAyjF5qpJfZQak_mLkE3i5Y7a_VA/edit?usp=sharing)."
   ]
  },
  {
   "cell_type": "code",
   "execution_count": null,
   "id": "29e5b684-0d89-4cb5-999e-6a6f5ceeaab3",
   "metadata": {},
   "outputs": [],
   "source": [
    "!pwd"
   ]
  },
  {
   "cell_type": "code",
   "execution_count": null,
   "id": "5e136158-e12c-4d15-9c47-3cd726054a71",
   "metadata": {},
   "outputs": [],
   "source": [
    "import sys; sys.path.append('../src')\n",
    "import numpy as np\n",
    "import plotly.express as px"
   ]
  },
  {
   "cell_type": "code",
   "execution_count": null,
   "id": "b53824c3-ccb9-4f1b-9420-bb0b57509862",
   "metadata": {},
   "outputs": [],
   "source": [
    "import pandas as pd\n",
    "import ipywidgets as widgets"
   ]
  },
  {
   "cell_type": "code",
   "execution_count": null,
   "id": "da0716a6-a156-49a2-83d2-24d5ef36af3a",
   "metadata": {},
   "outputs": [],
   "source": [
    "from datasets import make_circles_dataframe, make_moons_dataframe"
   ]
  },
  {
   "cell_type": "markdown",
   "id": "513df470-6d24-4611-9fe8-61c25397763a",
   "metadata": {},
   "source": [
    "## Fitting and Overfiting "
   ]
  },
  {
   "cell_type": "markdown",
   "id": "2d1e502f-4b12-4bf1-a981-7135b36e0830",
   "metadata": {},
   "source": [
    "The goal of the following exercise is to:\n",
    "* Observe overfitting due to insuffient data\n",
    "* Observe Overfitting due to overly complex model\n",
    "* Identify the overfitting point by looking at Train vs Test error dynamic\n",
    "* Observe how noise levels effect the needed data samples and model capacity"
   ]
  },
  {
   "cell_type": "markdown",
   "id": "c80b1cdc-fcfb-4ac7-841c-a5a534d569cd",
   "metadata": {},
   "source": [
    "To do so, you'll code an experiment in the first part, and analyze the experiment result in the second part."
   ]
  },
  {
   "cell_type": "markdown",
   "id": "95f343cc-0b25-4302-ab24-fc290c07b6ee",
   "metadata": {},
   "source": [
    "### Building an experiment"
   ]
  },
  {
   "cell_type": "markdown",
   "id": "0e2a17e0-fb6f-479c-98bb-e5a6fc81e1ad",
   "metadata": {},
   "source": [
    "datasetCode:\n",
    "\n",
    "1. Create data of size N with noise level of magnitude NL from datasets DS_NAME. \n",
    "1. Split it to training and validation data (no need for test set), use 80%-20%. \n",
    "1. Use Logistic regression and Choose one complex model of your choice: [KNN](https://scikit-learn.org/stable/modules/generated/sklearn.neighbors.KNeighborsClassifier.html), [SVM with RBF kernel](https://scikit-learn.org/stable/modules/svm.html) with different `gamma` values or [Random forest classifier](https://scikit-learn.org/stable/modules/generated/sklearn.ensemble.RandomForestClassifier.html) with differnt number of `min_samples_split`. \n",
    "1. Train on the train set for different hyper parameter values. compute:\n",
    "   1. Classification accuracy on the training set (TRE)\n",
    "   1. Classification accuracy on the validation set (TESTE)\n",
    "   1. The difference beteen the two above (E_DIFF)\n",
    "1. Save DS_NAME, N, NL, CLF_NAME, K, TRE, TESTE, E_DIFF and the regularization/hyper param (K, gamma or min_samples_split and regularization value for the linear regression classifier)\n",
    "\n",
    "Repeat for:\n",
    "* DS_NAME in Moons, Circles\n",
    "* N (number of samples) in [5, 10, 50, 100, 1000, 10000]\n",
    "* NL (noise level) in [0, 0.1, 0.2, 0.3, 0.4, 0.5]\n",
    "* For the complex model: 10 Values of hyper parameter of the complex model you've chosen.\n",
    "* For the linear model: 5 values of ridge (l2) regularization - [0.001, 0.01, 0.1, 1, 10, 100, 1000]"
   ]
  },
  {
   "cell_type": "markdown",
   "id": "ed7e0146-9c7a-4cf1-a83e-da9a11bcc796",
   "metadata": {},
   "source": [
    "### Analysing the expermient results"
   ]
  },
  {
   "cell_type": "markdown",
   "id": "0f39e9c4-0332-4564-a674-52b99332ecfd",
   "metadata": {},
   "source": [
    "1. For SVM only, For dataset of size 10k and for each dataset, What are the best model params? How stable is it? \n",
    "1. For SVM only, For dataset of size 10k and for each dataset, What is the most stable model and model params? How good is it in comparison to other models? Explain using bias and variance terminoligy.\n",
    "1. Does regularization help for linear models? consider different datasets sizes. \n",
    "1. For a given noise level of your chioce, How does the train, test and difference error changes with increasing data sizes? (answer for svm and LR seperatly)\n",
    "1. For a given noise level of your chioce, How does the train, test and difference error changes with increasing model complexity? (answer for svm and LR seperatly)\n",
    "1. Are the noise level effect the number of datapoints needed to reach optimal test results? "
   ]
  },
  {
   "cell_type": "markdown",
   "id": "237fa350-4106-419c-9020-51986a0a716d",
   "metadata": {},
   "source": [
    "Bonus:\n",
    "\n",
    "* For SVM: Select one dataset and with 0.2 noise level. Identify the optimal model params, and visualize the decision boundry learned. \n",
    "  * Hint: Use a grid. See classification models notebook "
   ]
  },
  {
   "cell_type": "markdown",
   "id": "e8bf7262-12b1-4417-acd2-eb8365b04b11",
   "metadata": {},
   "source": [
    "## Tips and Hints"
   ]
  },
  {
   "cell_type": "markdown",
   "id": "aca4522e-a8e9-4476-90ac-d1a2679085f4",
   "metadata": {},
   "source": [
    "For buliding the experiment:\n",
    "\n",
    "* Start with one dataframe holding all the data for both datastes with different noise level. Use the `make_<dataset_name>_dataframe()` functions below, and add two columns, dataset_name and noise_level, before appending the new dataset to the rest of the datasets. Use `df = pd.DataFrame()` to start with an empty dataframe and using a loop, add data to it using `df = df.append(<the needed df here>)`. Verify that you have 10k samples for each dataset type and noise level by a proper `.value_counts()`. You can modify the \n",
    "* When you'll need an N samples data with a specific noise level, use `query()` and `head(n)` to get the needed dataset. \n",
    "* Use sklearn `train_test_split()` method to split the data with `test_size` and `random_state` parameters set correctly to ensure you are always splitting the data the same why for a given fold `k`. Read [the docs](https://scikit-learn.org/stable/modules/generated/sklearn.model_selection.train_test_split.html) if needed. \n",
    "* You can also not create your own data splitter, and instead use `model_selection.cross_validate()` from sklearn. You'll need to ask for the train erros as well as the test errors, see [here](https://scikit-learn.org/stable/modules/generated/sklearn.model_selection.cross_validate.html).\n",
    "* Use prints in proper location to ensure the progress of the experiment. "
   ]
  },
  {
   "cell_type": "markdown",
   "id": "b4f130c6-62ba-4490-983d-1d63470dc615",
   "metadata": {},
   "source": [
    "**If you get stuck, and need refernce, scroll to the end of the notebook to see more hints!**"
   ]
  },
  {
   "cell_type": "markdown",
   "id": "ad8ffe8f-8c0b-4dc3-9cc2-9c3dc02852d7",
   "metadata": {},
   "source": [
    "## Moons dataset"
   ]
  },
  {
   "cell_type": "code",
   "execution_count": null,
   "id": "7a6b4c61-454e-4887-963f-61d5ec6bc19f",
   "metadata": {},
   "outputs": [],
   "source": [
    "from sklearn.datasets import make_moons,make_circles\n"
   ]
  },
  {
   "cell_type": "code",
   "execution_count": null,
   "id": "7392ae8f-32a7-4c77-a5be-34043ecd09ec",
   "metadata": {},
   "outputs": [],
   "source": [
    "moons_df = make_moons_dataframe(n_samples=1000, noise_level=0.1)\n",
    "moons_df.head()"
   ]
  },
  {
   "cell_type": "code",
   "execution_count": null,
   "id": "48c4d95c-3cad-4596-a8b3-29d67aa9859c",
   "metadata": {},
   "outputs": [],
   "source": [
    "@widgets.interact\n",
    "def plot_noisy_moons(noise_level = widgets.FloatSlider(value=0, min=0, max=0.5, step=0.05)):\n",
    "    moons_df = make_moons_dataframe(n_samples=1000, noise_level=noise_level)\n",
    "    return px.scatter(moons_df, x='x', y='y', color = 'label')"
   ]
  },
  {
   "cell_type": "markdown",
   "id": "a3299f00-00b8-4703-8568-35de2913a487",
   "metadata": {},
   "source": [
    "## Circles Dataset"
   ]
  },
  {
   "cell_type": "code",
   "execution_count": null,
   "id": "14b1498d-60e1-429e-a122-f120f5ed5720",
   "metadata": {},
   "outputs": [],
   "source": [
    "circles_df = make_circles_dataframe(n_samples=500, noise_level=0)\n",
    "circles_df.head()"
   ]
  },
  {
   "cell_type": "code",
   "execution_count": null,
   "id": "52ef522a-e381-42e1-b321-31b3d2f3b0de",
   "metadata": {},
   "outputs": [],
   "source": [
    "@widgets.interact\n",
    "def plot_noisy_circles(noise_level = widgets.FloatSlider(value=0, min=0, max=0.5, step=0.05)):\n",
    "    df = make_circles_dataframe(1000, noise_level)\n",
    "    return px.scatter(df, x='x', y='y', color = 'label')"
   ]
  },
  {
   "cell_type": "markdown",
   "id": "68124026-b4bc-4022-81ee-158175f9e732",
   "metadata": {},
   "source": [
    "## Appendix"
   ]
  },
  {
   "cell_type": "markdown",
   "id": "ac7c6e0b-b513-4bb7-b39e-ae3baa5b3e68",
   "metadata": {},
   "source": [
    "### More hints!"
   ]
  },
  {
   "cell_type": "markdown",
   "id": "c2ad0ce4-d598-4e30-ab43-dd9a064d8dd8",
   "metadata": {},
   "source": [
    "If you'll build the datasets dataframe correctly, you'll have **one** dataframe that has dataset_name and noise_level colmuns, as well as the regular x,y,label colmns. To unsure you've appended everything correctly, groupby the proper colmuns and look at the size:"
   ]
  },
  {
   "cell_type": "code",
   "execution_count": null,
   "id": "4b5d99fc-102f-4b04-8962-1e85e8909cee",
   "metadata": {},
   "outputs": [],
   "source": [
    "# Use proper groupby statement to ensure the datasets dataframe contains data as expected. You should see the following result:"
   ]
  },
  {
   "cell_type": "markdown",
   "id": "8f9e1094-232b-46f2-ba89-856e14fab58b",
   "metadata": {},
   "source": [
    "Your "
   ]
  },
  {
   "cell_type": "markdown",
   "id": "fc58ae49-7d87-462b-b681-61536ae4bca8",
   "metadata": {},
   "source": [
    "You experiment code should look something like that:"
   ]
  },
  {
   "cell_type": "code",
   "execution_count": null,
   "id": "6b6dca06-01af-437e-8eb1-d559cdb96741",
   "metadata": {
    "tags": []
   },
   "outputs": [],
   "source": [
    "datasets_type = ['circles', 'moons']\n",
    "k_folds = 10\n",
    "n_samples = [10, 50, 100, 1000, 10000]\n",
    "noise_levels = [0, 0.1, 0.2, 0.3, 0.4, 0.5]\n",
    "clf_types = ['log_reg', 'svm']\n",
    "hp_range = <'Your hyper parameters ranges here'>\n",
    "regularization_values = <'Your regularization values here'>\n",
    "results = []\n",
    "for ds_type in datasets_type:\n",
    "    print(f'Working on {ds_type}')\n",
    "    for nl in noise_levels:\n",
    "        for n in n_samples:\n",
    "            ds = datasets.query(<'your query here'>).head(n)\n",
    "            print(f'Starting {k_folds}-fold cross validation for {ds_type} datasets with {n} samples and noise level {nl}. Going to train {clf_types} classifiers.')\n",
    "            for k in range(k_folds):\n",
    "                X, Y = <'Your code here'>\n",
    "                x_train,x_test,y_train,y_test= <'Your code here'>\n",
    "                for clf_type in clf_types:\n",
    "                    if clf_type == 'log_reg':\n",
    "                        for regularization_value in regularization_values:\n",
    "                            train_acc, test_acc = <'Your code here'>\n",
    "                            results.append(<'Your code here'>)\n",
    "                    if clf_type == 'svm':\n",
    "                        for gamma in hp_range:\n",
    "                            train_acc, test_acc = <'Your code here'>\n",
    "                            results.append(<'Your code here'>)"
   ]
  },
  {
   "cell_type": "markdown",
   "id": "c22ca672-ed7b-4025-8434-6096b0ba4e50",
   "metadata": {},
   "source": [
    "### Create data set"
   ]
  },
  {
   "cell_type": "code",
   "execution_count": 1,
   "id": "4ce03eb6-482c-4f18-b4d3-215a64c9e3b8",
   "metadata": {},
   "outputs": [],
   "source": [
    "# import warnings filter\n",
    "from warnings import simplefilter\n",
    "# ignore all future warnings\n",
    "simplefilter(action='ignore', category=FutureWarning)"
   ]
  },
  {
   "cell_type": "code",
   "execution_count": 4,
   "id": "0844a16e-4718-4ca7-9a2a-c7ab150472e2",
   "metadata": {},
   "outputs": [
    {
     "name": "stdout",
     "output_type": "stream",
     "text": [
      "(120000, 5)\n",
      "             x         y label datasets_type  noise_levels\n",
      "7283  0.268165  1.165288     1       circles           0.4\n",
      "2487 -0.493820  0.869564     0       circles           0.0\n",
      "6032  0.506618  1.063546     0         moons           0.3\n",
      "1064 -0.518121  0.365539     0         moons           0.4\n",
      "8694  1.039268 -0.499229     1         moons           0.0\n",
      "7698  0.078697  1.192749     1       circles           0.3\n",
      "845   0.770167 -0.718363     1         moons           0.3\n",
      "9750  0.068760  0.997633     0         moons           0.0\n",
      "1228  1.430132 -0.506827     0       circles           0.4\n",
      "1959 -0.168782 -0.848139     1       circles           0.1\n"
     ]
    },
    {
     "data": {
      "text/plain": [
       "datasets_type  noise_levels\n",
       "circles        0.0             10000\n",
       "               0.1             10000\n",
       "               0.2             10000\n",
       "               0.3             10000\n",
       "               0.4             10000\n",
       "               0.5             10000\n",
       "moons          0.0             10000\n",
       "               0.1             10000\n",
       "               0.2             10000\n",
       "               0.3             10000\n",
       "               0.4             10000\n",
       "               0.5             10000\n",
       "Name: noise_levels, dtype: int64"
      ]
     },
     "execution_count": 4,
     "metadata": {},
     "output_type": "execute_result"
    }
   ],
   "source": [
    "import numpy as np\n",
    "import pandas as pd\n",
    "import plotly.express as px\n",
    "#import ipywidgets as widgets\n",
    "from sklearn.datasets import make_moons,make_circles\n",
    "\n",
    "def  make_circles_dataframe(n_samples=500, noise_level=0):\n",
    "        features, true_labels =make_circles(n_samples=n_samples,noise=noise_level)\n",
    "        circles_df = pd.DataFrame([[x, y, l] for (x,y),l in zip(features, true_labels)], columns=['x','y','label'])\n",
    "        circles_df.label =circles_df.label.astype(str)\n",
    "        circles_df['datasets_type']='circles' \n",
    "        circles_df['noise_levels']=noise_level \n",
    "        return  circles_df\n",
    "    \n",
    "def  make_moons_dataframe(n_samples=500, noise_level=0):\n",
    "        features, true_labels = make_moons(n_samples=n_samples,noise=noise_level)\n",
    "        moons_df = pd.DataFrame([[x, y, l] for (x,y),l in zip(features, true_labels)], columns=['x','y','label'])\n",
    "        moons_df.label =moons_df.label.astype(str)\n",
    "        moons_df['datasets_type']='moons' \n",
    "        moons_df['noise_levels']=noise_level\n",
    "        return  moons_df   \n",
    "    \n",
    "circles_df = make_circles_dataframe(n_samples=500, noise_level=0)\n",
    "moons_df = make_moons_dataframe(n_samples=1000, noise_level=0.1)\n",
    "\n",
    "\n",
    "#circles_df\n",
    "#moons_df\n",
    "#fig = px.scatter(moons_df.head(50), x='x', y='y', color='label')\n",
    "#fig.update_traces(marker=dict(size=12, line=dict(width=2, color='DarkSlateGrey')), selector=dict(mode='markers'))\n",
    "\n",
    "\n",
    "full_df=pd.DataFrame()\n",
    "for noise in [0, 0.1, 0.2, 0.3, 0.4, 0.5]:\n",
    "    circles_df = make_circles_dataframe(n_samples=10000, noise_level=noise)\n",
    "    moons_df = make_moons_dataframe(n_samples=10000, noise_level=noise)\n",
    "    full_df=full_df.append([circles_df, moons_df])\n",
    "   \n",
    "print(full_df.shape)\n",
    "print(full_df.sample(10))\n",
    "full_df.groupby('datasets_type').noise_levels.value_counts()\n",
    "\n",
    "\n",
    "\n"
   ]
  },
  {
   "cell_type": "markdown",
   "id": "5e146ad2-738e-4336-b228-f18d658cbc9d",
   "metadata": {},
   "source": [
    "## Building an experiment padas \n",
    "### def"
   ]
  },
  {
   "cell_type": "code",
   "execution_count": 7,
   "id": "a8cf07e2-0424-46cb-bb00-935811af0dc2",
   "metadata": {},
   "outputs": [
    {
     "name": "stdout",
     "output_type": "stream",
     "text": [
      "0.5444444444444444 0.3 0.2444444444444444\n"
     ]
    }
   ],
   "source": [
    "from sklearn.metrics import accuracy_score\n",
    "from sklearn.linear_model import LogisticRegression\n",
    "from sklearn.neighbors import KNeighborsClassifier\n",
    "from sklearn import svm\n",
    "from sklearn.ensemble import RandomForestClassifier\n",
    "\n",
    "\n",
    "def split_full_dataset(full_dataset,data_type,noise,n_samples):\n",
    "    ds =full_dataset.query('datasets_type==@data_type and noise_levels==@noise').head(n_samples)\n",
    "    return ds\n",
    "\n",
    "def select_folds_train_test_split(split_dataset,k_folds,k):\n",
    "    row_in_folder=split_dataset.shape[0]/k_folds\n",
    "    ds_test=split_dataset.iloc[int(k*row_in_folder):int(k*row_in_folder+row_in_folder)]\n",
    "    ds_train=split_dataset[~split_dataset.index.isin(ds_test.index)]\n",
    "    x_test,y_test = ds_test[['x','y']].values,  ds_test['label'].values\n",
    "    x_train,y_train = ds_train[['x','y']].values, ds_train['label'].values\n",
    "    return x_train,x_test,y_train,y_test      \n",
    "                \n",
    "def log_reg_model(regularization_value,x_train,x_test,y_train,y_test):\n",
    "    log_reg = LogisticRegression(penalty='l2', C=regularization_value)\n",
    "    log_reg.fit(x_train,y_train)\n",
    "    predict_train=log_reg.predict(x_train)\n",
    "    predict_test=log_reg.predict(x_test)\n",
    "    TRE=accuracy_score(predict_train,y_train)\n",
    "    TESTE=accuracy_score(predict_test,y_test)\n",
    "    E_DIFF=TRE-TESTE\n",
    "    return TRE,TESTE, E_DIFF\n",
    "\n",
    "def knn_model(k, x_train,x_test,y_train,y_test):\n",
    "    knn = KNeighborsClassifier(n_neighbors=k)\n",
    "    knn.fit(x_train,y_train)\n",
    "    predict_train=knn.predict(x_train)\n",
    "    predict_test=knn.predict(x_test)\n",
    "    TRE=accuracy_score(predict_train,y_train)\n",
    "    TESTE=accuracy_score(predict_test,y_test)\n",
    "    E_DIFF=TRE-TESTE\n",
    "    return TRE,TESTE, E_DIFF\n",
    "\n",
    "\n",
    "def CVM_model(x_train,x_test,y_train,y_test,gamma):\n",
    "    svm_clf = svm.SVC(kernel='rdf', gamma=gamma) # kernels availble: 'linear', 'poly', 'rbf'\n",
    "    svm_clf.fit(x_train,y_train) \n",
    "    predict_train=svm_clf.predict(x_train)\n",
    "    predict_test=svm_clf.predict(x_test)\n",
    "    TRE=accuracy_score(predict_train,y_train)\n",
    "    TESTE=accuracy_score(predict_test,y_test)\n",
    "    E_DIFF=TRE-TESTE\n",
    "    return TRE,TESTE, E_DIFF\n",
    "\n",
    "\n",
    "def RandomForest_model(x_train,x_test,y_train,y_test,min_samples_split):\n",
    "    clf = RandomForestClassifier(min_samples_split=min_samples_split)\n",
    "    clf.fit(x_train,y_train) \n",
    "    predict_train=clf.predict(x_train)\n",
    "    predict_test=clf.predict(x_test)\n",
    "    TRE=accuracy_score(predict_train,y_train)\n",
    "    TESTE=accuracy_score(predict_test,y_test)\n",
    "    E_DIFF=TRE-TESTE\n",
    "    return TRE,TESTE, E_DIFF\n",
    "  \n",
    "\n",
    "def run_model(model_name,model_dict,model_pram_dict):\n",
    "    datasets_type = ['circles', 'moons']\n",
    "    k_folds = 10\n",
    "    n_samples =[10, 50, 100, 1000, 10000]\n",
    "    noise_levels = [0, 0.1, 0.2, 0.3, 0.4, 0.5]\n",
    "    \n",
    "    results_list=[]\n",
    "    for ds_type in datasets_type: # data type\n",
    "    print(f'Working on {ds_type}')\n",
    "       for nl in noise_levels: # select noise levels\n",
    "            for n in n_samples: # select numver samples\n",
    "                ds =split_full_dataset(full_df,ds_type,nl,n)\n",
    "                print(f'Starting {k_folds}-fold cross validation for {ds_type} datasets with {n} samples and noise level {nl}. Going to train {clf_types} classifiers.')\n",
    "                row_in_folder=n/k_folds\n",
    "                for kf in range(k_folds): # K-Fold Cross-Validation and split to training set  validation set\n",
    "                    x_train,x_test,y_train,y_test=select_folds_train_test_split(ds,k_folds,kf) \n",
    "                    \n",
    "                    \n",
    "\n",
    "sd= split_full_dataset(full_df,'circles',0.2,100)\n",
    "x_train,x_test,y_train,y_test=select_folds_train_test_split(sd,10,1)\n",
    "\n",
    "TRE,TESTE, E_DIFF=log_reg_model(1,x_train,x_test,y_train,y_test)\n",
    "print(TRE,TESTE, E_DIFF)"
   ]
  },
  {
   "cell_type": "markdown",
   "id": "7248ca7b-ab6b-4c78-8ee3-3f6274177653",
   "metadata": {},
   "source": [
    "### run"
   ]
  },
  {
   "cell_type": "code",
   "execution_count": null,
   "id": "9ee21f21-f6c6-4bf3-a194-cadcb899f1b6",
   "metadata": {},
   "outputs": [],
   "source": [
    "#data type\n",
    "datasets_type = ['circles', 'moons']\n",
    "n_samples =[10, 50, 100, 1000, 10000]\n",
    "noise_levels = [0, 0.1, 0.2, 0.3, 0.4, 0.5]\n",
    "\n",
    "# model name\n",
    "clf_types = ['log_reg', 'knn']\n",
    "\n",
    "# grid pramter\n",
    "K_valuo =[1,3,5,11,21,31,41,51,53,55]\n",
    "regularization_values =[0.001, 0.01, 0.1, 1, 10, 100, 1000]\n",
    "\n",
    "k_folds = 10\n",
    "results_log_reg =[]\n",
    "results_knn = []\n",
    "for ds_type in datasets_type: # data type\n",
    "    print(f'Working on {ds_type}')\n",
    "    \n",
    "    for nl in noise_levels: # select noise levels\n",
    "        for n in n_samples: # select numver samples\n",
    "            ds =split_full_dataset(full_df,ds_type,nl,n)\n",
    "            print(f'Starting {k_folds}-fold cross validation for {ds_type} datasets with {n} samples and noise level {nl}. Going to train {clf_types} classifiers.')\n",
    "            row_in_folder=n/k_folds\n",
    "            for kf in range(k_folds): # K-Fold Cross-Validation and split to training set  validation set\n",
    "                x_train,x_test,y_train,y_test=select_folds_train_test_split(ds,k_folds,kf)\n",
    "                for clf_type in clf_types:\n",
    "                    if clf_type == 'log_reg':\n",
    "                        for regularization_value in regularization_values:\n",
    "                            #print('regularization_value',regularization_value)\n",
    "                            train_acc, test_acc,diff_acc =log_reg_model(regularization_value,x_train,x_test,y_train,y_test)\n",
    "                            #print( clf_type,  train_acc, test_acc,diff_acc)\n",
    "                            results_log_reg.append((clf_type,ds_type,nl,n,kf,regularization_value, train_acc, test_acc,diff_acc ))\n",
    "  \n",
    "                                      \n",
    "                    if clf_type == 'knn':\n",
    "                        for k in K_valuo:\n",
    "                            #print('k',k)\n",
    "                            try:\n",
    "                                train_acc, test_acc,diff_acc =knn_model(k, x_train,x_test,y_train,y_test)\n",
    "                            except:\n",
    "                                train_acc, test_acc,diff_acc =knn_model(9, x_train,x_test,y_train,y_test)\n",
    "                            \n",
    "                                      \n",
    "                            results_knn.append((clf_type,ds_type,nl,n,kf,k, train_acc, test_acc,diff_acc ))\n",
    "                      \n",
    "\n",
    "                                                       \n",
    "                           \n",
    "log_reg_df=pd.DataFrame(results_log_reg ,columns=['model', 'ds_type','noise_levels','n_samples' ,'k_folds', 'regularization_value','TRE','TESTE', 'E_DIFF'])   \n",
    "knn_df=pd.DataFrame(results_knn,columns=['model', 'ds_type','noise_levels','n_samples', 'k_folds', 'k','TRE','TESTE', 'E_DIFF'])  "
   ]
  },
  {
   "cell_type": "code",
   "execution_count": 10,
   "id": "d50efd87-7dd5-4ff1-8175-977964d60d0e",
   "metadata": {},
   "outputs": [
    {
     "name": "stdout",
     "output_type": "stream",
     "text": [
      "        model  ds_type  noise_levels  n_samples  k_folds  \\\n",
      "4134  log_reg    moons           0.5      10000        0   \n",
      "1020  log_reg  circles           0.2      10000        5   \n",
      "2212  log_reg    moons           0.0         50        6   \n",
      "2332  log_reg    moons           0.0       1000        3   \n",
      "3815  log_reg    moons           0.4      10000        5   \n",
      "46    log_reg  circles           0.0         10        6   \n",
      "3063  log_reg    moons           0.2       1000        7   \n",
      "202   log_reg  circles           0.0        100        8   \n",
      "2615  log_reg    moons           0.1        100        3   \n",
      "358   log_reg  circles           0.1         10        1   \n",
      "\n",
      "      regularization_value       TRE  TESTE    E_DIFF  \n",
      "4134                10.000  0.803222  0.809 -0.005778  \n",
      "1020               100.000  0.501556  0.474  0.027556  \n",
      "2212                 0.001  0.555556  0.400  0.155556  \n",
      "2332                 0.010  0.831111  0.820  0.011111  \n",
      "3815                 0.001  0.811778  0.820 -0.008222  \n",
      "46                  10.000  0.888889  0.000  0.888889  \n",
      "3063                10.000  0.863333  0.890 -0.026667  \n",
      "202               1000.000  0.555556  0.600 -0.044444  \n",
      "2615                10.000  0.933333  0.700  0.233333  \n",
      "358                  0.010  0.666667  0.000  0.666667  \n",
      "aaaaaaaaaaaaaa\n",
      "     model  ds_type  noise_levels  n_samples  k_folds   k       TRE  TESTE  \\\n",
      "4809   knn    moons           0.3       1000        0  55  0.912222   0.90   \n",
      "1086   knn  circles           0.2         10        8  41  0.555556   1.00   \n",
      "2557   knn  circles           0.5         10        5  51  0.666667   1.00   \n",
      "886    knn  circles           0.1       1000        8  41  0.838889   0.81   \n",
      "3600   knn    moons           0.1         50        0   1  1.000000   1.00   \n",
      "3295   knn    moons           0.0        100        9  31  0.988889   1.00   \n",
      "3398   knn    moons           0.0       1000        9  53  1.000000   1.00   \n",
      "5296   knn    moons           0.4        100        9  41  0.788889   0.70   \n",
      "1012   knn  circles           0.2         10        1   5  0.555556   1.00   \n",
      "3383   knn    moons           0.0       1000        8  11  1.000000   1.00   \n",
      "\n",
      "        E_DIFF  \n",
      "4809  0.012222  \n",
      "1086 -0.444444  \n",
      "2557 -0.333333  \n",
      "886   0.028889  \n",
      "3600  0.000000  \n",
      "3295 -0.011111  \n",
      "3398  0.000000  \n",
      "5296  0.088889  \n",
      "1012 -0.444444  \n",
      "3383  0.000000  \n"
     ]
    }
   ],
   "source": [
    "print(log_reg_df.sample(10))\n",
    "print('aaaaaaaaaaaaaa')\n",
    "print(knn_df.sample(10))\n",
    "\n",
    "log_reg_df.to_csv('log_reg_df.csv')\n",
    "knn_df.to_csv('knn.csv')\n"
   ]
  },
  {
   "cell_type": "code",
   "execution_count": null,
   "id": "6fc76c19-0d4c-4dab-9ae6-f4bdb19863ae",
   "metadata": {},
   "outputs": [],
   "source": [
    "  "
   ]
  },
  {
   "cell_type": "code",
   "execution_count": null,
   "id": "0970f425-bd5b-49d8-9ae6-cb283a27e643",
   "metadata": {},
   "outputs": [],
   "source": []
  },
  {
   "cell_type": "markdown",
   "id": "2029d4db-ae17-4b13-90bf-9c7e2c137f44",
   "metadata": {},
   "source": [
    "## Building an experiment sklearn"
   ]
  },
  {
   "cell_type": "code",
   "execution_count": null,
   "id": "8f321db7-cd23-473e-8823-de81d34e447f",
   "metadata": {},
   "outputs": [],
   "source": [
    "from sklearn.model_selection import KFold,cross_val_score, StratifiedKFold,cross_validate\n",
    "\n",
    "def split_full_dataset(full_dataset,data_type,noise,n_samples):\n",
    "    ds =full_dataset.query('datasets_type==@data_type and noise_levels==@noise').head(n_samples)\n",
    "    return ds\n",
    "\n",
    "def log_reg_model(regularization_value):\n",
    "    log_reg = LogisticRegression(penalty='l2', C=regularization_value)\n",
    "     return log_reg\n",
    "\n",
    "def knn_model(k, x_train):\n",
    "    knn = KNeighborsClassifier(n_neighbors=k)\n",
    "    return knn\n",
    "\n",
    "\n",
    "def CVM_model(gamma):\n",
    "    svm_clf = svm.SVC(kernel='rdf', gamma=gamma) # kernels availble: 'linear', 'poly', 'rbf'\n",
    "    return svm_clf\n",
    "\n",
    "\n",
    "def RandomForest_model(min_samples_split):\n",
    "    clf = RandomForestClassifier(min_samples_split=min_samples_split)\n",
    "     return clf\n",
    "\n",
    "def train_test_split_and_ran_the_model(dataset,model_object,k_folds):\n",
    "   \n",
    "    X,Y = dataset[['x','y']].values,dataset['label'].values\n",
    "    kf=KFold(n_splits=k_folds)\n",
    "    kf_StrStratified(n_splits=k_folds)\n",
    "    score=cross_val_score(model_object,label=X,Y,cv=kf)\n",
    "    cross_val=cross_validate(model_object,label=X,Y,cv=kf,return_train_score=True,return_estimator=True) \n",
    "    print(\"Cross Validation Scores are {}\".format(score))\n",
    "    print(\"Average Cross Validation score :{}\".format(score.mean()))\n",
    "    print(\"STD of Cross Validation score :{}\".format(score.std()))\n",
    "    return kf, kf_StrStratified,cross_val)\n",
    "      \n",
    "           "
   ]
  },
  {
   "cell_type": "code",
   "execution_count": null,
   "id": "4b47569e-9dc6-4d3a-abac-94421f23a22b",
   "metadata": {},
   "outputs": [],
   "source": []
  }
 ],
 "metadata": {
  "kernelspec": {
   "display_name": "Python 3 (ipykernel)",
   "language": "python",
   "name": "python3"
  },
  "language_info": {
   "codemirror_mode": {
    "name": "ipython",
    "version": 3
   },
   "file_extension": ".py",
   "mimetype": "text/x-python",
   "name": "python",
   "nbconvert_exporter": "python",
   "pygments_lexer": "ipython3",
   "version": "3.9.13"
  }
 },
 "nbformat": 4,
 "nbformat_minor": 5
}
