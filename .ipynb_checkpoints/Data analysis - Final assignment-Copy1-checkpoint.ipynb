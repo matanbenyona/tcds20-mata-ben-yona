{
 "cells": [
  {
   "cell_type": "markdown",
   "id": "262ed441-1e2f-4f23-af4e-3c1c0f6dc002",
   "metadata": {},
   "source": [
    "# Pandas Test - Real life Exercise"
   ]
  },
  {
   "cell_type": "code",
   "execution_count": 1,
   "id": "e24b34ca-0a21-4dc6-92e4-4b16bcbd5a98",
   "metadata": {},
   "outputs": [],
   "source": [
    "import pandas as pd"
   ]
  },
  {
   "cell_type": "markdown",
   "id": "ad46fe63-39ad-4b03-b6b6-623586b94d45",
   "metadata": {},
   "source": [
    "For visualizations:"
   ]
  },
  {
   "cell_type": "code",
   "execution_count": 2,
   "id": "58bd46da-da6c-44d0-903f-19be230836e5",
   "metadata": {},
   "outputs": [
    {
     "data": {
      "text/html": [
       "        <script type=\"text/javascript\">\n",
       "        window.PlotlyConfig = {MathJaxConfig: 'local'};\n",
       "        if (window.MathJax) {MathJax.Hub.Config({SVG: {font: \"STIX-Web\"}});}\n",
       "        if (typeof require !== 'undefined') {\n",
       "        require.undef(\"plotly\");\n",
       "        requirejs.config({\n",
       "            paths: {\n",
       "                'plotly': ['https://cdn.plot.ly/plotly-2.2.0.min']\n",
       "            }\n",
       "        });\n",
       "        require(['plotly'], function(Plotly) {\n",
       "            window._Plotly = Plotly;\n",
       "        });\n",
       "        }\n",
       "        </script>\n",
       "        "
      ]
     },
     "metadata": {},
     "output_type": "display_data"
    }
   ],
   "source": [
    "import cufflinks as cf; cf.go_offline()\n",
    "import plotly_express as px"
   ]
  },
  {
   "cell_type": "markdown",
   "id": "2685b7b6-1a31-451b-a1e8-f29c1513b697",
   "metadata": {},
   "source": [
    "## About the data"
   ]
  },
  {
   "cell_type": "markdown",
   "id": "5453d0d4-f625-41df-942e-ff2f5cf0f993",
   "metadata": {},
   "source": [
    "really availableThe data you are about to load is coming from an Ad recommentation system of the company InBrain. InBrain is a adTech company and specalize in next-level ad recommendation.  \n",
    "The company has two major products - one giving high quality recommendation while the other is giving an highly yielding recommendation. Inbrain custormers are sending requests, asking for either of the products. \n",
    "\n",
    "Once a week, the company is doing an internal quality assements, and sends a sample of its traffic requests to external annotation process, in which the annotators are trained to manually decided whether the recommended Ad is a succes or not. The data contains information about the ad (**ad_id**), the sampled week (**week_id**), the requester company (**requester**), the region of operation (**region**), the recommendation type (Quality/Yield, **recommendation_type**) and the recommendation provider algorithm (**rec_provider**). The annotators are marking whether the recommendation is meeting the Quality/Yield standards (**is_success**) and whether or not the recommendation is severly defected (**is_sever**)\n",
    "\n",
    "See a sample below:"
   ]
  },
  {
   "cell_type": "code",
   "execution_count": 79,
   "id": "71b69819-00b8-4612-bd2f-49bab7b7ab13",
   "metadata": {},
   "outputs": [
    {
     "data": {
      "text/html": [
       "<div>\n",
       "<style scoped>\n",
       "    .dataframe tbody tr th:only-of-type {\n",
       "        vertical-align: middle;\n",
       "    }\n",
       "\n",
       "    .dataframe tbody tr th {\n",
       "        vertical-align: top;\n",
       "    }\n",
       "\n",
       "    .dataframe thead th {\n",
       "        text-align: right;\n",
       "    }\n",
       "</style>\n",
       "<table border=\"1\" class=\"dataframe\">\n",
       "  <thead>\n",
       "    <tr style=\"text-align: right;\">\n",
       "      <th></th>\n",
       "      <th>week_id</th>\n",
       "      <th>ad_id</th>\n",
       "      <th>requester</th>\n",
       "      <th>region</th>\n",
       "      <th>is_success</th>\n",
       "      <th>is_sever</th>\n",
       "      <th>recommendation_type</th>\n",
       "      <th>rec_provider</th>\n",
       "    </tr>\n",
       "  </thead>\n",
       "  <tbody>\n",
       "    <tr>\n",
       "      <th>15608</th>\n",
       "      <td>2021-week_34</td>\n",
       "      <td>AD077KNWWM</td>\n",
       "      <td>Search Million Culture</td>\n",
       "      <td>DE</td>\n",
       "      <td>yes</td>\n",
       "      <td>NaN</td>\n",
       "      <td>Qality</td>\n",
       "      <td>DNNQ</td>\n",
       "    </tr>\n",
       "    <tr>\n",
       "      <th>357610</th>\n",
       "      <td>2022-week_06</td>\n",
       "      <td>AD098N8ZRQ</td>\n",
       "      <td>Search Million Culture</td>\n",
       "      <td>US</td>\n",
       "      <td>yes</td>\n",
       "      <td>NaN</td>\n",
       "      <td>Qality</td>\n",
       "      <td>DNNQ</td>\n",
       "    </tr>\n",
       "    <tr>\n",
       "      <th>121854</th>\n",
       "      <td>2021-week_41</td>\n",
       "      <td>AD009VELS8</td>\n",
       "      <td>Search Million Culture</td>\n",
       "      <td>IN</td>\n",
       "      <td>yes</td>\n",
       "      <td>NaN</td>\n",
       "      <td>Qality</td>\n",
       "      <td>UserPopQ</td>\n",
       "    </tr>\n",
       "    <tr>\n",
       "      <th>273687</th>\n",
       "      <td>2022-week_01</td>\n",
       "      <td>AD0086ECH9</td>\n",
       "      <td>Search Million Culture</td>\n",
       "      <td>DE</td>\n",
       "      <td>yes</td>\n",
       "      <td>NaN</td>\n",
       "      <td>Qality</td>\n",
       "      <td>DNNQ</td>\n",
       "    </tr>\n",
       "    <tr>\n",
       "      <th>316754</th>\n",
       "      <td>2022-week_04</td>\n",
       "      <td>AD07P8QD8Z</td>\n",
       "      <td>RelayFoods</td>\n",
       "      <td>DE</td>\n",
       "      <td>yes</td>\n",
       "      <td>NaN</td>\n",
       "      <td>Qality</td>\n",
       "      <td>DNNQ</td>\n",
       "    </tr>\n",
       "  </tbody>\n",
       "</table>\n",
       "</div>"
      ],
      "text/plain": [
       "             week_id       ad_id               requester region is_success  \\\n",
       "15608   2021-week_34  AD077KNWWM  Search Million Culture     DE        yes   \n",
       "357610  2022-week_06  AD098N8ZRQ  Search Million Culture     US        yes   \n",
       "121854  2021-week_41  AD009VELS8  Search Million Culture     IN        yes   \n",
       "273687  2022-week_01  AD0086ECH9  Search Million Culture     DE        yes   \n",
       "316754  2022-week_04  AD07P8QD8Z              RelayFoods     DE        yes   \n",
       "\n",
       "       is_sever recommendation_type rec_provider  \n",
       "15608       NaN              Qality         DNNQ  \n",
       "357610      NaN              Qality         DNNQ  \n",
       "121854      NaN              Qality     UserPopQ  \n",
       "273687      NaN              Qality         DNNQ  \n",
       "316754      NaN              Qality         DNNQ  "
      ]
     },
     "execution_count": 79,
     "metadata": {},
     "output_type": "execute_result"
    }
   ],
   "source": [
    "ad_recs_annotated = pd.read_csv('data/Final assigment/ad_annotations.csv')\n",
    "ad_recs_annotated.sample(5)"
   ]
  },
  {
   "cell_type": "code",
   "execution_count": 80,
   "id": "34b5026b-6a2d-4108-ae10-cc7cc4fa76ef",
   "metadata": {},
   "outputs": [],
   "source": [
    "most_pop_ad = ad_recs_annotated.ad_id.value_counts().idxmax()"
   ]
  },
  {
   "cell_type": "code",
   "execution_count": 23,
   "id": "8762e1c3-b7bf-40a5-8e53-2e10c16ff1dd",
   "metadata": {},
   "outputs": [
    {
     "data": {
      "text/plain": [
       "'ad_id == \"AD07PFFMP9\"'"
      ]
     },
     "execution_count": 23,
     "metadata": {},
     "output_type": "execute_result"
    }
   ],
   "source": [
    "q = f'ad_id == \"{most_pop_ad}\"'\n",
    "q"
   ]
  },
  {
   "cell_type": "code",
   "execution_count": 4,
   "id": "ce93a9cd-d9be-44ff-9314-45a1082af1f5",
   "metadata": {},
   "outputs": [
    {
     "data": {
      "text/html": [
       "<div>\n",
       "<style scoped>\n",
       "    .dataframe tbody tr th:only-of-type {\n",
       "        vertical-align: middle;\n",
       "    }\n",
       "\n",
       "    .dataframe tbody tr th {\n",
       "        vertical-align: top;\n",
       "    }\n",
       "\n",
       "    .dataframe thead th {\n",
       "        text-align: right;\n",
       "    }\n",
       "</style>\n",
       "<table border=\"1\" class=\"dataframe\">\n",
       "  <thead>\n",
       "    <tr style=\"text-align: right;\">\n",
       "      <th></th>\n",
       "      <th>week_id</th>\n",
       "      <th>ad_id</th>\n",
       "      <th>requester</th>\n",
       "      <th>region</th>\n",
       "      <th>is_success</th>\n",
       "      <th>is_sever</th>\n",
       "      <th>recommendation_type</th>\n",
       "      <th>rec_provider</th>\n",
       "    </tr>\n",
       "  </thead>\n",
       "  <tbody>\n",
       "    <tr>\n",
       "      <th>7031</th>\n",
       "      <td>2021-week_33</td>\n",
       "      <td>AD07PFFMP9</td>\n",
       "      <td>Puentes Company</td>\n",
       "      <td>IN</td>\n",
       "      <td>yes</td>\n",
       "      <td>NaN</td>\n",
       "      <td>Yield</td>\n",
       "      <td>ManualQ</td>\n",
       "    </tr>\n",
       "    <tr>\n",
       "      <th>7032</th>\n",
       "      <td>2021-week_33</td>\n",
       "      <td>AD07PFFMP9</td>\n",
       "      <td>Puentes Company</td>\n",
       "      <td>IN</td>\n",
       "      <td>yes</td>\n",
       "      <td>NaN</td>\n",
       "      <td>Yield</td>\n",
       "      <td>ManualQ</td>\n",
       "    </tr>\n",
       "    <tr>\n",
       "      <th>20010</th>\n",
       "      <td>2021-week_34</td>\n",
       "      <td>AD07PFFMP9</td>\n",
       "      <td>Bizanga</td>\n",
       "      <td>IN</td>\n",
       "      <td>yes</td>\n",
       "      <td>NaN</td>\n",
       "      <td>Yield</td>\n",
       "      <td>ManualQ</td>\n",
       "    </tr>\n",
       "    <tr>\n",
       "      <th>20011</th>\n",
       "      <td>2021-week_34</td>\n",
       "      <td>AD07PFFMP9</td>\n",
       "      <td>Puentes Company</td>\n",
       "      <td>IN</td>\n",
       "      <td>yes</td>\n",
       "      <td>NaN</td>\n",
       "      <td>Yield</td>\n",
       "      <td>ManualQ</td>\n",
       "    </tr>\n",
       "    <tr>\n",
       "      <th>35214</th>\n",
       "      <td>2021-week_35</td>\n",
       "      <td>AD07PFFMP9</td>\n",
       "      <td>Bizanga</td>\n",
       "      <td>IN</td>\n",
       "      <td>yes</td>\n",
       "      <td>NaN</td>\n",
       "      <td>Yield</td>\n",
       "      <td>ManualQ</td>\n",
       "    </tr>\n",
       "    <tr>\n",
       "      <th>...</th>\n",
       "      <td>...</td>\n",
       "      <td>...</td>\n",
       "      <td>...</td>\n",
       "      <td>...</td>\n",
       "      <td>...</td>\n",
       "      <td>...</td>\n",
       "      <td>...</td>\n",
       "      <td>...</td>\n",
       "    </tr>\n",
       "    <tr>\n",
       "      <th>363533</th>\n",
       "      <td>2022-week_52</td>\n",
       "      <td>AD07PFFMP9</td>\n",
       "      <td>MoJoe Brewing Company</td>\n",
       "      <td>IN</td>\n",
       "      <td>yes</td>\n",
       "      <td>NaN</td>\n",
       "      <td>Yield</td>\n",
       "      <td>ManualQ</td>\n",
       "    </tr>\n",
       "    <tr>\n",
       "      <th>363534</th>\n",
       "      <td>2022-week_52</td>\n",
       "      <td>AD07PFFMP9</td>\n",
       "      <td>MoJoe Brewing Company</td>\n",
       "      <td>IN</td>\n",
       "      <td>yes</td>\n",
       "      <td>NaN</td>\n",
       "      <td>Yield</td>\n",
       "      <td>ManualQ</td>\n",
       "    </tr>\n",
       "    <tr>\n",
       "      <th>363535</th>\n",
       "      <td>2022-week_52</td>\n",
       "      <td>AD07PFFMP9</td>\n",
       "      <td>Bizanga</td>\n",
       "      <td>IN</td>\n",
       "      <td>yes</td>\n",
       "      <td>NaN</td>\n",
       "      <td>Yield</td>\n",
       "      <td>ManualQ</td>\n",
       "    </tr>\n",
       "    <tr>\n",
       "      <th>363536</th>\n",
       "      <td>2022-week_52</td>\n",
       "      <td>AD07PFFMP9</td>\n",
       "      <td>MoJoe Brewing Company</td>\n",
       "      <td>IN</td>\n",
       "      <td>yes</td>\n",
       "      <td>NaN</td>\n",
       "      <td>Yield</td>\n",
       "      <td>ManualQ</td>\n",
       "    </tr>\n",
       "    <tr>\n",
       "      <th>365817</th>\n",
       "      <td>2022-week_52</td>\n",
       "      <td>AD07PFFMP9</td>\n",
       "      <td>Allthetopbananas.com</td>\n",
       "      <td>IN</td>\n",
       "      <td>yes</td>\n",
       "      <td>NaN</td>\n",
       "      <td>Qality</td>\n",
       "      <td>ManualQ</td>\n",
       "    </tr>\n",
       "  </tbody>\n",
       "</table>\n",
       "<p>247 rows × 8 columns</p>\n",
       "</div>"
      ],
      "text/plain": [
       "             week_id       ad_id              requester region is_success  \\\n",
       "7031    2021-week_33  AD07PFFMP9        Puentes Company     IN        yes   \n",
       "7032    2021-week_33  AD07PFFMP9        Puentes Company     IN        yes   \n",
       "20010   2021-week_34  AD07PFFMP9                Bizanga     IN        yes   \n",
       "20011   2021-week_34  AD07PFFMP9        Puentes Company     IN        yes   \n",
       "35214   2021-week_35  AD07PFFMP9                Bizanga     IN        yes   \n",
       "...              ...         ...                    ...    ...        ...   \n",
       "363533  2022-week_52  AD07PFFMP9  MoJoe Brewing Company     IN        yes   \n",
       "363534  2022-week_52  AD07PFFMP9  MoJoe Brewing Company     IN        yes   \n",
       "363535  2022-week_52  AD07PFFMP9                Bizanga     IN        yes   \n",
       "363536  2022-week_52  AD07PFFMP9  MoJoe Brewing Company     IN        yes   \n",
       "365817  2022-week_52  AD07PFFMP9   Allthetopbananas.com     IN        yes   \n",
       "\n",
       "       is_sever recommendation_type rec_provider  \n",
       "7031        NaN               Yield      ManualQ  \n",
       "7032        NaN               Yield      ManualQ  \n",
       "20010       NaN               Yield      ManualQ  \n",
       "20011       NaN               Yield      ManualQ  \n",
       "35214       NaN               Yield      ManualQ  \n",
       "...         ...                 ...          ...  \n",
       "363533      NaN               Yield      ManualQ  \n",
       "363534      NaN               Yield      ManualQ  \n",
       "363535      NaN               Yield      ManualQ  \n",
       "363536      NaN               Yield      ManualQ  \n",
       "365817      NaN              Qality      ManualQ  \n",
       "\n",
       "[247 rows x 8 columns]"
      ]
     },
     "execution_count": 4,
     "metadata": {},
     "output_type": "execute_result"
    }
   ],
   "source": [
    "ad_recs_annotated.query('ad_id == @most_pop_ad')"
   ]
  },
  {
   "cell_type": "markdown",
   "id": "f4413766-e8bf-4f14-94e0-f58cfb88bb07",
   "metadata": {},
   "source": [
    "Your job, as the new and only data scientist of the company, is to get familiar with the the data, show week-over-week trends and produce insightfull graphs as a preparation to a full blown BI dashboard."
   ]
  },
  {
   "cell_type": "markdown",
   "id": "97faa00a-e0e3-47c0-bb8e-b3f72e1f0cb1",
   "metadata": {},
   "source": [
    "## Questions"
   ]
  },
  {
   "cell_type": "markdown",
   "id": "c0ed5ec1-d7b3-49a6-bf12-29420eab3a67",
   "metadata": {},
   "source": [
    "### Data Modifications"
   ]
  },
  {
   "cell_type": "markdown",
   "id": "8db18aad-c8b8-4fd4-994f-c008f279e1f6",
   "metadata": {},
   "source": [
    "1. Add a column with the sample year\n",
    "1. Add a column with the sample quarter (google how to)\n",
    "1. Add a new success column with values 1 and 0 for yes and no \n",
    "1. Are there any NaNs in the is_sever column? Count how many and create a new column with NaNs filled as False. Check that indeed the new column contaion no NaNs. \n",
    "1. Capitlize (first letter only) the is_success column (Inplace)"
   ]
  },
  {
   "cell_type": "code",
   "execution_count": 90,
   "id": "8ff091be-481f-4eb1-af66-1558f350153a",
   "metadata": {},
   "outputs": [],
   "source": [
    "#1\n",
    "ad_recs_annotated['Year']=ad_recs_annotated['week_id'].apply(lambda x: int(x[0:4])) \n",
    "ad_recs_annotated['Week_number']=ad_recs_annotated['week_id'].apply(lambda x: int(x[-2:])) \n",
    "#2\n",
    "\n",
    "\n",
    "#3\n",
    "ad_recs_annotated['success_int']=ad_recs_annotated['is_success'].apply(lambda x: 1 if x=='yes' else 0)\n",
    "\n",
    "#4\n",
    "ad_recs_annotated['is_sever_fillNaNs']=ad_recs_annotated['is_sever'].fillna(False)\n",
    "\n",
    "#5\n",
    "ad_recs_annotated['is_success']=ad_recs_annotated['is_success'].apply(lambda x:x.capitalize())\n"
   ]
  },
  {
   "cell_type": "code",
   "execution_count": 91,
   "id": "7fc83914-528c-44c0-8782-2b9ab47eedd8",
   "metadata": {},
   "outputs": [
    {
     "name": "stdout",
     "output_type": "stream",
     "text": [
      "<class 'pandas.core.frame.DataFrame'>\n",
      "RangeIndex: 373788 entries, 0 to 373787\n",
      "Data columns (total 12 columns):\n",
      " #   Column               Non-Null Count   Dtype \n",
      "---  ------               --------------   ----- \n",
      " 0   week_id              373788 non-null  object\n",
      " 1   ad_id                373788 non-null  object\n",
      " 2   requester            373788 non-null  object\n",
      " 3   region               373788 non-null  object\n",
      " 4   is_success           373788 non-null  object\n",
      " 5   is_sever             69593 non-null   object\n",
      " 6   recommendation_type  373788 non-null  object\n",
      " 7   rec_provider         373788 non-null  object\n",
      " 8   Year                 373788 non-null  int64 \n",
      " 9   Week_number          373788 non-null  int64 \n",
      " 10  success_int          373788 non-null  int64 \n",
      " 11  is_sever_fillNaNs    373788 non-null  bool  \n",
      "dtypes: bool(1), int64(3), object(8)\n",
      "memory usage: 31.7+ MB\n",
      "None\n"
     ]
    },
    {
     "data": {
      "text/html": [
       "<div>\n",
       "<style scoped>\n",
       "    .dataframe tbody tr th:only-of-type {\n",
       "        vertical-align: middle;\n",
       "    }\n",
       "\n",
       "    .dataframe tbody tr th {\n",
       "        vertical-align: top;\n",
       "    }\n",
       "\n",
       "    .dataframe thead th {\n",
       "        text-align: right;\n",
       "    }\n",
       "</style>\n",
       "<table border=\"1\" class=\"dataframe\">\n",
       "  <thead>\n",
       "    <tr style=\"text-align: right;\">\n",
       "      <th></th>\n",
       "      <th>week_id</th>\n",
       "      <th>ad_id</th>\n",
       "      <th>requester</th>\n",
       "      <th>region</th>\n",
       "      <th>is_success</th>\n",
       "      <th>is_sever</th>\n",
       "      <th>recommendation_type</th>\n",
       "      <th>rec_provider</th>\n",
       "      <th>Year</th>\n",
       "      <th>Week_number</th>\n",
       "      <th>success_int</th>\n",
       "      <th>is_sever_fillNaNs</th>\n",
       "    </tr>\n",
       "  </thead>\n",
       "  <tbody>\n",
       "    <tr>\n",
       "      <th>284781</th>\n",
       "      <td>2022-week_01</td>\n",
       "      <td>AD076YR9JP</td>\n",
       "      <td>Extreme DA</td>\n",
       "      <td>US</td>\n",
       "      <td>Yes</td>\n",
       "      <td>NaN</td>\n",
       "      <td>Yield</td>\n",
       "      <td>DNNY</td>\n",
       "      <td>2022</td>\n",
       "      <td>1</td>\n",
       "      <td>0</td>\n",
       "      <td>False</td>\n",
       "    </tr>\n",
       "    <tr>\n",
       "      <th>185327</th>\n",
       "      <td>2021-week_45</td>\n",
       "      <td>AD07GZ97Y8</td>\n",
       "      <td>Extreme DA</td>\n",
       "      <td>US</td>\n",
       "      <td>Yes</td>\n",
       "      <td>NaN</td>\n",
       "      <td>Yield</td>\n",
       "      <td>DNNY</td>\n",
       "      <td>2021</td>\n",
       "      <td>45</td>\n",
       "      <td>0</td>\n",
       "      <td>False</td>\n",
       "    </tr>\n",
       "    <tr>\n",
       "      <th>108062</th>\n",
       "      <td>2021-week_40</td>\n",
       "      <td>AD08JN88LZ</td>\n",
       "      <td>Crescendo Networks</td>\n",
       "      <td>IN</td>\n",
       "      <td>Yes</td>\n",
       "      <td>NaN</td>\n",
       "      <td>Qality</td>\n",
       "      <td>UserPopQ</td>\n",
       "      <td>2021</td>\n",
       "      <td>40</td>\n",
       "      <td>0</td>\n",
       "      <td>False</td>\n",
       "    </tr>\n",
       "    <tr>\n",
       "      <th>238200</th>\n",
       "      <td>2021-week_49</td>\n",
       "      <td>AD07S8Z88P</td>\n",
       "      <td>Puentes Company</td>\n",
       "      <td>IN</td>\n",
       "      <td>Yes</td>\n",
       "      <td>NaN</td>\n",
       "      <td>Yield</td>\n",
       "      <td>RuleBasedY</td>\n",
       "      <td>2021</td>\n",
       "      <td>49</td>\n",
       "      <td>0</td>\n",
       "      <td>False</td>\n",
       "    </tr>\n",
       "    <tr>\n",
       "      <th>30078</th>\n",
       "      <td>2021-week_35</td>\n",
       "      <td>AD08Q7ML8N</td>\n",
       "      <td>MoJoe Brewing Company</td>\n",
       "      <td>DE</td>\n",
       "      <td>Yes</td>\n",
       "      <td>NaN</td>\n",
       "      <td>Yield</td>\n",
       "      <td>DNNY</td>\n",
       "      <td>2021</td>\n",
       "      <td>35</td>\n",
       "      <td>0</td>\n",
       "      <td>False</td>\n",
       "    </tr>\n",
       "    <tr>\n",
       "      <th>277621</th>\n",
       "      <td>2022-week_01</td>\n",
       "      <td>AD07XG6ZJT</td>\n",
       "      <td>RelayFoods</td>\n",
       "      <td>IN</td>\n",
       "      <td>Yes</td>\n",
       "      <td>NaN</td>\n",
       "      <td>Qality</td>\n",
       "      <td>UserPopQ</td>\n",
       "      <td>2022</td>\n",
       "      <td>1</td>\n",
       "      <td>0</td>\n",
       "      <td>False</td>\n",
       "    </tr>\n",
       "    <tr>\n",
       "      <th>312586</th>\n",
       "      <td>2022-week_03</td>\n",
       "      <td>AD08G8W888</td>\n",
       "      <td>Extreme DA</td>\n",
       "      <td>US</td>\n",
       "      <td>No</td>\n",
       "      <td>True</td>\n",
       "      <td>Yield</td>\n",
       "      <td>DNNY</td>\n",
       "      <td>2022</td>\n",
       "      <td>3</td>\n",
       "      <td>0</td>\n",
       "      <td>True</td>\n",
       "    </tr>\n",
       "  </tbody>\n",
       "</table>\n",
       "</div>"
      ],
      "text/plain": [
       "             week_id       ad_id              requester region is_success  \\\n",
       "284781  2022-week_01  AD076YR9JP             Extreme DA     US        Yes   \n",
       "185327  2021-week_45  AD07GZ97Y8             Extreme DA     US        Yes   \n",
       "108062  2021-week_40  AD08JN88LZ     Crescendo Networks     IN        Yes   \n",
       "238200  2021-week_49  AD07S8Z88P        Puentes Company     IN        Yes   \n",
       "30078   2021-week_35  AD08Q7ML8N  MoJoe Brewing Company     DE        Yes   \n",
       "277621  2022-week_01  AD07XG6ZJT             RelayFoods     IN        Yes   \n",
       "312586  2022-week_03  AD08G8W888             Extreme DA     US         No   \n",
       "\n",
       "       is_sever recommendation_type rec_provider  Year  Week_number  \\\n",
       "284781      NaN               Yield         DNNY  2022            1   \n",
       "185327      NaN               Yield         DNNY  2021           45   \n",
       "108062      NaN              Qality     UserPopQ  2021           40   \n",
       "238200      NaN               Yield   RuleBasedY  2021           49   \n",
       "30078       NaN               Yield         DNNY  2021           35   \n",
       "277621      NaN              Qality     UserPopQ  2022            1   \n",
       "312586     True               Yield         DNNY  2022            3   \n",
       "\n",
       "        success_int  is_sever_fillNaNs  \n",
       "284781            0              False  \n",
       "185327            0              False  \n",
       "108062            0              False  \n",
       "238200            0              False  \n",
       "30078             0              False  \n",
       "277621            0              False  \n",
       "312586            0               True  "
      ]
     },
     "execution_count": 91,
     "metadata": {},
     "output_type": "execute_result"
    }
   ],
   "source": [
    "print(ad_recs_annotated.info())\n",
    "ad_recs_annotated.sample(7)\n",
    "\n",
    "#ad_recs_annotated['is_sever'].notnull().sum()\n",
    "\n"
   ]
  },
  {
   "cell_type": "markdown",
   "id": "e1a4707e-5673-4bec-bf9a-51aaf633b09f",
   "metadata": {},
   "source": [
    "### Subset selection"
   ]
  },
  {
   "cell_type": "markdown",
   "id": "6e4087a0-8706-471d-ae78-d9c47534f6b8",
   "metadata": {},
   "source": [
    "for each question, sub-select the data by using the conditional selection (`[]`) and the `.query` API. Use `.shape` on the subselection to obtain the result.  \n",
    "For example:\n",
    "`df.query('some_condition').shape`"
   ]
  },
  {
   "cell_type": "markdown",
   "id": "df326ef2-83c4-400f-bb51-f47db2401ee3",
   "metadata": {},
   "source": [
    "1. How many requests are there in US region? \n",
    "1. How many **successful** requests are there in US region? \n",
    "1. How many **successful** requests are there in US region, on week 52?\n",
    "1. How many requests where delivered by DNNQ, RNNY and UserPopQ together? \n",
    "1. How many requests where delivered by rule based providers? \n",
    "1. Select only the requests from 2021 - How many are there? \n",
    "1. Select the reqeusts from week 30 to week 40 - How many are there? \n",
    "1. Select all the data that comes from the most popular Ad\n",
    "1. Select all the data that comes from the least popular provider\n",
    "1. Select the data in which is_sever is None. How big is it? \n",
    "1. Select the data in which the requester is a 3 word company\n",
    "1. Select the data in which the requester is a 3 word company, and the ad_id has the letter 6 in it\n",
    "1. Select the data in which the requester is a 3 word company, and the multiplication of all the numbers in the ad_id is bigger than 30"
   ]
  },
  {
   "cell_type": "code",
   "execution_count": 93,
   "id": "b76b51c0-e67a-4e9f-9833-066db08bb0c0",
   "metadata": {},
   "outputs": [
    {
     "data": {
      "text/plain": [
       "(100645, 12)"
      ]
     },
     "execution_count": 93,
     "metadata": {},
     "output_type": "execute_result"
    }
   ],
   "source": [
    "#1is_success\n",
    "ad_recs_annotated.loc[ad_recs_annotated['region']=='US'].shape\n",
    "ad_recs_annotated.query(\"region=='US'\").shape\n",
    "#2\n",
    "ad_recs_annotated.loc[(ad_recs_annotated['region']=='US') & (ad_recs_annotated['is_success']=='Yes')].shape\n",
    "#3\n",
    "week_52=ad_recs_annotated['week_id'].apply(lambda x: x.find('week_52')!=-1)\n",
    "ad_recs_annotated.loc[(ad_recs_annotated['region']=='US') & (ad_recs_annotated['is_success']=='Yes') &(week_52)].shape\n",
    "#4\n",
    "\n",
    "ad_recs_annotated.loc[(ad_recs_annotated['rec_provider']=='DNNQ')|(ad_recs_annotated['rec_provider']=='RNNY') |(ad_recs_annotated['rec_provider']==' UserPopQ together')  ].shape\n",
    "ad_recs_annotated.loc[(ad_recs_annotated['rec_provider'].isin(['DNNQ', 'RNNY',' UserPopQ together']))].shape\n",
    "\n",
    "#5\n",
    "\n",
    "#6\n",
    "ad_recs_annotated.loc[ad_recs_annotated['Year']=='2021'].shape\n",
    "\n",
    "#7\n",
    "ad_recs_annotated.loc[(ad_recs_annotated['Week_number']>30) & (ad_recs_annotated['Week_number']<40)].shape\n",
    "\n",
    "#8\n",
    "\n",
    "\n",
    "#9\n",
    "\n"
   ]
  },
  {
   "cell_type": "markdown",
   "id": "11d8b056-c777-490a-b26d-949ee8755561",
   "metadata": {},
   "source": [
    "### Analysis"
   ]
  },
  {
   "cell_type": "markdown",
   "id": "ccae8707-2c86-424a-bd55-73496219adbe",
   "metadata": {},
   "source": [
    "1. How many weeks available in the data? Are there any missing weeks? \n",
    "1. How many regions available in the data? Are there any missing weeks per region? \n",
    "1. How many ads are being sent to annotation in each region per week?\n",
    "1. How many None values are there in is_sever column? \n",
    "1. Are ads being sent more than one time in a given week? what is the ad_id that was sent the most in a given week? (e.g. ad X where sent 50 times in week Y)\n",
    "1. Are there ads that are being sent in more than one week?\n",
    "   1. Which is the ad that was sent in most amount of weeks (e.g. ad X where sent in Y different weeks)\n",
    "   2. What are the weeks that the ad from above was sent in? \n",
    "   3. Is there an Ad that was succsefull in one week, but not succesfful in a different week? Show one.\n",
    "1. When is_sever is None, what is the number of successful requests? What is the number of non-successful requests? What do you learn from it about the reason for Nones in the first place? \n",
    "1. Per each region, What is the Quality/Yield traffic proportion WoW? \n",
    "1. How many different reqeusters are there? \n",
    "1. Which are the top 5 requesters per region? \n",
    "1. Which are the different rec_proivders?\n",
    "1. Are there different rec providers per region? \n",
    "1. Are there different rec providers per rec type?\n",
    "1. What are the notation rules distinguishing between quality vs yielding providers?\n",
    "1. Which is the most successful region of operation? \n",
    "1. Which is the most successful rec provider per each region? \n",
    "1. Present a table with a success rate, sever defects rate and CI (for each metric) per region\n",
    "1. Present a table with a success rate, sever defects rate and CI (for each metric) per rec provider\n",
    "1. Present a table with a success rate, sever defects rate and CI (for each metric) per region and rec provider combinations\n",
    "1. Present a table with a success rate, sever defects rate and CI (for each metric) per rec type (Q/Y)\n",
    "1. Present a table with a success rate, sever defects rate and CI (for each metric) per rec type and region\n",
    "1. Present WoW table/graph with success rate and CI (see image below) per region\n",
    "1. Present WoW table/graph with success rate and CI (see image below) per region and rec type\n",
    "1. Present WoW table/graph with success rate and CI (see image below) per region and rec provider\n",
    "1. Which are the requester to which we succeed the most?\n",
    "1. Which are the requester to which we produce the most critical defects?\n",
    "1. What is the overall success rate trend over time? \n",
    "1. What is the overall sever defect rate trend over time? \n",
    "1. Preset a WoW graph showing the number of requests per customer in each region (hint: [use stacked bars](https://plotly.com/python/bar-charts/)), from it:\n",
    "  1. Identify major traffic shape changes (addition/removal) of major clients\n",
    "1. Preset a WoW graph showing the **requests proportion** per customer in each region (hint: [use stacked bars](https://plotly.com/python/bar-charts/)), from it:\n",
    "  1. Identify major traffic shape changes (addition/removal) of major clients\n"
   ]
  },
  {
   "cell_type": "markdown",
   "id": "ccd49645-542e-4dbf-b0c4-b197c974a528",
   "metadata": {},
   "source": [
    "Analysis Bonus questions:\n",
    "1. Compute the per region success rate and CI in trailing weeks, Say, 4 weeks instead of 1 week - to allow for smoother estimations and smaller CIs"
   ]
  },
  {
   "cell_type": "markdown",
   "id": "a7b125da-e9d6-41d4-974c-cc333660995c",
   "metadata": {},
   "source": [
    "### Compactization"
   ]
  },
  {
   "cell_type": "markdown",
   "id": "905e4e19-8ceb-44b1-8496-eb14e107ccbd",
   "metadata": {},
   "source": [
    "* Are there duplicated ads? To compac the data, remove duplicated ads and instead add an ad_count column **(pay attention, this is not trivial at all)**"
   ]
  },
  {
   "cell_type": "markdown",
   "id": "cbd7201c-98c2-4d59-a76e-e098dc5d9e43",
   "metadata": {},
   "source": [
    "### Merges and joins"
   ]
  },
  {
   "cell_type": "markdown",
   "id": "d78fa97c-4736-41c5-a649-931808eb8b30",
   "metadata": {},
   "source": [
    "The Wow samples and annotations task were sent and recieve seperatly, per each week. The dataset you were working on was constructed from those files. You can see the files under the `data/weekly` folder, here are the first 10 files:"
   ]
  },
  {
   "cell_type": "code",
   "execution_count": 56,
   "id": "81341f62-9161-4f1a-a678-251baba01564",
   "metadata": {},
   "outputs": [
    {
     "ename": "FileNotFoundError",
     "evalue": "[WinError 3] The system cannot find the path specified: 'data/weekly/'",
     "output_type": "error",
     "traceback": [
      "\u001b[1;31m---------------------------------------------------------------------------\u001b[0m",
      "\u001b[1;31mFileNotFoundError\u001b[0m                         Traceback (most recent call last)",
      "\u001b[1;32m~\\AppData\\Local\\Temp\\ipykernel_3932\\3900050169.py\u001b[0m in \u001b[0;36m<module>\u001b[1;34m\u001b[0m\n\u001b[0;32m      1\u001b[0m \u001b[1;32mimport\u001b[0m \u001b[0mos\u001b[0m\u001b[1;33m\u001b[0m\u001b[1;33m\u001b[0m\u001b[0m\n\u001b[1;32m----> 2\u001b[1;33m \u001b[0mweekly_files\u001b[0m \u001b[1;33m=\u001b[0m \u001b[0mos\u001b[0m\u001b[1;33m.\u001b[0m\u001b[0mlistdir\u001b[0m\u001b[1;33m(\u001b[0m\u001b[1;34m'data/weekly/'\u001b[0m\u001b[1;33m)\u001b[0m\u001b[1;33m\u001b[0m\u001b[1;33m\u001b[0m\u001b[0m\n\u001b[0m\u001b[0;32m      3\u001b[0m \u001b[0msorted\u001b[0m\u001b[1;33m(\u001b[0m\u001b[0mweekly_files\u001b[0m\u001b[1;33m)\u001b[0m\u001b[1;33m[\u001b[0m\u001b[1;33m:\u001b[0m\u001b[1;36m10\u001b[0m\u001b[1;33m]\u001b[0m\u001b[1;33m\u001b[0m\u001b[1;33m\u001b[0m\u001b[0m\n",
      "\u001b[1;31mFileNotFoundError\u001b[0m: [WinError 3] The system cannot find the path specified: 'data/weekly/'"
     ]
    }
   ],
   "source": [
    "import os\n",
    "weekly_files = os.listdir('data/weekly/')\n",
    "sorted(weekly_files)[:10]"
   ]
  },
  {
   "cell_type": "markdown",
   "id": "a0882bd4-9b7a-4ea1-a047-348e5e3f0980",
   "metadata": {},
   "source": [
    "Your task is to reconstruct the dataset above. "
   ]
  },
  {
   "cell_type": "markdown",
   "id": "2405d189-8570-4c86-aa35-320a173779a1",
   "metadata": {},
   "source": [
    "### Visualizations"
   ]
  },
  {
   "cell_type": "markdown",
   "id": "8323da48-3adf-4a9b-b692-7dc528990d5c",
   "metadata": {},
   "source": [
    "Produce the following success rate graph per region:"
   ]
  },
  {
   "cell_type": "code",
   "execution_count": 96,
   "id": "42143ac6-1cee-42f8-9eeb-fe7d04683434",
   "metadata": {},
   "outputs": [
    {
     "data": {
      "application/vnd.plotly.v1+json": {
       "config": {
        "plotlyServerURL": "https://plot.ly"
       },
       "data": [
        {
         "error_y": {
          "array": [
           0.015841741621591608,
           0.01620214133972794,
           0.015814452025429384,
           0.016145568698129116,
           0.015802442584340257,
           0.015825607925248994,
           0.015061892331367835,
           0.0160341253686106,
           0.01555439002263373,
           0.01595113950476852,
           0.016805771202111207,
           0.017227572153532284,
           0.015736208288505252,
           0.015679366056619636,
           0.015286521429184956,
           0.015241020400256865,
           0.015220579606453408,
           0.01505302634999722,
           0.015813279692510337,
           0.01533148596761587,
           0.014638324950638286,
           0.01501922906209145,
           0.01427749197808858,
           0.014498196879692341,
           0.01478049052356122,
           0.015652663592974052
          ]
         },
         "hovertemplate": "region=DE<br>week_id=%{x}<br>Success_rate=%{y}<extra></extra>",
         "legendgroup": "DE",
         "line": {
          "color": "#1F77B4",
          "dash": "solid"
         },
         "mode": "lines",
         "name": "DE",
         "orientation": "v",
         "showlegend": true,
         "type": "scatter",
         "visible": "legendonly",
         "x": [
          "2021-week_33",
          "2021-week_34",
          "2021-week_35",
          "2021-week_36",
          "2021-week_37",
          "2021-week_38",
          "2021-week_39",
          "2021-week_40",
          "2021-week_41",
          "2021-week_42",
          "2021-week_43",
          "2021-week_44",
          "2021-week_45",
          "2021-week_46",
          "2021-week_47",
          "2021-week_48",
          "2021-week_49",
          "2021-week_50",
          "2021-week_51",
          "2022-week_01",
          "2022-week_02",
          "2022-week_03",
          "2022-week_04",
          "2022-week_05",
          "2022-week_06",
          "2022-week_52"
         ],
         "xaxis": "x",
         "y": [
          0.8058455114822547,
          0.7978813559322034,
          0.8069368992895947,
          0.795085381091212,
          0.8061564059900166,
          0.8058333333333333,
          0.8284171167428334,
          0.799082951229679,
          0.8145060441850771,
          0.8021702838063439,
          0.7714762301918265,
          0.7647058823529411,
          0.8084929225645295,
          0.8152081563296517,
          0.822037422037422,
          0.8221670802315963,
          0.8263976460697772,
          0.828761429758936,
          0.8050601410203235,
          0.8209825145711906,
          0.8412698412698413,
          0.8322119428090833,
          0.8528541226215645,
          0.8459277917716205,
          0.8354011579818031,
          0.8131821998320738
         ],
         "yaxis": "y"
        },
        {
         "error_y": {
          "array": [
           0.01242144189123231,
           0.012688393581111483,
           0.012179235430522127,
           0.012749658978748957,
           0.0123317370436007,
           0.012795604789887916,
           0.013795857356650693,
           0.013559944295216992,
           0.012979117072354458,
           0.013092245021972182,
           0.013247918909018198,
           0.012948213869355511,
           0.012223261768773653,
           0.01172523089593593,
           0.011228133004979626,
           0.01250638771630859,
           0.012723836238285208,
           0.012722301032230276,
           0.013050111873481996,
           0.012844275791000531,
           0.013031084029980173,
           0.013322502177332624,
           0.013159417708097034,
           0.01334460381812566,
           0.01233568682610417,
           0.013022105780641668
          ]
         },
         "hovertemplate": "region=GB<br>week_id=%{x}<br>Success_rate=%{y}<extra></extra>",
         "legendgroup": "GB",
         "line": {
          "color": "#FF7F0E",
          "dash": "solid"
         },
         "mode": "lines",
         "name": "GB",
         "orientation": "v",
         "showlegend": true,
         "type": "scatter",
         "visible": "legendonly",
         "x": [
          "2021-week_33",
          "2021-week_34",
          "2021-week_35",
          "2021-week_36",
          "2021-week_37",
          "2021-week_38",
          "2021-week_39",
          "2021-week_40",
          "2021-week_41",
          "2021-week_42",
          "2021-week_43",
          "2021-week_44",
          "2021-week_45",
          "2021-week_46",
          "2021-week_47",
          "2021-week_48",
          "2021-week_49",
          "2021-week_50",
          "2021-week_51",
          "2022-week_01",
          "2022-week_02",
          "2022-week_03",
          "2022-week_04",
          "2022-week_05",
          "2022-week_06",
          "2022-week_52"
         ],
         "xaxis": "x",
         "y": [
          0.849685534591195,
          0.8412299968622529,
          0.855095045185416,
          0.8379557494546588,
          0.8522477208425023,
          0.8378293601003765,
          0.8019338739862757,
          0.8103394581127374,
          0.8310430980637101,
          0.8297536323436513,
          0.8221875,
          0.8327067669172933,
          0.8534992223950233,
          0.8689503456945318,
          0.8810269254852849,
          0.8449347420758235,
          0.8396994364433312,
          0.839375,
          0.8301886792452831,
          0.8361015355687872,
          0.829940494832446,
          0.8214173228346456,
          0.8275426405559065,
          0.8207309388783869,
          0.8518518518518519,
          0.8307692307692308
         ],
         "yaxis": "y"
        },
        {
         "error_y": {
          "array": [
           0.015347218618285904,
           0.014897880227176688,
           0.014860306773267502,
           0.014660689575409037,
           0.014709438690326034,
           0.014601333562365404,
           0.014671274587798391,
           0.014636873424272754,
           0.014676957841904701,
           0.01476153813126855,
           0.015128610715464355,
           0.014519907636613526,
           0.014120255756661985,
           0.014388819222128972,
           0.01439742111856086,
           0.014597814772436908,
           0.01457338392852597,
           0.014683093394967333,
           0.015080046843528481,
           0.015097034376713019,
           0.01499219457845864,
           0.01469733568108528,
           0.014698874294937854,
           0.014938635370407039,
           0.015048540439883512,
           0.014777430668554704
          ]
         },
         "hovertemplate": "region=IN<br>week_id=%{x}<br>Success_rate=%{y}<extra></extra>",
         "legendgroup": "IN",
         "line": {
          "color": "#2CA02C",
          "dash": "solid"
         },
         "mode": "lines",
         "name": "IN",
         "orientation": "v",
         "showlegend": true,
         "type": "scatter",
         "visible": "legendonly",
         "x": [
          "2021-week_33",
          "2021-week_34",
          "2021-week_35",
          "2021-week_36",
          "2021-week_37",
          "2021-week_38",
          "2021-week_39",
          "2021-week_40",
          "2021-week_41",
          "2021-week_42",
          "2021-week_43",
          "2021-week_44",
          "2021-week_45",
          "2021-week_46",
          "2021-week_47",
          "2021-week_48",
          "2021-week_49",
          "2021-week_50",
          "2021-week_51",
          "2022-week_01",
          "2022-week_02",
          "2022-week_03",
          "2022-week_04",
          "2022-week_05",
          "2022-week_06",
          "2022-week_52"
         ],
         "xaxis": "x",
         "y": [
          0.7324780976220275,
          0.7530288909599254,
          0.7559987535057651,
          0.7650171179582944,
          0.7659440779139177,
          0.7716535433070866,
          0.7646326276463262,
          0.7684111563773112,
          0.7641568139390168,
          0.7605107443164123,
          0.746536523929471,
          0.7755359394703657,
          0.7895065584009994,
          0.7755417956656346,
          0.780119534444794,
          0.7750556792873051,
          0.7710616974632007,
          0.7658841940532082,
          0.7439403356121814,
          0.7471733668341709,
          0.7498440424204617,
          0.7639538509510446,
          0.7591510304521686,
          0.7529668956901936,
          0.7489028213166145,
          0.7628023876845743
         ],
         "yaxis": "y"
        },
        {
         "error_y": {
          "array": [
           0.022567061594892267,
           0.022492280006980565,
           0.02229880039235783,
           0.02239881765693253,
           0.02211079183999325,
           0.022753255531973833,
           0.022254932348179785,
           0.022036884230609056,
           0.021095958009834617,
           0.02041165793670121,
           0.020130744269165966,
           0.020300209168818098,
           0.020029105629969075,
           0.02070255736749451,
           0.0201784859515891,
           0.02080016955288089,
           0.020099328552167072,
           0.019449261659700134,
           0.019160373459579678,
           0.019405142510941303,
           0.019311174573904865,
           0.019658333506847977,
           0.018711462868199576,
           0.01961364401032071,
           0.013779104169256108
          ]
         },
         "hovertemplate": "region=JP<br>week_id=%{x}<br>Success_rate=%{y}<extra></extra>",
         "legendgroup": "JP",
         "line": {
          "color": "#D62728",
          "dash": "solid"
         },
         "mode": "lines",
         "name": "JP",
         "orientation": "v",
         "showlegend": true,
         "type": "scatter",
         "visible": "legendonly",
         "x": [
          "2021-week_33",
          "2021-week_34",
          "2021-week_35",
          "2021-week_36",
          "2021-week_37",
          "2021-week_38",
          "2021-week_39",
          "2021-week_40",
          "2021-week_41",
          "2021-week_42",
          "2021-week_43",
          "2021-week_44",
          "2021-week_45",
          "2021-week_46",
          "2021-week_47",
          "2021-week_48",
          "2021-week_49",
          "2021-week_50",
          "2022-week_01",
          "2022-week_02",
          "2022-week_03",
          "2022-week_04",
          "2022-week_05",
          "2022-week_06",
          "2022-week_52"
         ],
         "xaxis": "x",
         "y": [
          0.6908752327746741,
          0.6985616010006254,
          0.7132911392405064,
          0.7061044682190056,
          0.7019464720194647,
          0.6875784190715182,
          0.7112366603892027,
          0.7132262051915945,
          0.7603305785123967,
          0.776735459662289,
          0.7853566958698373,
          0.7774333539987601,
          0.7833846153846153,
          0.7696664568911264,
          0.7779141104294478,
          0.7609907120743034,
          0.7901077996195307,
          0.8021091811414393,
          0.8117573483427142,
          0.8029739776951673,
          0.8111533586818758,
          0.8007566204287516,
          0.821917808219178,
          0.7991266375545851,
          0.8045254556882464
         ],
         "yaxis": "y"
        },
        {
         "error_y": {
          "array": [
           0.00981399866983586,
           0.010190785679489786,
           0.010122150292841805,
           0.00975653771750121,
           0.010444868594931845,
           0.01099898337228462,
           0.010384180737036546,
           0.010235909438609515,
           0.010450003620656931,
           0.010727282163406423,
           0.010676396756148438,
           0.011203739243283,
           0.010089114594750538,
           0.010118566527706435,
           0.011148898544602024,
           0.011123352488979239,
           0.010903209992149013,
           0.011149009055661477,
           0.011832036362231785,
           0.011610715695170786,
           0.011433707387973224,
           0.01159959951566055,
           0.011629960773033693,
           0.011480135898660416,
           0.011367426136776687,
           0.011480135898660416
          ]
         },
         "hovertemplate": "region=US<br>week_id=%{x}<br>Success_rate=%{y}<extra></extra>",
         "legendgroup": "US",
         "line": {
          "color": "#9467BD",
          "dash": "solid"
         },
         "mode": "lines",
         "name": "US",
         "orientation": "v",
         "showlegend": true,
         "type": "scatter",
         "visible": true,
         "x": [
          "2021-week_33",
          "2021-week_34",
          "2021-week_35",
          "2021-week_36",
          "2021-week_37",
          "2021-week_38",
          "2021-week_39",
          "2021-week_40",
          "2021-week_41",
          "2021-week_42",
          "2021-week_43",
          "2021-week_44",
          "2021-week_45",
          "2021-week_46",
          "2021-week_47",
          "2021-week_48",
          "2021-week_49",
          "2021-week_50",
          "2021-week_51",
          "2022-week_01",
          "2022-week_02",
          "2022-week_03",
          "2022-week_04",
          "2022-week_05",
          "2022-week_06",
          "2022-week_52"
         ],
         "xaxis": "x",
         "y": [
          0.8877705083039759,
          0.8764353469795307,
          0.8792064289301859,
          0.8891402714932126,
          0.8701005025125628,
          0.8526315789473684,
          0.8711855927963982,
          0.8758465011286681,
          0.8694889779559118,
          0.8606393606393606,
          0.8625782227784731,
          0.8457300275482094,
          0.8796296296296297,
          0.8788485607008761,
          0.8475212819228843,
          0.8476309226932668,
          0.8555332999499249,
          0.8476572287647206,
          0.8230730730730731,
          0.8306310800698429,
          0.8366533864541833,
          0.8326212616235235,
          0.8304576144036009,
          0.8359179589794897,
          0.8401803607214429,
          0.8359179589794897
         ],
         "yaxis": "y"
        }
       ],
       "layout": {
        "autosize": true,
        "legend": {
         "title": {
          "text": "region"
         },
         "tracegroupgap": 0
        },
        "template": {
         "data": {
          "pie": [
           {
            "automargin": true,
            "type": "pie"
           }
          ]
         },
         "layout": {
          "xaxis": {
           "showgrid": true,
           "title": {
            "standoff": 15
           }
          },
          "yaxis": {
           "showgrid": true,
           "title": {
            "standoff": 15
           }
          }
         }
        },
        "title": {
         "text": "Success rate per region",
         "x": 0.5
        },
        "xaxis": {
         "anchor": "y",
         "autorange": false,
         "domain": [
          0,
          1
         ],
         "range": [
          21.50167860682896,
          25.56835389987709
         ],
         "title": {
          "text": "week_id"
         },
         "type": "category"
        },
        "yaxis": {
         "anchor": "x",
         "autorange": false,
         "domain": [
          0,
          1
         ],
         "range": [
          0.7428018598116742,
          0.8602897741503999
         ],
         "title": {
          "text": "Success_rate"
         },
         "type": "linear"
        }
       }
      },
      "image/png": "[encoded data removed]",
      "text/html": [
       "<div>                            <div id=\"32261b76-eb75-499b-99b1-d1e45facf405\" class=\"plotly-graph-div\" style=\"height:500px; width:100%;\"></div>            <script type=\"text/javascript\">                require([\"plotly\"], function(Plotly) {                    window.PLOTLYENV=window.PLOTLYENV || {};                                    if (document.getElementById(\"32261b76-eb75-499b-99b1-d1e45facf405\")) {                    Plotly.newPlot(                        \"32261b76-eb75-499b-99b1-d1e45facf405\",                        [{\"error_y\": {\"array\": [0.015841741621591608, 0.01620214133972794, 0.015814452025429384, 0.016145568698129116, 0.015802442584340257, 0.015825607925248994, 0.015061892331367835, 0.0160341253686106, 0.01555439002263373, 0.01595113950476852, 0.016805771202111207, 0.017227572153532284, 0.015736208288505252, 0.015679366056619636, 0.015286521429184956, 0.015241020400256865, 0.015220579606453408, 0.01505302634999722, 0.015813279692510337, 0.01533148596761587, 0.014638324950638286, 0.01501922906209145, 0.01427749197808858, 0.014498196879692341, 0.01478049052356122, 0.015652663592974052]}, \"hovertemplate\": \"region=DE<br>week_id=%{x}<br>Success_rate=%{y}<extra></extra>\", \"legendgroup\": \"DE\", \"line\": {\"color\": \"#1F77B4\", \"dash\": \"solid\"}, \"mode\": \"lines\", \"name\": \"DE\", \"orientation\": \"v\", \"showlegend\": true, \"type\": \"scatter\", \"x\": [\"2021-week_33\", \"2021-week_34\", \"2021-week_35\", \"2021-week_36\", \"2021-week_37\", \"2021-week_38\", \"2021-week_39\", \"2021-week_40\", \"2021-week_41\", \"2021-week_42\", \"2021-week_43\", \"2021-week_44\", \"2021-week_45\", \"2021-week_46\", \"2021-week_47\", \"2021-week_48\", \"2021-week_49\", \"2021-week_50\", \"2021-week_51\", \"2022-week_01\", \"2022-week_02\", \"2022-week_03\", \"2022-week_04\", \"2022-week_05\", \"2022-week_06\", \"2022-week_52\"], \"xaxis\": \"x\", \"y\": [0.8058455114822547, 0.7978813559322034, 0.8069368992895947, 0.795085381091212, 0.8061564059900166, 0.8058333333333333, 0.8284171167428334, 0.799082951229679, 0.8145060441850771, 0.8021702838063439, 0.7714762301918265, 0.7647058823529411, 0.8084929225645295, 0.8152081563296517, 0.822037422037422, 0.8221670802315963, 0.8263976460697772, 0.828761429758936, 0.8050601410203235, 0.8209825145711906, 0.8412698412698413, 0.8322119428090833, 0.8528541226215645, 0.8459277917716205, 0.8354011579818031, 0.8131821998320738], \"yaxis\": \"y\"}, {\"error_y\": {\"array\": [0.01242144189123231, 0.012688393581111483, 0.012179235430522127, 0.012749658978748957, 0.0123317370436007, 0.012795604789887916, 0.013795857356650693, 0.013559944295216992, 0.012979117072354458, 0.013092245021972182, 0.013247918909018198, 0.012948213869355511, 0.012223261768773653, 0.01172523089593593, 0.011228133004979626, 0.01250638771630859, 0.012723836238285208, 0.012722301032230276, 0.013050111873481996, 0.012844275791000531, 0.013031084029980173, 0.013322502177332624, 0.013159417708097034, 0.01334460381812566, 0.01233568682610417, 0.013022105780641668]}, \"hovertemplate\": \"region=GB<br>week_id=%{x}<br>Success_rate=%{y}<extra></extra>\", \"legendgroup\": \"GB\", \"line\": {\"color\": \"#FF7F0E\", \"dash\": \"solid\"}, \"mode\": \"lines\", \"name\": \"GB\", \"orientation\": \"v\", \"showlegend\": true, \"type\": \"scatter\", \"x\": [\"2021-week_33\", \"2021-week_34\", \"2021-week_35\", \"2021-week_36\", \"2021-week_37\", \"2021-week_38\", \"2021-week_39\", \"2021-week_40\", \"2021-week_41\", \"2021-week_42\", \"2021-week_43\", \"2021-week_44\", \"2021-week_45\", \"2021-week_46\", \"2021-week_47\", \"2021-week_48\", \"2021-week_49\", \"2021-week_50\", \"2021-week_51\", \"2022-week_01\", \"2022-week_02\", \"2022-week_03\", \"2022-week_04\", \"2022-week_05\", \"2022-week_06\", \"2022-week_52\"], \"xaxis\": \"x\", \"y\": [0.849685534591195, 0.8412299968622529, 0.855095045185416, 0.8379557494546588, 0.8522477208425023, 0.8378293601003765, 0.8019338739862757, 0.8103394581127374, 0.8310430980637101, 0.8297536323436513, 0.8221875, 0.8327067669172933, 0.8534992223950233, 0.8689503456945318, 0.8810269254852849, 0.8449347420758235, 0.8396994364433312, 0.839375, 0.8301886792452831, 0.8361015355687872, 0.829940494832446, 0.8214173228346456, 0.8275426405559065, 0.8207309388783869, 0.8518518518518519, 0.8307692307692308], \"yaxis\": \"y\"}, {\"error_y\": {\"array\": [0.015347218618285904, 0.014897880227176688, 0.014860306773267502, 0.014660689575409037, 0.014709438690326034, 0.014601333562365404, 0.014671274587798391, 0.014636873424272754, 0.014676957841904701, 0.01476153813126855, 0.015128610715464355, 0.014519907636613526, 0.014120255756661985, 0.014388819222128972, 0.01439742111856086, 0.014597814772436908, 0.01457338392852597, 0.014683093394967333, 0.015080046843528481, 0.015097034376713019, 0.01499219457845864, 0.01469733568108528, 0.014698874294937854, 0.014938635370407039, 0.015048540439883512, 0.014777430668554704]}, \"hovertemplate\": \"region=IN<br>week_id=%{x}<br>Success_rate=%{y}<extra></extra>\", \"legendgroup\": \"IN\", \"line\": {\"color\": \"#2CA02C\", \"dash\": \"solid\"}, \"mode\": \"lines\", \"name\": \"IN\", \"orientation\": \"v\", \"showlegend\": true, \"type\": \"scatter\", \"x\": [\"2021-week_33\", \"2021-week_34\", \"2021-week_35\", \"2021-week_36\", \"2021-week_37\", \"2021-week_38\", \"2021-week_39\", \"2021-week_40\", \"2021-week_41\", \"2021-week_42\", \"2021-week_43\", \"2021-week_44\", \"2021-week_45\", \"2021-week_46\", \"2021-week_47\", \"2021-week_48\", \"2021-week_49\", \"2021-week_50\", \"2021-week_51\", \"2022-week_01\", \"2022-week_02\", \"2022-week_03\", \"2022-week_04\", \"2022-week_05\", \"2022-week_06\", \"2022-week_52\"], \"xaxis\": \"x\", \"y\": [0.7324780976220275, 0.7530288909599254, 0.7559987535057651, 0.7650171179582944, 0.7659440779139177, 0.7716535433070866, 0.7646326276463262, 0.7684111563773112, 0.7641568139390168, 0.7605107443164123, 0.746536523929471, 0.7755359394703657, 0.7895065584009994, 0.7755417956656346, 0.780119534444794, 0.7750556792873051, 0.7710616974632007, 0.7658841940532082, 0.7439403356121814, 0.7471733668341709, 0.7498440424204617, 0.7639538509510446, 0.7591510304521686, 0.7529668956901936, 0.7489028213166145, 0.7628023876845743], \"yaxis\": \"y\"}, {\"error_y\": {\"array\": [0.022567061594892267, 0.022492280006980565, 0.02229880039235783, 0.02239881765693253, 0.02211079183999325, 0.022753255531973833, 0.022254932348179785, 0.022036884230609056, 0.021095958009834617, 0.02041165793670121, 0.020130744269165966, 0.020300209168818098, 0.020029105629969075, 0.02070255736749451, 0.0201784859515891, 0.02080016955288089, 0.020099328552167072, 0.019449261659700134, 0.019160373459579678, 0.019405142510941303, 0.019311174573904865, 0.019658333506847977, 0.018711462868199576, 0.01961364401032071, 0.013779104169256108]}, \"hovertemplate\": \"region=JP<br>week_id=%{x}<br>Success_rate=%{y}<extra></extra>\", \"legendgroup\": \"JP\", \"line\": {\"color\": \"#D62728\", \"dash\": \"solid\"}, \"mode\": \"lines\", \"name\": \"JP\", \"orientation\": \"v\", \"showlegend\": true, \"type\": \"scatter\", \"x\": [\"2021-week_33\", \"2021-week_34\", \"2021-week_35\", \"2021-week_36\", \"2021-week_37\", \"2021-week_38\", \"2021-week_39\", \"2021-week_40\", \"2021-week_41\", \"2021-week_42\", \"2021-week_43\", \"2021-week_44\", \"2021-week_45\", \"2021-week_46\", \"2021-week_47\", \"2021-week_48\", \"2021-week_49\", \"2021-week_50\", \"2022-week_01\", \"2022-week_02\", \"2022-week_03\", \"2022-week_04\", \"2022-week_05\", \"2022-week_06\", \"2022-week_52\"], \"xaxis\": \"x\", \"y\": [0.6908752327746741, 0.6985616010006254, 0.7132911392405064, 0.7061044682190056, 0.7019464720194647, 0.6875784190715182, 0.7112366603892027, 0.7132262051915945, 0.7603305785123967, 0.776735459662289, 0.7853566958698373, 0.7774333539987601, 0.7833846153846153, 0.7696664568911264, 0.7779141104294478, 0.7609907120743034, 0.7901077996195307, 0.8021091811414393, 0.8117573483427142, 0.8029739776951673, 0.8111533586818758, 0.8007566204287516, 0.821917808219178, 0.7991266375545851, 0.8045254556882464], \"yaxis\": \"y\"}, {\"error_y\": {\"array\": [0.00981399866983586, 0.010190785679489786, 0.010122150292841805, 0.00975653771750121, 0.010444868594931845, 0.01099898337228462, 0.010384180737036546, 0.010235909438609515, 0.010450003620656931, 0.010727282163406423, 0.010676396756148438, 0.011203739243283, 0.010089114594750538, 0.010118566527706435, 0.011148898544602024, 0.011123352488979239, 0.010903209992149013, 0.011149009055661477, 0.011832036362231785, 0.011610715695170786, 0.011433707387973224, 0.01159959951566055, 0.011629960773033693, 0.011480135898660416, 0.011367426136776687, 0.011480135898660416]}, \"hovertemplate\": \"region=US<br>week_id=%{x}<br>Success_rate=%{y}<extra></extra>\", \"legendgroup\": \"US\", \"line\": {\"color\": \"#9467BD\", \"dash\": \"solid\"}, \"mode\": \"lines\", \"name\": \"US\", \"orientation\": \"v\", \"showlegend\": true, \"type\": \"scatter\", \"x\": [\"2021-week_33\", \"2021-week_34\", \"2021-week_35\", \"2021-week_36\", \"2021-week_37\", \"2021-week_38\", \"2021-week_39\", \"2021-week_40\", \"2021-week_41\", \"2021-week_42\", \"2021-week_43\", \"2021-week_44\", \"2021-week_45\", \"2021-week_46\", \"2021-week_47\", \"2021-week_48\", \"2021-week_49\", \"2021-week_50\", \"2021-week_51\", \"2022-week_01\", \"2022-week_02\", \"2022-week_03\", \"2022-week_04\", \"2022-week_05\", \"2022-week_06\", \"2022-week_52\"], \"xaxis\": \"x\", \"y\": [0.8877705083039759, 0.8764353469795307, 0.8792064289301859, 0.8891402714932126, 0.8701005025125628, 0.8526315789473684, 0.8711855927963982, 0.8758465011286681, 0.8694889779559118, 0.8606393606393606, 0.8625782227784731, 0.8457300275482094, 0.8796296296296297, 0.8788485607008761, 0.8475212819228843, 0.8476309226932668, 0.8555332999499249, 0.8476572287647206, 0.8230730730730731, 0.8306310800698429, 0.8366533864541833, 0.8326212616235235, 0.8304576144036009, 0.8359179589794897, 0.8401803607214429, 0.8359179589794897], \"yaxis\": \"y\"}],                        {\"height\": 500, \"legend\": {\"title\": {\"text\": \"region\"}, \"tracegroupgap\": 0}, \"template\": {\"data\": {\"pie\": [{\"automargin\": true, \"type\": \"pie\"}]}, \"layout\": {\"xaxis\": {\"showgrid\": true, \"title\": {\"standoff\": 15}}, \"yaxis\": {\"showgrid\": true, \"title\": {\"standoff\": 15}}}}, \"title\": {\"text\": \"Success rate per region\", \"x\": 0.5}, \"xaxis\": {\"anchor\": \"y\", \"domain\": [0.0, 1.0], \"title\": {\"text\": \"week_id\"}}, \"yaxis\": {\"anchor\": \"x\", \"domain\": [0.0, 1.0], \"title\": {\"text\": \"Success_rate\"}}},                        {\"responsive\": true}                    ).then(function(){\n",
       "                            \n",
       "var gd = document.getElementById('32261b76-eb75-499b-99b1-d1e45facf405');\n",
       "var x = new MutationObserver(function (mutations, observer) {{\n",
       "        var display = window.getComputedStyle(gd).display;\n",
       "        if (!display || display === 'none') {{\n",
       "            console.log([gd, 'removed!']);\n",
       "            Plotly.purge(gd);\n",
       "            observer.disconnect();\n",
       "        }}\n",
       "}});\n",
       "\n",
       "// Listen for the removal of the full notebook cells\n",
       "var notebookContainer = gd.closest('#notebook-container');\n",
       "if (notebookContainer) {{\n",
       "    x.observe(notebookContainer, {childList: true});\n",
       "}}\n",
       "\n",
       "// Listen for the clearing of the current output cell\n",
       "var outputEl = gd.closest('.output');\n",
       "if (outputEl) {{\n",
       "    x.observe(outputEl, {childList: true});\n",
       "}}\n",
       "\n",
       "                        })                };                });            </script>        </div>"
      ]
     },
     "metadata": {},
     "output_type": "display_data"
    }
   ],
   "source": []
  },
  {
   "cell_type": "markdown",
   "id": "f417703c-0d93-4aee-8a3c-24d6c9e66978",
   "metadata": {},
   "source": [
    "Produce the following requestser proportion graph:"
   ]
  },
  {
   "cell_type": "code",
   "execution_count": 103,
   "id": "5d89892f-ca63-4273-b917-2c0d4ef91a79",
   "metadata": {},
   "outputs": [
    {
     "data": {
      "application/vnd.plotly.v1+json": {
       "config": {
        "linkText": "Export to plot.ly",
        "plotlyServerURL": "https://plot.ly",
        "showLink": true
       },
       "data": [
        {
         "marker": {
          "color": "rgba(255, 153, 51, 0.6)",
          "line": {
           "color": "rgba(255, 153, 51, 1.0)",
           "width": 1
          }
         },
         "name": "Allthetopbananas.com",
         "orientation": "v",
         "text": "",
         "type": "bar",
         "visible": true,
         "x": [
          "2021-week_33",
          "2021-week_34",
          "2021-week_35",
          "2021-week_36",
          "2021-week_37",
          "2021-week_38",
          "2021-week_39",
          "2021-week_40",
          "2021-week_41",
          "2021-week_42",
          "2021-week_43",
          "2021-week_44",
          "2021-week_45",
          "2021-week_46",
          "2021-week_47",
          "2021-week_48",
          "2021-week_49",
          "2021-week_50",
          "2021-week_51",
          "2022-week_01",
          "2022-week_02",
          "2022-week_03",
          "2022-week_04",
          "2022-week_05",
          "2022-week_06",
          "2022-week_52"
         ],
         "y": [
          0.0004876010030649206,
          0.00020875374017117806,
          0.0004870242816391846,
          0.0009728978457261987,
          0.000764313507504169,
          0.0009758137589740016,
          0.000416204217536071,
          0.0009718172983479105,
          0.0006954102920723226,
          0.0002782415136338342,
          0.00020881186051367718,
          0.0006993496048674732,
          0.00110803324099723,
          0.0007665505226480836,
          0.00034717400361060965,
          0.0004859761177450708,
          0.0005579967915184488,
          0.0005554012774229381,
          0.00046856696602889497,
          0.0004171011470281543,
          0.0004853359217915829,
          0.0005587762799469162,
          0.0005568316280364725,
          0.00034814092744743074,
          0.00027799013135033706,
          0.0008788449466415569
         ]
        },
        {
         "marker": {
          "color": "rgba(55, 128, 191, 0.6)",
          "line": {
           "color": "rgba(55, 128, 191, 1.0)",
           "width": 1
          }
         },
         "name": "Altammune",
         "orientation": "v",
         "text": "",
         "type": "bar",
         "visible": true,
         "x": [
          "2021-week_33",
          "2021-week_34",
          "2021-week_35",
          "2021-week_36",
          "2021-week_37",
          "2021-week_38",
          "2021-week_39",
          "2021-week_40",
          "2021-week_41",
          "2021-week_42",
          "2021-week_43",
          "2021-week_44",
          "2021-week_45",
          "2021-week_46",
          "2021-week_47",
          "2021-week_48",
          "2021-week_49",
          "2021-week_50",
          "2021-week_51",
          "2022-week_01",
          "2022-week_02",
          "2022-week_03",
          "2022-week_04",
          "2022-week_05",
          "2022-week_06",
          "2022-week_52"
         ],
         "y": [
          "",
          "",
          6.957489737702637e-05,
          "",
          "",
          6.970098278385725e-05,
          "",
          0.00013883104262113008,
          "",
          6.956037840845854e-05,
          "",
          "",
          "",
          "",
          "",
          "",
          "",
          "",
          "",
          "",
          "",
          "",
          "",
          "",
          "",
          ""
         ]
        },
        {
         "marker": {
          "color": "rgba(50, 171, 96, 0.6)",
          "line": {
           "color": "rgba(50, 171, 96, 1.0)",
           "width": 1
          }
         },
         "name": "Bizanga",
         "orientation": "v",
         "text": "",
         "type": "bar",
         "visible": true,
         "x": [
          "2021-week_33",
          "2021-week_34",
          "2021-week_35",
          "2021-week_36",
          "2021-week_37",
          "2021-week_38",
          "2021-week_39",
          "2021-week_40",
          "2021-week_41",
          "2021-week_42",
          "2021-week_43",
          "2021-week_44",
          "2021-week_45",
          "2021-week_46",
          "2021-week_47",
          "2021-week_48",
          "2021-week_49",
          "2021-week_50",
          "2021-week_51",
          "2022-week_01",
          "2022-week_02",
          "2022-week_03",
          "2022-week_04",
          "2022-week_05",
          "2022-week_06",
          "2022-week_52"
         ],
         "y": [
          0.007174700473669545,
          0.006888873425648877,
          0.005705141584916162,
          0.005281445448227936,
          0.005350194552529183,
          0.005436676657140866,
          0.004786348501664817,
          0.004442593363876163,
          0.005980528511821975,
          0.006886477462437396,
          0.004941880698823693,
          0.004126162668718092,
          0.004224376731301939,
          0.006202090592334495,
          0.007082349673656437,
          0.006248264371008053,
          0.0076724558833786705,
          0.006803665648430992,
          0.006794221007418977,
          0.007438303788668752,
          0.006378700686403661,
          0.004540057274568694,
          0.003758613489246189,
          0.0034117810889848213,
          0.003891861838904719,
          0.006089139987445072
         ]
        },
        {
         "marker": {
          "color": "rgba(128, 0, 128, 0.6)",
          "line": {
           "color": "rgba(128, 0, 128, 1.0)",
           "width": 1
          }
         },
         "name": "Crescendo Networks",
         "orientation": "v",
         "text": "",
         "type": "bar",
         "visible": true,
         "x": [
          "2021-week_33",
          "2021-week_34",
          "2021-week_35",
          "2021-week_36",
          "2021-week_37",
          "2021-week_38",
          "2021-week_39",
          "2021-week_40",
          "2021-week_41",
          "2021-week_42",
          "2021-week_43",
          "2021-week_44",
          "2021-week_45",
          "2021-week_46",
          "2021-week_47",
          "2021-week_48",
          "2021-week_49",
          "2021-week_50",
          "2021-week_51",
          "2022-week_01",
          "2022-week_02",
          "2022-week_03",
          "2022-week_04",
          "2022-week_05",
          "2022-week_06",
          "2022-week_52"
         ],
         "y": [
          0.0030649205906937865,
          0.0057059355646788676,
          0.00480066791901482,
          0.007366226546212648,
          0.006183991106170094,
          0.006482191398898725,
          0.0054106548279689234,
          0.017700957934194086,
          0.006397774687065368,
          0.0034084585420144685,
          0.004106633256768985,
          0.004685642352612071,
          0.0033240997229916896,
          0.010871080139372822,
          0.003749479238994584,
          0.003748958622604832,
          0.004463974332147591,
          0.003957234101638433,
          0.006247559547051933,
          0.0026416405978449773,
          0.0033973514525410804,
          0.002584340294754488,
          0.0030625739542005986,
          0.003342152903495335,
          0.002084925985127528,
          0.005712492153170119
         ]
        },
        {
         "marker": {
          "color": "rgba(219, 64, 82, 0.6)",
          "line": {
           "color": "rgba(219, 64, 82, 1.0)",
           "width": 1
          }
         },
         "name": "Cue",
         "orientation": "v",
         "text": "",
         "type": "bar",
         "visible": true,
         "x": [
          "2021-week_33",
          "2021-week_34",
          "2021-week_35",
          "2021-week_36",
          "2021-week_37",
          "2021-week_38",
          "2021-week_39",
          "2021-week_40",
          "2021-week_41",
          "2021-week_42",
          "2021-week_43",
          "2021-week_44",
          "2021-week_45",
          "2021-week_46",
          "2021-week_47",
          "2021-week_48",
          "2021-week_49",
          "2021-week_50",
          "2021-week_51",
          "2022-week_01",
          "2022-week_02",
          "2022-week_03",
          "2022-week_04",
          "2022-week_05",
          "2022-week_06",
          "2022-week_52"
         ],
         "y": [
          "",
          6.958458005705935e-05,
          "",
          "",
          "",
          0.0001394019655677145,
          "",
          6.941552131056504e-05,
          "",
          "",
          "",
          "",
          "",
          "",
          "",
          "",
          "",
          "",
          "",
          "",
          "",
          "",
          "",
          "",
          "",
          ""
         ]
        },
        {
         "marker": {
          "color": "rgba(0, 128, 128, 0.6)",
          "line": {
           "color": "rgba(0, 128, 128, 1.0)",
           "width": 1
          }
         },
         "name": "Cuiker",
         "orientation": "v",
         "text": "",
         "type": "bar",
         "visible": true,
         "x": [
          "2021-week_33",
          "2021-week_34",
          "2021-week_35",
          "2021-week_36",
          "2021-week_37",
          "2021-week_38",
          "2021-week_39",
          "2021-week_40",
          "2021-week_41",
          "2021-week_42",
          "2021-week_43",
          "2021-week_44",
          "2021-week_45",
          "2021-week_46",
          "2021-week_47",
          "2021-week_48",
          "2021-week_49",
          "2021-week_50",
          "2021-week_51",
          "2022-week_01",
          "2022-week_02",
          "2022-week_03",
          "2022-week_04",
          "2022-week_05",
          "2022-week_06",
          "2022-week_52"
         ],
         "y": [
          6.965728615213152e-05,
          6.958458005705935e-05,
          6.957489737702637e-05,
          6.949270326615705e-05,
          "",
          "",
          "",
          "",
          6.954102920723227e-05,
          6.956037840845854e-05,
          6.960395350455906e-05,
          "",
          6.925207756232688e-05,
          6.968641114982578e-05,
          0.00013886960144424384,
          "",
          0.0002092487968194183,
          0.00013885031935573453,
          7.809449433814917e-05,
          6.951685783802571e-05,
          6.933370311308327e-05,
          6.984703499336453e-05,
          "",
          "",
          6.949753283758427e-05,
          6.277463904582549e-05
         ]
        },
        {
         "marker": {
          "color": "rgba(255, 255, 51, 0.6)",
          "line": {
           "color": "rgba(255, 255, 51, 1.0)",
           "width": 1
          }
         },
         "name": "Derceto",
         "orientation": "v",
         "text": "",
         "type": "bar",
         "visible": true,
         "x": [
          "2021-week_33",
          "2021-week_34",
          "2021-week_35",
          "2021-week_36",
          "2021-week_37",
          "2021-week_38",
          "2021-week_39",
          "2021-week_40",
          "2021-week_41",
          "2021-week_42",
          "2021-week_43",
          "2021-week_44",
          "2021-week_45",
          "2021-week_46",
          "2021-week_47",
          "2021-week_48",
          "2021-week_49",
          "2021-week_50",
          "2021-week_51",
          "2022-week_01",
          "2022-week_02",
          "2022-week_03",
          "2022-week_04",
          "2022-week_05",
          "2022-week_06",
          "2022-week_52"
         ],
         "y": [
          "",
          "",
          "",
          "",
          6.948304613674263e-05,
          "",
          "",
          "",
          "",
          "",
          "",
          "",
          "",
          "",
          "",
          "",
          "",
          "",
          "",
          "",
          "",
          "",
          "",
          "",
          "",
          ""
         ]
        },
        {
         "marker": {
          "color": "rgba(128, 128, 0, 0.6)",
          "line": {
           "color": "rgba(128, 128, 0, 1.0)",
           "width": 1
          }
         },
         "name": "Doctorfun Entertainment, Ltd",
         "orientation": "v",
         "text": "",
         "type": "bar",
         "visible": true,
         "x": [
          "2021-week_33",
          "2021-week_34",
          "2021-week_35",
          "2021-week_36",
          "2021-week_37",
          "2021-week_38",
          "2021-week_39",
          "2021-week_40",
          "2021-week_41",
          "2021-week_42",
          "2021-week_43",
          "2021-week_44",
          "2021-week_45",
          "2021-week_46",
          "2021-week_47",
          "2021-week_48",
          "2021-week_49",
          "2021-week_50",
          "2021-week_51",
          "2022-week_01",
          "2022-week_02",
          "2022-week_03",
          "2022-week_04",
          "2022-week_05",
          "2022-week_06",
          "2022-week_52"
         ],
         "y": [
          "",
          "",
          0.0002782995895081055,
          0.00048644892286309936,
          0.0009032795997776543,
          0.0010455147417578587,
          0.0012486126526082132,
          0.0009718172983479105,
          0.0012517385257301808,
          0.0017390094602114635,
          0.0009744553490638268,
          0.0009091544863277152,
          6.925207756232688e-05,
          6.968641114982578e-05,
          "",
          0.00013885031935573453,
          0.0002092487968194183,
          "",
          7.809449433814917e-05,
          6.951685783802571e-05,
          0.0004853359217915829,
          0.0007683173849270099,
          0.0008352474420547087,
          0.0007659100403843476,
          0.0008339703940510112,
          6.277463904582549e-05
         ]
        },
        {
         "marker": {
          "color": "rgba(251, 128, 114, 0.6)",
          "line": {
           "color": "rgba(251, 128, 114, 1.0)",
           "width": 1
          }
         },
         "name": "Earth Networks",
         "orientation": "v",
         "text": "",
         "type": "bar",
         "visible": true,
         "x": [
          "2021-week_33",
          "2021-week_34",
          "2021-week_35",
          "2021-week_36",
          "2021-week_37",
          "2021-week_38",
          "2021-week_39",
          "2021-week_40",
          "2021-week_41",
          "2021-week_42",
          "2021-week_43",
          "2021-week_44",
          "2021-week_45",
          "2021-week_46",
          "2021-week_47",
          "2021-week_48",
          "2021-week_49",
          "2021-week_50",
          "2021-week_51",
          "2022-week_01",
          "2022-week_02",
          "2022-week_03",
          "2022-week_04",
          "2022-week_05",
          "2022-week_06",
          "2022-week_52"
         ],
         "y": [
          "",
          "",
          6.957489737702637e-05,
          0.0001389854065323141,
          "",
          "",
          "",
          "",
          6.954102920723227e-05,
          "",
          "",
          "",
          "",
          "",
          "",
          "",
          "",
          "",
          "",
          "",
          "",
          "",
          "",
          "",
          "",
          ""
         ]
        },
        {
         "marker": {
          "color": "rgba(128, 177, 211, 0.6)",
          "line": {
           "color": "rgba(128, 177, 211, 1.0)",
           "width": 1
          }
         },
         "name": "Extreme DA",
         "orientation": "v",
         "text": "",
         "type": "bar",
         "visible": true,
         "x": [
          "2021-week_33",
          "2021-week_34",
          "2021-week_35",
          "2021-week_36",
          "2021-week_37",
          "2021-week_38",
          "2021-week_39",
          "2021-week_40",
          "2021-week_41",
          "2021-week_42",
          "2021-week_43",
          "2021-week_44",
          "2021-week_45",
          "2021-week_46",
          "2021-week_47",
          "2021-week_48",
          "2021-week_49",
          "2021-week_50",
          "2021-week_51",
          "2022-week_01",
          "2022-week_02",
          "2022-week_03",
          "2022-week_04",
          "2022-week_05",
          "2022-week_06",
          "2022-week_52"
         ],
         "y": [
          0.03517692950682642,
          0.08892909331292186,
          0.09601335838029638,
          0.09263377345378736,
          0.0883129516397999,
          0.14776608350177736,
          0.170019422863485,
          0.1646536165486603,
          0.1588317107093185,
          0.14322481914301613,
          0.15653929143175332,
          0.16791384012868033,
          0.18421052631578946,
          0.19658536585365854,
          0.20844327176781002,
          0.18286587059150236,
          0.12582827648741018,
          0.13843376839766733,
          0.21288559156579462,
          0.20208550573514078,
          0.19663038202870414,
          0.17531605783334497,
          0.16906800306257394,
          0.17156384904609387,
          0.16686357634303983,
          0.16064030131826743
         ]
        },
        {
         "marker": {
          "color": "rgba(128, 177, 211, 0.6)",
          "line": {
           "color": "rgba(128, 177, 211, 0.8999999999999999)",
           "width": 1
          }
         },
         "name": "Fancy",
         "orientation": "v",
         "text": "",
         "type": "bar",
         "visible": true,
         "x": [
          "2021-week_33",
          "2021-week_34",
          "2021-week_35",
          "2021-week_36",
          "2021-week_37",
          "2021-week_38",
          "2021-week_39",
          "2021-week_40",
          "2021-week_41",
          "2021-week_42",
          "2021-week_43",
          "2021-week_44",
          "2021-week_45",
          "2021-week_46",
          "2021-week_47",
          "2021-week_48",
          "2021-week_49",
          "2021-week_50",
          "2021-week_51",
          "2022-week_01",
          "2022-week_02",
          "2022-week_03",
          "2022-week_04",
          "2022-week_05",
          "2022-week_06",
          "2022-week_52"
         ],
         "y": [
          0.06485093340763444,
          0.05260594252313687,
          0.06129548458916023,
          0.0739402362751911,
          0.0821289605336298,
          0.08106224297762599,
          0.07450055493895671,
          0.08322921005136749,
          0.10069541029207232,
          0.07957707289927657,
          0.08561286281060765,
          0.0904259039093643,
          0.09217451523545707,
          0.0713588850174216,
          0.039786140813775864,
          0.07025826159400167,
          0.11494733905280044,
          0.11170508192168842,
          0.09160484185864896,
          0.06743135210288495,
          0.0704430423628926,
          0.09170915694628763,
          0.12382543328461057,
          0.13681938448684028,
          0.15671693654875252,
          0.08242310106716887
         ]
        },
        {
         "marker": {
          "color": "rgba(255, 153, 51, 0.6)",
          "line": {
           "color": "rgba(255, 153, 51, 0.8999999999999999)",
           "width": 1
          }
         },
         "name": "FlagTap",
         "orientation": "v",
         "text": "",
         "type": "bar",
         "visible": true,
         "x": [
          "2021-week_33",
          "2021-week_34",
          "2021-week_35",
          "2021-week_36",
          "2021-week_37",
          "2021-week_38",
          "2021-week_39",
          "2021-week_40",
          "2021-week_41",
          "2021-week_42",
          "2021-week_43",
          "2021-week_44",
          "2021-week_45",
          "2021-week_46",
          "2021-week_47",
          "2021-week_48",
          "2021-week_49",
          "2021-week_50",
          "2021-week_51",
          "2022-week_01",
          "2022-week_02",
          "2022-week_03",
          "2022-week_04",
          "2022-week_05",
          "2022-week_06",
          "2022-week_52"
         ],
         "y": [
          0.00013931457230426304,
          "",
          "",
          "",
          "",
          "",
          "",
          "",
          "",
          "",
          "",
          "",
          "",
          "",
          "",
          "",
          "",
          "",
          "",
          "",
          "",
          "",
          "",
          "",
          "",
          ""
         ]
        },
        {
         "marker": {
          "color": "rgba(55, 128, 191, 0.6)",
          "line": {
           "color": "rgba(55, 128, 191, 0.8999999999999999)",
           "width": 1
          }
         },
         "name": "Fry Multimedia",
         "orientation": "v",
         "text": "",
         "type": "bar",
         "visible": true,
         "x": [
          "2021-week_33",
          "2021-week_34",
          "2021-week_35",
          "2021-week_36",
          "2021-week_37",
          "2021-week_38",
          "2021-week_39",
          "2021-week_40",
          "2021-week_41",
          "2021-week_42",
          "2021-week_43",
          "2021-week_44",
          "2021-week_45",
          "2021-week_46",
          "2021-week_47",
          "2021-week_48",
          "2021-week_49",
          "2021-week_50",
          "2021-week_51",
          "2022-week_01",
          "2022-week_02",
          "2022-week_03",
          "2022-week_04",
          "2022-week_05",
          "2022-week_06",
          "2022-week_52"
         ],
         "y": [
          0.01567288938422959,
          0.017744067914550136,
          0.017950323523272804,
          0.01716469770674079,
          0.017857142857142856,
          0.01575242210915174,
          0.014567147613762486,
          0.018256282104678605,
          0.0196105702364395,
          0.0134251530328325,
          0.012111087909793277,
          0.01258829288761452,
          0.010110803324099723,
          0.00975609756097561,
          0.011803916122760728,
          0.014509858372674257,
          0.012624677408104903,
          0.009233546237156345,
          0.01101132370167903,
          0.016336461591936045,
          0.016501421340913817,
          0.014178948103653,
          0.012041483956288717,
          0.009956830524996518,
          0.012162068246577246,
          0.006528562460765851
         ]
        },
        {
         "marker": {
          "color": "rgba(50, 171, 96, 0.6)",
          "line": {
           "color": "rgba(50, 171, 96, 0.8999999999999999)",
           "width": 1
          }
         },
         "name": "G-mode",
         "orientation": "v",
         "text": "",
         "type": "bar",
         "visible": true,
         "x": [
          "2021-week_33",
          "2021-week_34",
          "2021-week_35",
          "2021-week_36",
          "2021-week_37",
          "2021-week_38",
          "2021-week_39",
          "2021-week_40",
          "2021-week_41",
          "2021-week_42",
          "2021-week_43",
          "2021-week_44",
          "2021-week_45",
          "2021-week_46",
          "2021-week_47",
          "2021-week_48",
          "2021-week_49",
          "2021-week_50",
          "2021-week_51",
          "2022-week_01",
          "2022-week_02",
          "2022-week_03",
          "2022-week_04",
          "2022-week_05",
          "2022-week_06",
          "2022-week_52"
         ],
         "y": [
          0.0026469768737809973,
          0.0026442140421682556,
          0.0030612954845891604,
          0.005628908964558721,
          0.005350194552529183,
          0.002997142259705862,
          0.004786348501664817,
          0.004928502013050118,
          0.005563282336578581,
          0.0025041736227045075,
          0.0021577225586413306,
          0.002587593538009651,
          0.004293628808864266,
          0.0029965156794425087,
          0.002846826829606999,
          0.0036101083032490976,
          0.00411522633744856,
          0.002360455429047487,
          0.004607575165950801,
          0.0022940563086548487,
          0.003328017749427997,
          0.002374799189774394,
          0.0027841581401823624,
          0.002297730121153043,
          0.0014594481895892695,
          0.004331450094161958
         ]
        },
        {
         "marker": {
          "color": "rgba(128, 0, 128, 0.6)",
          "line": {
           "color": "rgba(128, 0, 128, 0.8999999999999999)",
           "width": 1
          }
         },
         "name": "Glory Medical",
         "orientation": "v",
         "text": "",
         "type": "bar",
         "visible": true,
         "x": [
          "2021-week_33",
          "2021-week_34",
          "2021-week_35",
          "2021-week_36",
          "2021-week_37",
          "2021-week_38",
          "2021-week_39",
          "2021-week_40",
          "2021-week_41",
          "2021-week_42",
          "2021-week_43",
          "2021-week_44",
          "2021-week_45",
          "2021-week_46",
          "2021-week_47",
          "2021-week_48",
          "2021-week_49",
          "2021-week_50",
          "2021-week_51",
          "2022-week_01",
          "2022-week_02",
          "2022-week_03",
          "2022-week_04",
          "2022-week_05",
          "2022-week_06",
          "2022-week_52"
         ],
         "y": [
          0.0034132070214544443,
          0.0007654303806276529,
          0.00013914979475405275,
          0.0006254343293954135,
          0.0002084491384102279,
          0.00034850491391928625,
          0.0002081021087680355,
          0.00020824656393169514,
          6.954102920723227e-05,
          6.956037840845854e-05,
          6.960395350455906e-05,
          0.0003496748024337366,
          "",
          0.00013937282229965157,
          0.00020830440216636578,
          0.00027770063871146905,
          0.0004184975936388366,
          0.0003471257983893363,
          0.00031237797735259666,
          0.00013903371567605143,
          0.00013866740622616653,
          6.984703499336453e-05,
          "",
          0.0001392563709789723,
          "",
          6.277463904582549e-05
         ]
        },
        {
         "marker": {
          "color": "rgba(219, 64, 82, 0.6)",
          "line": {
           "color": "rgba(219, 64, 82, 0.8999999999999999)",
           "width": 1
          }
         },
         "name": "Joules Clothing",
         "orientation": "v",
         "text": "",
         "type": "bar",
         "visible": true,
         "x": [
          "2021-week_33",
          "2021-week_34",
          "2021-week_35",
          "2021-week_36",
          "2021-week_37",
          "2021-week_38",
          "2021-week_39",
          "2021-week_40",
          "2021-week_41",
          "2021-week_42",
          "2021-week_43",
          "2021-week_44",
          "2021-week_45",
          "2021-week_46",
          "2021-week_47",
          "2021-week_48",
          "2021-week_49",
          "2021-week_50",
          "2021-week_51",
          "2022-week_01",
          "2022-week_02",
          "2022-week_03",
          "2022-week_04",
          "2022-week_05",
          "2022-week_06",
          "2022-week_52"
         ],
         "y": [
          0.00027862914460852607,
          6.958458005705935e-05,
          0.00034787448688513185,
          0.00020847810979847116,
          "",
          6.970098278385725e-05,
          "",
          "",
          6.954102920723227e-05,
          0.0001391207568169171,
          "",
          0.00020980488146024197,
          6.925207756232688e-05,
          0.00013937282229965157,
          6.943480072212192e-05,
          "",
          "",
          "",
          "",
          "",
          6.933370311308327e-05,
          "",
          "",
          "",
          "",
          ""
         ]
        },
        {
         "marker": {
          "color": "rgba(0, 128, 128, 0.6)",
          "line": {
           "color": "rgba(0, 128, 128, 0.8999999999999999)",
           "width": 1
          }
         },
         "name": "Jun Group",
         "orientation": "v",
         "text": "",
         "type": "bar",
         "visible": true,
         "x": [
          "2021-week_33",
          "2021-week_34",
          "2021-week_35",
          "2021-week_36",
          "2021-week_37",
          "2021-week_38",
          "2021-week_39",
          "2021-week_40",
          "2021-week_41",
          "2021-week_42",
          "2021-week_43",
          "2021-week_44",
          "2021-week_45",
          "2021-week_46",
          "2021-week_47",
          "2021-week_48",
          "2021-week_49",
          "2021-week_50",
          "2021-week_51",
          "2022-week_01",
          "2022-week_02",
          "2022-week_03",
          "2022-week_04",
          "2022-week_05",
          "2022-week_06",
          "2022-week_52"
         ],
         "y": [
          "",
          "",
          "",
          "",
          "",
          "",
          "",
          "",
          "",
          "",
          "",
          6.993496048674733e-05,
          "",
          "",
          "",
          "",
          "",
          "",
          7.809449433814917e-05,
          "",
          "",
          "",
          0.00013920790700911812,
          "",
          "",
          ""
         ]
        },
        {
         "marker": {
          "color": "rgba(255, 255, 51, 0.6)",
          "line": {
           "color": "rgba(255, 255, 51, 0.8999999999999999)",
           "width": 1
          }
         },
         "name": "LocalVox Media",
         "orientation": "v",
         "text": "",
         "type": "bar",
         "visible": true,
         "x": [
          "2021-week_33",
          "2021-week_34",
          "2021-week_35",
          "2021-week_36",
          "2021-week_37",
          "2021-week_38",
          "2021-week_39",
          "2021-week_40",
          "2021-week_41",
          "2021-week_42",
          "2021-week_43",
          "2021-week_44",
          "2021-week_45",
          "2021-week_46",
          "2021-week_47",
          "2021-week_48",
          "2021-week_49",
          "2021-week_50",
          "2021-week_51",
          "2022-week_01",
          "2022-week_02",
          "2022-week_03",
          "2022-week_04",
          "2022-week_05",
          "2022-week_06",
          "2022-week_52"
         ],
         "y": [
          0.015254945667316801,
          0.020875374017117806,
          0.01551520211507688,
          0.01535788742182071,
          0.01764869371873263,
          0.015961525057503312,
          0.013665371809100999,
          0.016034985422740525,
          0.015716272600834493,
          0.011268781302170284,
          0.009396533723115472,
          0.014546471781243443,
          0.017243767313019392,
          0.016445993031358887,
          0.017914178586307457,
          0.01825881699527909,
          0.02218037246285834,
          0.016870313801721742,
          0.01663412729402577,
          0.016127911018421967,
          0.01504541357553907,
          0.011175525598938325,
          0.0119022760492796,
          0.011001253307338811,
          0.010146639794287303,
          0.021468926553672316
         ]
        },
        {
         "marker": {
          "color": "rgba(128, 128, 0, 0.6)",
          "line": {
           "color": "rgba(128, 128, 0, 0.8999999999999999)",
           "width": 1
          }
         },
         "name": "Marketo Japan",
         "orientation": "v",
         "text": "",
         "type": "bar",
         "visible": true,
         "x": [
          "2021-week_33",
          "2021-week_34",
          "2021-week_35",
          "2021-week_36",
          "2021-week_37",
          "2021-week_38",
          "2021-week_39",
          "2021-week_40",
          "2021-week_41",
          "2021-week_42",
          "2021-week_43",
          "2021-week_44",
          "2021-week_45",
          "2021-week_46",
          "2021-week_47",
          "2021-week_48",
          "2021-week_49",
          "2021-week_50",
          "2021-week_51",
          "2022-week_01",
          "2022-week_02",
          "2022-week_03",
          "2022-week_04",
          "2022-week_05",
          "2022-week_06",
          "2022-week_52"
         ],
         "y": [
          "",
          "",
          "",
          "",
          6.948304613674263e-05,
          "",
          "",
          "",
          "",
          "",
          "",
          "",
          "",
          "",
          "",
          "",
          "",
          "",
          "",
          "",
          "",
          "",
          "",
          "",
          "",
          ""
         ]
        },
        {
         "marker": {
          "color": "rgba(251, 128, 114, 0.6)",
          "line": {
           "color": "rgba(251, 128, 114, 0.8999999999999999)",
           "width": 1
          }
         },
         "name": "Metranome",
         "orientation": "v",
         "text": "",
         "type": "bar",
         "visible": true,
         "x": [
          "2021-week_33",
          "2021-week_34",
          "2021-week_35",
          "2021-week_36",
          "2021-week_37",
          "2021-week_38",
          "2021-week_39",
          "2021-week_40",
          "2021-week_41",
          "2021-week_42",
          "2021-week_43",
          "2021-week_44",
          "2021-week_45",
          "2021-week_46",
          "2021-week_47",
          "2021-week_48",
          "2021-week_49",
          "2021-week_50",
          "2021-week_51",
          "2022-week_01",
          "2022-week_02",
          "2022-week_03",
          "2022-week_04",
          "2022-week_05",
          "2022-week_06",
          "2022-week_52"
         ],
         "y": [
          0.00027862914460852607,
          0.00020875374017117806,
          0.0002782995895081055,
          0.00034746351633078526,
          6.948304613674263e-05,
          6.970098278385725e-05,
          0.00013873473917869035,
          0.00013883104262113008,
          "",
          "",
          "",
          6.993496048674733e-05,
          "",
          6.968641114982578e-05,
          "",
          "",
          0.0001394991978796122,
          0.00013885031935573453,
          7.809449433814917e-05,
          "",
          "",
          "",
          0.00013920790700911812,
          6.962818548948615e-05,
          6.949753283758427e-05,
          6.277463904582549e-05
         ]
        },
        {
         "marker": {
          "color": "rgba(251, 128, 114, 0.6)",
          "line": {
           "color": "rgba(251, 128, 114, 0.7999999999999998)",
           "width": 1
          }
         },
         "name": "Mission Street Manufacturing",
         "orientation": "v",
         "text": "",
         "type": "bar",
         "visible": true,
         "x": [
          "2021-week_33",
          "2021-week_34",
          "2021-week_35",
          "2021-week_36",
          "2021-week_37",
          "2021-week_38",
          "2021-week_39",
          "2021-week_40",
          "2021-week_41",
          "2021-week_42",
          "2021-week_43",
          "2021-week_44",
          "2021-week_45",
          "2021-week_46",
          "2021-week_47",
          "2021-week_48",
          "2021-week_49",
          "2021-week_50",
          "2021-week_51",
          "2022-week_01",
          "2022-week_02",
          "2022-week_03",
          "2022-week_04",
          "2022-week_05",
          "2022-week_06",
          "2022-week_52"
         ],
         "y": [
          0.0009752020061298412,
          0.0006958458005705936,
          0.0010436234606553956,
          0.00034746351633078526,
          0.0003474152306837132,
          0.0006273088450547153,
          0.000416204217536071,
          0.0003470776065528252,
          0.0004172461752433936,
          0.00041736227045075126,
          0.00041762372102735435,
          0.0009091544863277152,
          0.0006232686980609418,
          0.0005574912891986063,
          0.0005554784057769754,
          0.00041655095806720355,
          0.0009067447862174793,
          0.00041655095806720355,
          0.0003904724716907458,
          0.0003475842891901286,
          0.00020800110933924982,
          0.0004889292449535517,
          6.960395350455906e-05,
          0.00020888455646845844,
          0.0005559802627006741,
          0.00025109855618330194
         ]
        },
        {
         "marker": {
          "color": "rgba(128, 177, 211, 0.6)",
          "line": {
           "color": "rgba(128, 177, 211, 0.7999999999999998)",
           "width": 1
          }
         },
         "name": "MoJoe Brewing Company",
         "orientation": "v",
         "text": "",
         "type": "bar",
         "visible": true,
         "x": [
          "2021-week_33",
          "2021-week_34",
          "2021-week_35",
          "2021-week_36",
          "2021-week_37",
          "2021-week_38",
          "2021-week_39",
          "2021-week_40",
          "2021-week_41",
          "2021-week_42",
          "2021-week_43",
          "2021-week_44",
          "2021-week_45",
          "2021-week_46",
          "2021-week_47",
          "2021-week_48",
          "2021-week_49",
          "2021-week_50",
          "2021-week_51",
          "2022-week_01",
          "2022-week_02",
          "2022-week_03",
          "2022-week_04",
          "2022-week_05",
          "2022-week_06",
          "2022-week_52"
         ],
         "y": [
          0.09424630816383393,
          0.07890891378470531,
          0.10387532178390037,
          0.08881167477414871,
          0.09672040022234575,
          0.0759740712344044,
          0.08011931187569367,
          0.07309454394002499,
          0.05744089012517385,
          0.041666666666666664,
          0.0680030625739542,
          0.06007413105811595,
          0.056509695290858725,
          0.09874564459930314,
          0.0611026246354673,
          0.13732296584282144,
          0.0823045267489712,
          0.12454873646209386,
          0.07169074580242094,
          0.07897115050399722,
          0.08028842820495043,
          0.10169728295033875,
          0.06507969652676272,
          0.08174348976465673,
          0.06393773021057753,
          0.14055241682360325
         ]
        },
        {
         "marker": {
          "color": "rgba(255, 153, 51, 0.6)",
          "line": {
           "color": "rgba(255, 153, 51, 0.7999999999999998)",
           "width": 1
          }
         },
         "name": "Modanisa",
         "orientation": "v",
         "text": "",
         "type": "bar",
         "visible": true,
         "x": [
          "2021-week_33",
          "2021-week_34",
          "2021-week_35",
          "2021-week_36",
          "2021-week_37",
          "2021-week_38",
          "2021-week_39",
          "2021-week_40",
          "2021-week_41",
          "2021-week_42",
          "2021-week_43",
          "2021-week_44",
          "2021-week_45",
          "2021-week_46",
          "2021-week_47",
          "2021-week_48",
          "2021-week_49",
          "2021-week_50",
          "2021-week_51",
          "2022-week_01",
          "2022-week_02",
          "2022-week_03",
          "2022-week_04",
          "2022-week_05",
          "2022-week_06",
          "2022-week_52"
         ],
         "y": [
          0.009055447199777097,
          0.008141395866675945,
          0.007583663814095874,
          0.007157748436414177,
          0.006461923290717065,
          0.005854882553844009,
          0.02746947835738069,
          0.024711925586561156,
          0.026564673157162728,
          0.022746243739565943,
          0.03048653163499687,
          0.01594517099097839,
          0.006232686980609419,
          0.006480836236933798,
          0.007290654075822803,
          0.006525965009719522,
          0.006277463904582548,
          0.005762288253262983,
          0.004919953143303397,
          0.004449078901633646,
          0.003328017749427997,
          0.0034923517496682267,
          0.0027841581401823624,
          0.004108062943879683,
          0.0025714087149906178,
          0.004331450094161958
         ]
        },
        {
         "marker": {
          "color": "rgba(55, 128, 191, 0.6)",
          "line": {
           "color": "rgba(55, 128, 191, 0.7999999999999998)",
           "width": 1
          }
         },
         "name": "OpenDesks, Inc.",
         "orientation": "v",
         "text": "",
         "type": "bar",
         "visible": true,
         "x": [
          "2021-week_33",
          "2021-week_34",
          "2021-week_35",
          "2021-week_36",
          "2021-week_37",
          "2021-week_38",
          "2021-week_39",
          "2021-week_40",
          "2021-week_41",
          "2021-week_42",
          "2021-week_43",
          "2021-week_44",
          "2021-week_45",
          "2021-week_46",
          "2021-week_47",
          "2021-week_48",
          "2021-week_49",
          "2021-week_50",
          "2021-week_51",
          "2022-week_01",
          "2022-week_02",
          "2022-week_03",
          "2022-week_04",
          "2022-week_05",
          "2022-week_06",
          "2022-week_52"
         ],
         "y": [
          0.00041794371691278906,
          0.0004175074803423561,
          0.0004870242816391846,
          0.001320361362056984,
          0.0009032795997776543,
          0.0012546176901094305,
          0.00201165371809101,
          0.0023601277245592113,
          0.0018080667593880389,
          0.0019476905954368391,
          0.001113663256072945,
          0.0018882439331421778,
          0.001592797783933518,
          0.0029965156794425087,
          0.002569087626718511,
          0.0014579283532352124,
          0.0015344911766757342,
          0.0008331019161344071,
          0.002420929324482624,
          0.00145985401459854,
          0.0016640088747139985,
          0.001187399594887197,
          0.0009048513955592678,
          0.0008355382258738338,
          0.0009034679268885954,
          0.0018832391713747645
         ]
        },
        {
         "marker": {
          "color": "rgba(50, 171, 96, 0.6)",
          "line": {
           "color": "rgba(50, 171, 96, 0.7999999999999998)",
           "width": 1
          }
         },
         "name": "PageBites",
         "orientation": "v",
         "text": "",
         "type": "bar",
         "visible": true,
         "x": [
          "2021-week_33",
          "2021-week_34",
          "2021-week_35",
          "2021-week_36",
          "2021-week_37",
          "2021-week_38",
          "2021-week_39",
          "2021-week_40",
          "2021-week_41",
          "2021-week_42",
          "2021-week_43",
          "2021-week_44",
          "2021-week_45",
          "2021-week_46",
          "2021-week_47",
          "2021-week_48",
          "2021-week_49",
          "2021-week_50",
          "2021-week_51",
          "2022-week_01",
          "2022-week_02",
          "2022-week_03",
          "2022-week_04",
          "2022-week_05",
          "2022-week_06",
          "2022-week_52"
         ],
         "y": [
          0.0016021175814990248,
          0.0006958458005705936,
          0.001113198358032422,
          0.0008339124391938846,
          0.0012506948304613673,
          0.0007667108106224297,
          0.00048557158712541623,
          6.941552131056504e-05,
          0.0004867872044506259,
          0.0005564830272676684,
          0.00027841581401823624,
          0.00020980488146024197,
          "",
          "",
          "",
          "",
          "",
          "",
          "",
          "",
          0.00013866740622616653,
          0.0002095411049800936,
          0.00020881186051367718,
          0.00020888455646845844,
          0.00027799013135033706,
          ""
         ]
        },
        {
         "marker": {
          "color": "rgba(128, 0, 128, 0.6)",
          "line": {
           "color": "rgba(128, 0, 128, 0.7999999999999998)",
           "width": 1
          }
         },
         "name": "Pole Star",
         "orientation": "v",
         "text": "",
         "type": "bar",
         "visible": true,
         "x": [
          "2021-week_33",
          "2021-week_34",
          "2021-week_35",
          "2021-week_36",
          "2021-week_37",
          "2021-week_38",
          "2021-week_39",
          "2021-week_40",
          "2021-week_41",
          "2021-week_42",
          "2021-week_43",
          "2021-week_44",
          "2021-week_45",
          "2021-week_46",
          "2021-week_47",
          "2021-week_48",
          "2021-week_49",
          "2021-week_50",
          "2021-week_51",
          "2022-week_01",
          "2022-week_02",
          "2022-week_03",
          "2022-week_04",
          "2022-week_05",
          "2022-week_06",
          "2022-week_52"
         ],
         "y": [
          0.0030649205906937865,
          0.0017396145014264839,
          "",
          "",
          6.948304613674263e-05,
          6.970098278385725e-05,
          0.00013873473917869035,
          6.941552131056504e-05,
          0.0011821974965229485,
          0.00020868113522537563,
          0.00020881186051367718,
          0.0006294146443807259,
          0.0017313019390581717,
          0.0011149825783972125,
          "",
          "",
          0.0001394991978796122,
          6.942515967786726e-05,
          7.809449433814917e-05,
          0.0003475842891901286,
          0.0003466685155654163,
          0.00034923517496682265,
          0.0015312869771002993,
          0.001392563709789723,
          0.0016679407881020224,
          0.00012554927809165097
         ]
        },
        {
         "marker": {
          "color": "rgba(219, 64, 82, 0.6)",
          "line": {
           "color": "rgba(219, 64, 82, 0.7999999999999998)",
           "width": 1
          }
         },
         "name": "Puentes Company",
         "orientation": "v",
         "text": "",
         "type": "bar",
         "visible": true,
         "x": [
          "2021-week_33",
          "2021-week_34",
          "2021-week_35",
          "2021-week_36",
          "2021-week_37",
          "2021-week_38",
          "2021-week_39",
          "2021-week_40",
          "2021-week_41",
          "2021-week_42",
          "2021-week_43",
          "2021-week_44",
          "2021-week_45",
          "2021-week_46",
          "2021-week_47",
          "2021-week_48",
          "2021-week_49",
          "2021-week_50",
          "2021-week_51",
          "2022-week_01",
          "2022-week_02",
          "2022-week_03",
          "2022-week_04",
          "2022-week_05",
          "2022-week_06",
          "2022-week_52"
         ],
         "y": [
          0.09452493730844247,
          0.08197063530721592,
          0.07521046406456551,
          0.07588603196664351,
          0.07406892718176765,
          0.0683069631281801,
          0.06804938956714761,
          0.06976259891711786,
          0.08817802503477051,
          0.07206455203116305,
          0.06333959768914875,
          0.07720819637736905,
          0.10297783933518005,
          0.0932404181184669,
          0.09061241494236912,
          0.0814357123021383,
          0.09130222501220618,
          0.08497639544570952,
          0.10378758297540024,
          0.09336114007646855,
          0.09061914996879983,
          0.06635468324369631,
          0.05902415257186608,
          0.05653808661746275,
          0.0583084300507332,
          0.06936597614563716
         ]
        },
        {
         "marker": {
          "color": "rgba(0, 128, 128, 0.6)",
          "line": {
           "color": "rgba(0, 128, 128, 0.7999999999999998)",
           "width": 1
          }
         },
         "name": "PureSafe water systems",
         "orientation": "v",
         "text": "",
         "type": "bar",
         "visible": true,
         "x": [
          "2021-week_33",
          "2021-week_34",
          "2021-week_35",
          "2021-week_36",
          "2021-week_37",
          "2021-week_38",
          "2021-week_39",
          "2021-week_40",
          "2021-week_41",
          "2021-week_42",
          "2021-week_43",
          "2021-week_44",
          "2021-week_45",
          "2021-week_46",
          "2021-week_47",
          "2021-week_48",
          "2021-week_49",
          "2021-week_50",
          "2021-week_51",
          "2022-week_01",
          "2022-week_02",
          "2022-week_03",
          "2022-week_04",
          "2022-week_05",
          "2022-week_06",
          "2022-week_52"
         ],
         "y": [
          "",
          "",
          "",
          "",
          "",
          "",
          "",
          "",
          "",
          "",
          "",
          "",
          "",
          "",
          "",
          "",
          "",
          "",
          "",
          "",
          "",
          "",
          "",
          6.962818548948615e-05,
          "",
          ""
         ]
        },
        {
         "marker": {
          "color": "rgba(255, 255, 51, 0.6)",
          "line": {
           "color": "rgba(255, 255, 51, 0.7999999999999998)",
           "width": 1
          }
         },
         "name": "RelayFoods",
         "orientation": "v",
         "text": "",
         "type": "bar",
         "visible": true,
         "x": [
          "2021-week_33",
          "2021-week_34",
          "2021-week_35",
          "2021-week_36",
          "2021-week_37",
          "2021-week_38",
          "2021-week_39",
          "2021-week_40",
          "2021-week_41",
          "2021-week_42",
          "2021-week_43",
          "2021-week_44",
          "2021-week_45",
          "2021-week_46",
          "2021-week_47",
          "2021-week_48",
          "2021-week_49",
          "2021-week_50",
          "2021-week_51",
          "2022-week_01",
          "2022-week_02",
          "2022-week_03",
          "2022-week_04",
          "2022-week_05",
          "2022-week_06",
          "2022-week_52"
         ],
         "y": [
          0.10929228197269435,
          0.06297404495163872,
          0.06880957350587907,
          0.06949270326615706,
          0.06663424124513619,
          0.06754025231755768,
          0.052372364039955606,
          0.04602249062890462,
          0.05660639777468707,
          0.2598775737340011,
          0.24131690680030626,
          0.2721169312539338,
          0.3479224376731302,
          0.31679442508710803,
          0.3327315650604083,
          0.2905442932518745,
          0.32370788867964007,
          0.3126214940294363,
          0.28621632174931666,
          0.26930830726451166,
          0.2656867503293351,
          0.24760773905147726,
          0.247511658662212,
          0.22629160284082997,
          0.23650010424629925,
          0.3747018204645323
         ]
        },
        {
         "marker": {
          "color": "rgba(128, 128, 0, 0.6)",
          "line": {
           "color": "rgba(128, 128, 0, 0.7999999999999998)",
           "width": 1
          }
         },
         "name": "SOLOMO365",
         "orientation": "v",
         "text": "",
         "type": "bar",
         "visible": true,
         "x": [
          "2021-week_33",
          "2021-week_34",
          "2021-week_35",
          "2021-week_36",
          "2021-week_37",
          "2021-week_38",
          "2021-week_39",
          "2021-week_40",
          "2021-week_41",
          "2021-week_42",
          "2021-week_43",
          "2021-week_44",
          "2021-week_45",
          "2021-week_46",
          "2021-week_47",
          "2021-week_48",
          "2021-week_49",
          "2021-week_50",
          "2021-week_51",
          "2022-week_01",
          "2022-week_02",
          "2022-week_03",
          "2022-week_04",
          "2022-week_05",
          "2022-week_06",
          "2022-week_52"
         ],
         "y": [
          0.05544719977709668,
          0.06039941548952752,
          0.05976483684686565,
          0.05573314801945796,
          0.055586436909394105,
          0.05813061964173695,
          0.049944506104328525,
          0.014993752603082049,
          "",
          "",
          "",
          "",
          "",
          "",
          "",
          "",
          "",
          "",
          "",
          "",
          "",
          "",
          "",
          "",
          "",
          ""
         ]
        },
        {
         "marker": {
          "color": "rgba(128, 128, 0, 0.6)",
          "line": {
           "color": "rgba(128, 128, 0, 0.7)",
           "width": 1
          }
         },
         "name": "Search Million Culture",
         "orientation": "v",
         "text": "",
         "type": "bar",
         "visible": true,
         "x": [
          "2021-week_33",
          "2021-week_34",
          "2021-week_35",
          "2021-week_36",
          "2021-week_37",
          "2021-week_38",
          "2021-week_39",
          "2021-week_40",
          "2021-week_41",
          "2021-week_42",
          "2021-week_43",
          "2021-week_44",
          "2021-week_45",
          "2021-week_46",
          "2021-week_47",
          "2021-week_48",
          "2021-week_49",
          "2021-week_50",
          "2021-week_51",
          "2022-week_01",
          "2022-week_02",
          "2022-week_03",
          "2022-week_04",
          "2022-week_05",
          "2022-week_06",
          "2022-week_52"
         ],
         "y": [
          0.35218723878517694,
          0.39043907870016004,
          0.35030960829332775,
          0.35392633773453785,
          0.3494302390216787,
          0.33372830556910854,
          0.3140260821309656,
          0.3306261280022213,
          0.3364394993045897,
          0.25994713411240955,
          0.24110809493979257,
          0.1897335478005455,
          0.0853185595567867,
          0.09337979094076655,
          0.09665324260519373,
          0.11538461538461539,
          0.13287298598033062,
          0.12350735906692585,
          0.12526356891839124,
          0.19443865137295793,
          0.2046730915898218,
          0.23342879094782426,
          0.25440245005916334,
          0.25163626235900294,
          0.23816804503440128,
          0.0743879472693032
         ]
        },
        {
         "marker": {
          "color": "rgba(251, 128, 114, 0.6)",
          "line": {
           "color": "rgba(251, 128, 114, 0.7)",
           "width": 1
          }
         },
         "name": "Sensor Tower",
         "orientation": "v",
         "text": "",
         "type": "bar",
         "visible": true,
         "x": [
          "2021-week_33",
          "2021-week_34",
          "2021-week_35",
          "2021-week_36",
          "2021-week_37",
          "2021-week_38",
          "2021-week_39",
          "2021-week_40",
          "2021-week_41",
          "2021-week_42",
          "2021-week_43",
          "2021-week_44",
          "2021-week_45",
          "2021-week_46",
          "2021-week_47",
          "2021-week_48",
          "2021-week_49",
          "2021-week_50",
          "2021-week_51",
          "2022-week_01",
          "2022-week_02",
          "2022-week_03",
          "2022-week_04",
          "2022-week_05",
          "2022-week_06",
          "2022-week_52"
         ],
         "y": [
          0.03629144608526052,
          0.03374852132767379,
          0.031308703819661866,
          0.018763029881862403,
          0.012854363535297387,
          0.008712622847982156,
          0.0076997780244173145,
          0.006455643481882549,
          0.00674547983310153,
          0.006816917084028937,
          0.005568316280364725,
          0.005384991957479544,
          0.00574792243767313,
          0.004320557491289199,
          0.004443827246215803,
          0.005554012774229381,
          0.007463207086559252,
          0.004859761177450708,
          0.003358063256540414,
          0.003475842891901286,
          0.0029813492338625807,
          0.00447021023957533,
          0.004315445117282661,
          0.003899178387411224,
          0.004169851970255056,
          0.004205900816070308
         ]
        },
        {
         "marker": {
          "color": "rgba(128, 177, 211, 0.6)",
          "line": {
           "color": "rgba(128, 177, 211, 0.7)",
           "width": 1
          }
         },
         "name": "Tab Solutions",
         "orientation": "v",
         "text": "",
         "type": "bar",
         "visible": true,
         "x": [
          "2021-week_33",
          "2021-week_34",
          "2021-week_35",
          "2021-week_36",
          "2021-week_37",
          "2021-week_38",
          "2021-week_39",
          "2021-week_40",
          "2021-week_41",
          "2021-week_42",
          "2021-week_43",
          "2021-week_44",
          "2021-week_45",
          "2021-week_46",
          "2021-week_47",
          "2021-week_48",
          "2021-week_49",
          "2021-week_50",
          "2021-week_51",
          "2022-week_01",
          "2022-week_02",
          "2022-week_03",
          "2022-week_04",
          "2022-week_05",
          "2022-week_06",
          "2022-week_52"
         ],
         "y": [
          0.0672192811368069,
          0.054345557024563354,
          0.04981562652195088,
          0.055524669909659485,
          0.05885214007782101,
          0.04000836411793406,
          0.05292730299667037,
          0.06774954879911148,
          0.0672461752433936,
          0.047996661101836396,
          0.04719148047609104,
          0.05063291139240506,
          0.04113573407202216,
          0.014355400696864112,
          0.016594917372587142,
          0.0197167453485143,
          0.031317569923972936,
          0.02256317689530686,
          0.019992190550566186,
          0.010983663538408064,
          0.012618733966581155,
          0.01494726548858001,
          0.016565740934085055,
          0.01392563709789723,
          0.01709639307804573,
          0.013998744507219083
         ]
        },
        {
         "marker": {
          "color": "rgba(255, 153, 51, 0.6)",
          "line": {
           "color": "rgba(255, 153, 51, 0.7)",
           "width": 1
          }
         },
         "name": "VarVee",
         "orientation": "v",
         "text": "",
         "type": "bar",
         "visible": true,
         "x": [
          "2021-week_33",
          "2021-week_34",
          "2021-week_35",
          "2021-week_36",
          "2021-week_37",
          "2021-week_38",
          "2021-week_39",
          "2021-week_40",
          "2021-week_41",
          "2021-week_42",
          "2021-week_43",
          "2021-week_44",
          "2021-week_45",
          "2021-week_46",
          "2021-week_47",
          "2021-week_48",
          "2021-week_49",
          "2021-week_50",
          "2021-week_51",
          "2022-week_01",
          "2022-week_02",
          "2022-week_03",
          "2022-week_04",
          "2022-week_05",
          "2022-week_06",
          "2022-week_52"
         ],
         "y": [
          0.00229869044302034,
          0.004662166863822976,
          0.004870242816391846,
          0.006879777623349548,
          0.0074346859366314615,
          0.007179201226737297,
          0.005063817980022198,
          0.004789670970428988,
          0.005563282336578581,
          0.0023650528658875902,
          0.0029929700006960393,
          0.003217008182390377,
          0.003601108033240997,
          0.0024390243902439024,
          0.002707957228162755,
          0.0017356289919466814,
          0.0004882471925786427,
          0.0006248264371008053,
          0.00046856696602889497,
          0.00027806743135210286,
          0.0006933370311308326,
          0.0007683173849270099,
          0.0010440593025683859,
          0.0007659100403843476,
          0.0006949753283758427,
          0.0003766478342749529
         ]
        },
        {
         "marker": {
          "color": "rgba(55, 128, 191, 0.6)",
          "line": {
           "color": "rgba(55, 128, 191, 0.7)",
           "width": 1
          }
         },
         "name": "aPriori Technologies",
         "orientation": "v",
         "text": "",
         "type": "bar",
         "visible": true,
         "x": [
          "2021-week_33",
          "2021-week_34",
          "2021-week_35",
          "2021-week_36",
          "2021-week_37",
          "2021-week_38",
          "2021-week_39",
          "2021-week_40",
          "2021-week_41",
          "2021-week_42",
          "2021-week_43",
          "2021-week_44",
          "2021-week_45",
          "2021-week_46",
          "2021-week_47",
          "2021-week_48",
          "2021-week_49",
          "2021-week_50",
          "2021-week_51",
          "2022-week_01",
          "2022-week_02",
          "2022-week_03",
          "2022-week_04",
          "2022-week_05",
          "2022-week_06",
          "2022-week_52"
         ],
         "y": [
          0.002995263304541655,
          0.0029225523623964927,
          0.003965769150490503,
          0.0029881862404447534,
          0.0027098387993329627,
          0.002439534397435004,
          0.0039539400665926745,
          0.004442593363876163,
          0.0035465924895688454,
          0.002295492487479132,
          0.002853762093686921,
          0.002307853696062662,
          0.003670360110803324,
          0.005156794425087108,
          0.004999305651992779,
          0.003262982504859761,
          0.0034874799469903047,
          0.00354068314357123,
          0.004139008199921906,
          0.0032672923183872087,
          0.002010677390279415,
          0.0017461758748341133,
          0.0020881186051367718,
          0.002297730121153043,
          0.002015428452289944,
          0.0038292529817953547
         ]
        },
        {
         "marker": {
          "color": "rgba(50, 171, 96, 0.6)",
          "line": {
           "color": "rgba(50, 171, 96, 0.7)",
           "width": 1
          }
         },
         "name": "iDreamsky Technology",
         "orientation": "v",
         "text": "",
         "type": "bar",
         "visible": true,
         "x": [
          "2021-week_33",
          "2021-week_34",
          "2021-week_35",
          "2021-week_36",
          "2021-week_37",
          "2021-week_38",
          "2021-week_39",
          "2021-week_40",
          "2021-week_41",
          "2021-week_42",
          "2021-week_43",
          "2021-week_44",
          "2021-week_45",
          "2021-week_46",
          "2021-week_47",
          "2021-week_48",
          "2021-week_49",
          "2021-week_50",
          "2021-week_51",
          "2022-week_01",
          "2022-week_02",
          "2022-week_03",
          "2022-week_04",
          "2022-week_05",
          "2022-week_06",
          "2022-week_52"
         ],
         "y": [
          0.021872387851769294,
          0.021153712337346045,
          0.035761497251791556,
          0.04211257817929118,
          0.04175931072818232,
          0.05123022234613508,
          0.04557436182019978,
          0.042759961127308066,
          0.032753824756606396,
          0.018433500278241515,
          0.018932275353240064,
          0.020560878383103713,
          0.0260387811634349,
          0.04494773519163763,
          0.08734897930842939,
          0.036239933351846706,
          0.02483085722257097,
          0.02513190780338795,
          0.026395939086294416,
          0.024261383385470976,
          0.021770782777508147,
          0.01990640497310889,
          0.016356929073571377,
          0.016362623590029244,
          0.018555841267634997,
          0.02366603892027621
         ]
        }
       ],
       "layout": {
        "autosize": true,
        "barmode": "stack",
        "legend": {
         "bgcolor": "#F5F6F9",
         "font": {
          "color": "#4D5663"
         },
         "traceorder": "normal"
        },
        "paper_bgcolor": "#F5F6F9",
        "plot_bgcolor": "#F5F6F9",
        "template": {
         "data": {
          "bar": [
           {
            "error_x": {
             "color": "#2a3f5f"
            },
            "error_y": {
             "color": "#2a3f5f"
            },
            "marker": {
             "line": {
              "color": "#E5ECF6",
              "width": 0.5
             }
            },
            "type": "bar"
           }
          ],
          "barpolar": [
           {
            "marker": {
             "line": {
              "color": "#E5ECF6",
              "width": 0.5
             }
            },
            "type": "barpolar"
           }
          ],
          "carpet": [
           {
            "aaxis": {
             "endlinecolor": "#2a3f5f",
             "gridcolor": "white",
             "linecolor": "white",
             "minorgridcolor": "white",
             "startlinecolor": "#2a3f5f"
            },
            "baxis": {
             "endlinecolor": "#2a3f5f",
             "gridcolor": "white",
             "linecolor": "white",
             "minorgridcolor": "white",
             "startlinecolor": "#2a3f5f"
            },
            "type": "carpet"
           }
          ],
          "choropleth": [
           {
            "colorbar": {
             "outlinewidth": 0,
             "ticks": ""
            },
            "type": "choropleth"
           }
          ],
          "contour": [
           {
            "colorbar": {
             "outlinewidth": 0,
             "ticks": ""
            },
            "colorscale": [
             [
              0,
              "#0d0887"
             ],
             [
              0.1111111111111111,
              "#46039f"
             ],
             [
              0.2222222222222222,
              "#7201a8"
             ],
             [
              0.3333333333333333,
              "#9c179e"
             ],
             [
              0.4444444444444444,
              "#bd3786"
             ],
             [
              0.5555555555555556,
              "#d8576b"
             ],
             [
              0.6666666666666666,
              "#ed7953"
             ],
             [
              0.7777777777777778,
              "#fb9f3a"
             ],
             [
              0.8888888888888888,
              "#fdca26"
             ],
             [
              1,
              "#f0f921"
             ]
            ],
            "type": "contour"
           }
          ],
          "contourcarpet": [
           {
            "colorbar": {
             "outlinewidth": 0,
             "ticks": ""
            },
            "type": "contourcarpet"
           }
          ],
          "heatmap": [
           {
            "colorbar": {
             "outlinewidth": 0,
             "ticks": ""
            },
            "colorscale": [
             [
              0,
              "#0d0887"
             ],
             [
              0.1111111111111111,
              "#46039f"
             ],
             [
              0.2222222222222222,
              "#7201a8"
             ],
             [
              0.3333333333333333,
              "#9c179e"
             ],
             [
              0.4444444444444444,
              "#bd3786"
             ],
             [
              0.5555555555555556,
              "#d8576b"
             ],
             [
              0.6666666666666666,
              "#ed7953"
             ],
             [
              0.7777777777777778,
              "#fb9f3a"
             ],
             [
              0.8888888888888888,
              "#fdca26"
             ],
             [
              1,
              "#f0f921"
             ]
            ],
            "type": "heatmap"
           }
          ],
          "heatmapgl": [
           {
            "colorbar": {
             "outlinewidth": 0,
             "ticks": ""
            },
            "colorscale": [
             [
              0,
              "#0d0887"
             ],
             [
              0.1111111111111111,
              "#46039f"
             ],
             [
              0.2222222222222222,
              "#7201a8"
             ],
             [
              0.3333333333333333,
              "#9c179e"
             ],
             [
              0.4444444444444444,
              "#bd3786"
             ],
             [
              0.5555555555555556,
              "#d8576b"
             ],
             [
              0.6666666666666666,
              "#ed7953"
             ],
             [
              0.7777777777777778,
              "#fb9f3a"
             ],
             [
              0.8888888888888888,
              "#fdca26"
             ],
             [
              1,
              "#f0f921"
             ]
            ],
            "type": "heatmapgl"
           }
          ],
          "histogram": [
           {
            "marker": {
             "colorbar": {
              "outlinewidth": 0,
              "ticks": ""
             }
            },
            "type": "histogram"
           }
          ],
          "histogram2d": [
           {
            "colorbar": {
             "outlinewidth": 0,
             "ticks": ""
            },
            "colorscale": [
             [
              0,
              "#0d0887"
             ],
             [
              0.1111111111111111,
              "#46039f"
             ],
             [
              0.2222222222222222,
              "#7201a8"
             ],
             [
              0.3333333333333333,
              "#9c179e"
             ],
             [
              0.4444444444444444,
              "#bd3786"
             ],
             [
              0.5555555555555556,
              "#d8576b"
             ],
             [
              0.6666666666666666,
              "#ed7953"
             ],
             [
              0.7777777777777778,
              "#fb9f3a"
             ],
             [
              0.8888888888888888,
              "#fdca26"
             ],
             [
              1,
              "#f0f921"
             ]
            ],
            "type": "histogram2d"
           }
          ],
          "histogram2dcontour": [
           {
            "colorbar": {
             "outlinewidth": 0,
             "ticks": ""
            },
            "colorscale": [
             [
              0,
              "#0d0887"
             ],
             [
              0.1111111111111111,
              "#46039f"
             ],
             [
              0.2222222222222222,
              "#7201a8"
             ],
             [
              0.3333333333333333,
              "#9c179e"
             ],
             [
              0.4444444444444444,
              "#bd3786"
             ],
             [
              0.5555555555555556,
              "#d8576b"
             ],
             [
              0.6666666666666666,
              "#ed7953"
             ],
             [
              0.7777777777777778,
              "#fb9f3a"
             ],
             [
              0.8888888888888888,
              "#fdca26"
             ],
             [
              1,
              "#f0f921"
             ]
            ],
            "type": "histogram2dcontour"
           }
          ],
          "mesh3d": [
           {
            "colorbar": {
             "outlinewidth": 0,
             "ticks": ""
            },
            "type": "mesh3d"
           }
          ],
          "parcoords": [
           {
            "line": {
             "colorbar": {
              "outlinewidth": 0,
              "ticks": ""
             }
            },
            "type": "parcoords"
           }
          ],
          "pie": [
           {
            "automargin": true,
            "type": "pie"
           }
          ],
          "scatter": [
           {
            "marker": {
             "colorbar": {
              "outlinewidth": 0,
              "ticks": ""
             }
            },
            "type": "scatter"
           }
          ],
          "scatter3d": [
           {
            "line": {
             "colorbar": {
              "outlinewidth": 0,
              "ticks": ""
             }
            },
            "marker": {
             "colorbar": {
              "outlinewidth": 0,
              "ticks": ""
             }
            },
            "type": "scatter3d"
           }
          ],
          "scattercarpet": [
           {
            "marker": {
             "colorbar": {
              "outlinewidth": 0,
              "ticks": ""
             }
            },
            "type": "scattercarpet"
           }
          ],
          "scattergeo": [
           {
            "marker": {
             "colorbar": {
              "outlinewidth": 0,
              "ticks": ""
             }
            },
            "type": "scattergeo"
           }
          ],
          "scattergl": [
           {
            "marker": {
             "colorbar": {
              "outlinewidth": 0,
              "ticks": ""
             }
            },
            "type": "scattergl"
           }
          ],
          "scattermapbox": [
           {
            "marker": {
             "colorbar": {
              "outlinewidth": 0,
              "ticks": ""
             }
            },
            "type": "scattermapbox"
           }
          ],
          "scatterpolar": [
           {
            "marker": {
             "colorbar": {
              "outlinewidth": 0,
              "ticks": ""
             }
            },
            "type": "scatterpolar"
           }
          ],
          "scatterpolargl": [
           {
            "marker": {
             "colorbar": {
              "outlinewidth": 0,
              "ticks": ""
             }
            },
            "type": "scatterpolargl"
           }
          ],
          "scatterternary": [
           {
            "marker": {
             "colorbar": {
              "outlinewidth": 0,
              "ticks": ""
             }
            },
            "type": "scatterternary"
           }
          ],
          "surface": [
           {
            "colorbar": {
             "outlinewidth": 0,
             "ticks": ""
            },
            "colorscale": [
             [
              0,
              "#0d0887"
             ],
             [
              0.1111111111111111,
              "#46039f"
             ],
             [
              0.2222222222222222,
              "#7201a8"
             ],
             [
              0.3333333333333333,
              "#9c179e"
             ],
             [
              0.4444444444444444,
              "#bd3786"
             ],
             [
              0.5555555555555556,
              "#d8576b"
             ],
             [
              0.6666666666666666,
              "#ed7953"
             ],
             [
              0.7777777777777778,
              "#fb9f3a"
             ],
             [
              0.8888888888888888,
              "#fdca26"
             ],
             [
              1,
              "#f0f921"
             ]
            ],
            "type": "surface"
           }
          ],
          "table": [
           {
            "cells": {
             "fill": {
              "color": "#EBF0F8"
             },
             "line": {
              "color": "white"
             }
            },
            "header": {
             "fill": {
              "color": "#C8D4E3"
             },
             "line": {
              "color": "white"
             }
            },
            "type": "table"
           }
          ]
         },
         "layout": {
          "annotationdefaults": {
           "arrowcolor": "#2a3f5f",
           "arrowhead": 0,
           "arrowwidth": 1
          },
          "autotypenumbers": "strict",
          "coloraxis": {
           "colorbar": {
            "outlinewidth": 0,
            "ticks": ""
           }
          },
          "colorscale": {
           "diverging": [
            [
             0,
             "#8e0152"
            ],
            [
             0.1,
             "#c51b7d"
            ],
            [
             0.2,
             "#de77ae"
            ],
            [
             0.3,
             "#f1b6da"
            ],
            [
             0.4,
             "#fde0ef"
            ],
            [
             0.5,
             "#f7f7f7"
            ],
            [
             0.6,
             "#e6f5d0"
            ],
            [
             0.7,
             "#b8e186"
            ],
            [
             0.8,
             "#7fbc41"
            ],
            [
             0.9,
             "#4d9221"
            ],
            [
             1,
             "#276419"
            ]
           ],
           "sequential": [
            [
             0,
             "#0d0887"
            ],
            [
             0.1111111111111111,
             "#46039f"
            ],
            [
             0.2222222222222222,
             "#7201a8"
            ],
            [
             0.3333333333333333,
             "#9c179e"
            ],
            [
             0.4444444444444444,
             "#bd3786"
            ],
            [
             0.5555555555555556,
             "#d8576b"
            ],
            [
             0.6666666666666666,
             "#ed7953"
            ],
            [
             0.7777777777777778,
             "#fb9f3a"
            ],
            [
             0.8888888888888888,
             "#fdca26"
            ],
            [
             1,
             "#f0f921"
            ]
           ],
           "sequentialminus": [
            [
             0,
             "#0d0887"
            ],
            [
             0.1111111111111111,
             "#46039f"
            ],
            [
             0.2222222222222222,
             "#7201a8"
            ],
            [
             0.3333333333333333,
             "#9c179e"
            ],
            [
             0.4444444444444444,
             "#bd3786"
            ],
            [
             0.5555555555555556,
             "#d8576b"
            ],
            [
             0.6666666666666666,
             "#ed7953"
            ],
            [
             0.7777777777777778,
             "#fb9f3a"
            ],
            [
             0.8888888888888888,
             "#fdca26"
            ],
            [
             1,
             "#f0f921"
            ]
           ]
          },
          "colorway": [
           "#636efa",
           "#EF553B",
           "#00cc96",
           "#ab63fa",
           "#FFA15A",
           "#19d3f3",
           "#FF6692",
           "#B6E880",
           "#FF97FF",
           "#FECB52"
          ],
          "font": {
           "color": "#2a3f5f"
          },
          "geo": {
           "bgcolor": "white",
           "lakecolor": "white",
           "landcolor": "#E5ECF6",
           "showlakes": true,
           "showland": true,
           "subunitcolor": "white"
          },
          "hoverlabel": {
           "align": "left"
          },
          "hovermode": "closest",
          "mapbox": {
           "style": "light"
          },
          "paper_bgcolor": "white",
          "plot_bgcolor": "#E5ECF6",
          "polar": {
           "angularaxis": {
            "gridcolor": "white",
            "linecolor": "white",
            "ticks": ""
           },
           "bgcolor": "#E5ECF6",
           "radialaxis": {
            "gridcolor": "white",
            "linecolor": "white",
            "ticks": ""
           }
          },
          "scene": {
           "xaxis": {
            "backgroundcolor": "#E5ECF6",
            "gridcolor": "white",
            "gridwidth": 2,
            "linecolor": "white",
            "showbackground": true,
            "ticks": "",
            "zerolinecolor": "white"
           },
           "yaxis": {
            "backgroundcolor": "#E5ECF6",
            "gridcolor": "white",
            "gridwidth": 2,
            "linecolor": "white",
            "showbackground": true,
            "ticks": "",
            "zerolinecolor": "white"
           },
           "zaxis": {
            "backgroundcolor": "#E5ECF6",
            "gridcolor": "white",
            "gridwidth": 2,
            "linecolor": "white",
            "showbackground": true,
            "ticks": "",
            "zerolinecolor": "white"
           }
          },
          "shapedefaults": {
           "line": {
            "color": "#2a3f5f"
           }
          },
          "ternary": {
           "aaxis": {
            "gridcolor": "white",
            "linecolor": "white",
            "ticks": ""
           },
           "baxis": {
            "gridcolor": "white",
            "linecolor": "white",
            "ticks": ""
           },
           "bgcolor": "#E5ECF6",
           "caxis": {
            "gridcolor": "white",
            "linecolor": "white",
            "ticks": ""
           }
          },
          "title": {
           "x": 0.05
          },
          "xaxis": {
           "automargin": true,
           "gridcolor": "white",
           "linecolor": "white",
           "ticks": "",
           "title": {
            "standoff": 15
           },
           "zerolinecolor": "white",
           "zerolinewidth": 2
          },
          "yaxis": {
           "automargin": true,
           "gridcolor": "white",
           "linecolor": "white",
           "ticks": "",
           "title": {
            "standoff": 15
           },
           "zerolinecolor": "white",
           "zerolinewidth": 2
          }
         }
        },
        "title": {
         "font": {
          "color": "#4D5663"
         }
        },
        "xaxis": {
         "autorange": true,
         "gridcolor": "#E1E5ED",
         "range": [
          -0.5,
          25.5
         ],
         "showgrid": true,
         "tickfont": {
          "color": "#4D5663"
         },
         "title": {
          "font": {
           "color": "#4D5663"
          },
          "text": ""
         },
         "type": "category",
         "zerolinecolor": "#E1E5ED"
        },
        "yaxis": {
         "autorange": true,
         "gridcolor": "#E1E5ED",
         "range": [
          0,
          1.0526315789473686
         ],
         "showgrid": true,
         "tickfont": {
          "color": "#4D5663"
         },
         "title": {
          "font": {
           "color": "#4D5663"
          },
          "text": ""
         },
         "type": "linear",
         "zerolinecolor": "#E1E5ED"
        }
       }
      },
      "image/png": "[encoded data removed]",
      "text/html": [
       "<div>                            <div id=\"87e783d2-8496-4ebd-b03e-132298be48dd\" class=\"plotly-graph-div\" style=\"height:525px; width:100%;\"></div>            <script type=\"text/javascript\">                require([\"plotly\"], function(Plotly) {                    window.PLOTLYENV=window.PLOTLYENV || {};\n",
       "                    window.PLOTLYENV.BASE_URL='https://plot.ly';                                    if (document.getElementById(\"87e783d2-8496-4ebd-b03e-132298be48dd\")) {                    Plotly.newPlot(                        \"87e783d2-8496-4ebd-b03e-132298be48dd\",                        [{\"marker\": {\"color\": \"rgba(255, 153, 51, 0.6)\", \"line\": {\"color\": \"rgba(255, 153, 51, 1.0)\", \"width\": 1}}, \"name\": \"Allthetopbananas.com\", \"orientation\": \"v\", \"text\": \"\", \"type\": \"bar\", \"x\": [\"2021-week_33\", \"2021-week_34\", \"2021-week_35\", \"2021-week_36\", \"2021-week_37\", \"2021-week_38\", \"2021-week_39\", \"2021-week_40\", \"2021-week_41\", \"2021-week_42\", \"2021-week_43\", \"2021-week_44\", \"2021-week_45\", \"2021-week_46\", \"2021-week_47\", \"2021-week_48\", \"2021-week_49\", \"2021-week_50\", \"2021-week_51\", \"2022-week_01\", \"2022-week_02\", \"2022-week_03\", \"2022-week_04\", \"2022-week_05\", \"2022-week_06\", \"2022-week_52\"], \"y\": [0.0004876010030649206, 0.00020875374017117806, 0.0004870242816391846, 0.0009728978457261987, 0.000764313507504169, 0.0009758137589740016, 0.000416204217536071, 0.0009718172983479105, 0.0006954102920723226, 0.0002782415136338342, 0.00020881186051367718, 0.0006993496048674732, 0.00110803324099723, 0.0007665505226480836, 0.00034717400361060965, 0.0004859761177450708, 0.0005579967915184488, 0.0005554012774229381, 0.00046856696602889497, 0.0004171011470281543, 0.0004853359217915829, 0.0005587762799469162, 0.0005568316280364725, 0.00034814092744743074, 0.00027799013135033706, 0.0008788449466415569]}, {\"marker\": {\"color\": \"rgba(55, 128, 191, 0.6)\", \"line\": {\"color\": \"rgba(55, 128, 191, 1.0)\", \"width\": 1}}, \"name\": \"Altammune\", \"orientation\": \"v\", \"text\": \"\", \"type\": \"bar\", \"x\": [\"2021-week_33\", \"2021-week_34\", \"2021-week_35\", \"2021-week_36\", \"2021-week_37\", \"2021-week_38\", \"2021-week_39\", \"2021-week_40\", \"2021-week_41\", \"2021-week_42\", \"2021-week_43\", \"2021-week_44\", \"2021-week_45\", \"2021-week_46\", \"2021-week_47\", \"2021-week_48\", \"2021-week_49\", \"2021-week_50\", \"2021-week_51\", \"2022-week_01\", \"2022-week_02\", \"2022-week_03\", \"2022-week_04\", \"2022-week_05\", \"2022-week_06\", \"2022-week_52\"], \"y\": [\"\", \"\", 6.957489737702637e-05, \"\", \"\", 6.970098278385725e-05, \"\", 0.00013883104262113008, \"\", 6.956037840845854e-05, \"\", \"\", \"\", \"\", \"\", \"\", \"\", \"\", \"\", \"\", \"\", \"\", \"\", \"\", \"\", \"\"]}, {\"marker\": {\"color\": \"rgba(50, 171, 96, 0.6)\", \"line\": {\"color\": \"rgba(50, 171, 96, 1.0)\", \"width\": 1}}, \"name\": \"Bizanga\", \"orientation\": \"v\", \"text\": \"\", \"type\": \"bar\", \"x\": [\"2021-week_33\", \"2021-week_34\", \"2021-week_35\", \"2021-week_36\", \"2021-week_37\", \"2021-week_38\", \"2021-week_39\", \"2021-week_40\", \"2021-week_41\", \"2021-week_42\", \"2021-week_43\", \"2021-week_44\", \"2021-week_45\", \"2021-week_46\", \"2021-week_47\", \"2021-week_48\", \"2021-week_49\", \"2021-week_50\", \"2021-week_51\", \"2022-week_01\", \"2022-week_02\", \"2022-week_03\", \"2022-week_04\", \"2022-week_05\", \"2022-week_06\", \"2022-week_52\"], \"y\": [0.007174700473669545, 0.006888873425648877, 0.005705141584916162, 0.005281445448227936, 0.005350194552529183, 0.005436676657140866, 0.004786348501664817, 0.004442593363876163, 0.005980528511821975, 0.006886477462437396, 0.004941880698823693, 0.004126162668718092, 0.004224376731301939, 0.006202090592334495, 0.007082349673656437, 0.006248264371008053, 0.0076724558833786705, 0.006803665648430992, 0.006794221007418977, 0.007438303788668752, 0.006378700686403661, 0.004540057274568694, 0.003758613489246189, 0.0034117810889848213, 0.003891861838904719, 0.006089139987445072]}, {\"marker\": {\"color\": \"rgba(128, 0, 128, 0.6)\", \"line\": {\"color\": \"rgba(128, 0, 128, 1.0)\", \"width\": 1}}, \"name\": \"Crescendo Networks\", \"orientation\": \"v\", \"text\": \"\", \"type\": \"bar\", \"x\": [\"2021-week_33\", \"2021-week_34\", \"2021-week_35\", \"2021-week_36\", \"2021-week_37\", \"2021-week_38\", \"2021-week_39\", \"2021-week_40\", \"2021-week_41\", \"2021-week_42\", \"2021-week_43\", \"2021-week_44\", \"2021-week_45\", \"2021-week_46\", \"2021-week_47\", \"2021-week_48\", \"2021-week_49\", \"2021-week_50\", \"2021-week_51\", \"2022-week_01\", \"2022-week_02\", \"2022-week_03\", \"2022-week_04\", \"2022-week_05\", \"2022-week_06\", \"2022-week_52\"], \"y\": [0.0030649205906937865, 0.0057059355646788676, 0.00480066791901482, 0.007366226546212648, 0.006183991106170094, 0.006482191398898725, 0.0054106548279689234, 0.017700957934194086, 0.006397774687065368, 0.0034084585420144685, 0.004106633256768985, 0.004685642352612071, 0.0033240997229916896, 0.010871080139372822, 0.003749479238994584, 0.003748958622604832, 0.004463974332147591, 0.003957234101638433, 0.006247559547051933, 0.0026416405978449773, 0.0033973514525410804, 0.002584340294754488, 0.0030625739542005986, 0.003342152903495335, 0.002084925985127528, 0.005712492153170119]}, {\"marker\": {\"color\": \"rgba(219, 64, 82, 0.6)\", \"line\": {\"color\": \"rgba(219, 64, 82, 1.0)\", \"width\": 1}}, \"name\": \"Cue\", \"orientation\": \"v\", \"text\": \"\", \"type\": \"bar\", \"x\": [\"2021-week_33\", \"2021-week_34\", \"2021-week_35\", \"2021-week_36\", \"2021-week_37\", \"2021-week_38\", \"2021-week_39\", \"2021-week_40\", \"2021-week_41\", \"2021-week_42\", \"2021-week_43\", \"2021-week_44\", \"2021-week_45\", \"2021-week_46\", \"2021-week_47\", \"2021-week_48\", \"2021-week_49\", \"2021-week_50\", \"2021-week_51\", \"2022-week_01\", \"2022-week_02\", \"2022-week_03\", \"2022-week_04\", \"2022-week_05\", \"2022-week_06\", \"2022-week_52\"], \"y\": [\"\", 6.958458005705935e-05, \"\", \"\", \"\", 0.0001394019655677145, \"\", 6.941552131056504e-05, \"\", \"\", \"\", \"\", \"\", \"\", \"\", \"\", \"\", \"\", \"\", \"\", \"\", \"\", \"\", \"\", \"\", \"\"]}, {\"marker\": {\"color\": \"rgba(0, 128, 128, 0.6)\", \"line\": {\"color\": \"rgba(0, 128, 128, 1.0)\", \"width\": 1}}, \"name\": \"Cuiker\", \"orientation\": \"v\", \"text\": \"\", \"type\": \"bar\", \"x\": [\"2021-week_33\", \"2021-week_34\", \"2021-week_35\", \"2021-week_36\", \"2021-week_37\", \"2021-week_38\", \"2021-week_39\", \"2021-week_40\", \"2021-week_41\", \"2021-week_42\", \"2021-week_43\", \"2021-week_44\", \"2021-week_45\", \"2021-week_46\", \"2021-week_47\", \"2021-week_48\", \"2021-week_49\", \"2021-week_50\", \"2021-week_51\", \"2022-week_01\", \"2022-week_02\", \"2022-week_03\", \"2022-week_04\", \"2022-week_05\", \"2022-week_06\", \"2022-week_52\"], \"y\": [6.965728615213152e-05, 6.958458005705935e-05, 6.957489737702637e-05, 6.949270326615705e-05, \"\", \"\", \"\", \"\", 6.954102920723227e-05, 6.956037840845854e-05, 6.960395350455906e-05, \"\", 6.925207756232688e-05, 6.968641114982578e-05, 0.00013886960144424384, \"\", 0.0002092487968194183, 0.00013885031935573453, 7.809449433814917e-05, 6.951685783802571e-05, 6.933370311308327e-05, 6.984703499336453e-05, \"\", \"\", 6.949753283758427e-05, 6.277463904582549e-05]}, {\"marker\": {\"color\": \"rgba(255, 255, 51, 0.6)\", \"line\": {\"color\": \"rgba(255, 255, 51, 1.0)\", \"width\": 1}}, \"name\": \"Derceto\", \"orientation\": \"v\", \"text\": \"\", \"type\": \"bar\", \"x\": [\"2021-week_33\", \"2021-week_34\", \"2021-week_35\", \"2021-week_36\", \"2021-week_37\", \"2021-week_38\", \"2021-week_39\", \"2021-week_40\", \"2021-week_41\", \"2021-week_42\", \"2021-week_43\", \"2021-week_44\", \"2021-week_45\", \"2021-week_46\", \"2021-week_47\", \"2021-week_48\", \"2021-week_49\", \"2021-week_50\", \"2021-week_51\", \"2022-week_01\", \"2022-week_02\", \"2022-week_03\", \"2022-week_04\", \"2022-week_05\", \"2022-week_06\", \"2022-week_52\"], \"y\": [\"\", \"\", \"\", \"\", 6.948304613674263e-05, \"\", \"\", \"\", \"\", \"\", \"\", \"\", \"\", \"\", \"\", \"\", \"\", \"\", \"\", \"\", \"\", \"\", \"\", \"\", \"\", \"\"]}, {\"marker\": {\"color\": \"rgba(128, 128, 0, 0.6)\", \"line\": {\"color\": \"rgba(128, 128, 0, 1.0)\", \"width\": 1}}, \"name\": \"Doctorfun Entertainment, Ltd\", \"orientation\": \"v\", \"text\": \"\", \"type\": \"bar\", \"x\": [\"2021-week_33\", \"2021-week_34\", \"2021-week_35\", \"2021-week_36\", \"2021-week_37\", \"2021-week_38\", \"2021-week_39\", \"2021-week_40\", \"2021-week_41\", \"2021-week_42\", \"2021-week_43\", \"2021-week_44\", \"2021-week_45\", \"2021-week_46\", \"2021-week_47\", \"2021-week_48\", \"2021-week_49\", \"2021-week_50\", \"2021-week_51\", \"2022-week_01\", \"2022-week_02\", \"2022-week_03\", \"2022-week_04\", \"2022-week_05\", \"2022-week_06\", \"2022-week_52\"], \"y\": [\"\", \"\", 0.0002782995895081055, 0.00048644892286309936, 0.0009032795997776543, 0.0010455147417578587, 0.0012486126526082132, 0.0009718172983479105, 0.0012517385257301808, 0.0017390094602114635, 0.0009744553490638268, 0.0009091544863277152, 6.925207756232688e-05, 6.968641114982578e-05, \"\", 0.00013885031935573453, 0.0002092487968194183, \"\", 7.809449433814917e-05, 6.951685783802571e-05, 0.0004853359217915829, 0.0007683173849270099, 0.0008352474420547087, 0.0007659100403843476, 0.0008339703940510112, 6.277463904582549e-05]}, {\"marker\": {\"color\": \"rgba(251, 128, 114, 0.6)\", \"line\": {\"color\": \"rgba(251, 128, 114, 1.0)\", \"width\": 1}}, \"name\": \"Earth Networks\", \"orientation\": \"v\", \"text\": \"\", \"type\": \"bar\", \"x\": [\"2021-week_33\", \"2021-week_34\", \"2021-week_35\", \"2021-week_36\", \"2021-week_37\", \"2021-week_38\", \"2021-week_39\", \"2021-week_40\", \"2021-week_41\", \"2021-week_42\", \"2021-week_43\", \"2021-week_44\", \"2021-week_45\", \"2021-week_46\", \"2021-week_47\", \"2021-week_48\", \"2021-week_49\", \"2021-week_50\", \"2021-week_51\", \"2022-week_01\", \"2022-week_02\", \"2022-week_03\", \"2022-week_04\", \"2022-week_05\", \"2022-week_06\", \"2022-week_52\"], \"y\": [\"\", \"\", 6.957489737702637e-05, 0.0001389854065323141, \"\", \"\", \"\", \"\", 6.954102920723227e-05, \"\", \"\", \"\", \"\", \"\", \"\", \"\", \"\", \"\", \"\", \"\", \"\", \"\", \"\", \"\", \"\", \"\"]}, {\"marker\": {\"color\": \"rgba(128, 177, 211, 0.6)\", \"line\": {\"color\": \"rgba(128, 177, 211, 1.0)\", \"width\": 1}}, \"name\": \"Extreme DA\", \"orientation\": \"v\", \"text\": \"\", \"type\": \"bar\", \"x\": [\"2021-week_33\", \"2021-week_34\", \"2021-week_35\", \"2021-week_36\", \"2021-week_37\", \"2021-week_38\", \"2021-week_39\", \"2021-week_40\", \"2021-week_41\", \"2021-week_42\", \"2021-week_43\", \"2021-week_44\", \"2021-week_45\", \"2021-week_46\", \"2021-week_47\", \"2021-week_48\", \"2021-week_49\", \"2021-week_50\", \"2021-week_51\", \"2022-week_01\", \"2022-week_02\", \"2022-week_03\", \"2022-week_04\", \"2022-week_05\", \"2022-week_06\", \"2022-week_52\"], \"y\": [0.03517692950682642, 0.08892909331292186, 0.09601335838029638, 0.09263377345378736, 0.0883129516397999, 0.14776608350177736, 0.170019422863485, 0.1646536165486603, 0.1588317107093185, 0.14322481914301613, 0.15653929143175332, 0.16791384012868033, 0.18421052631578946, 0.19658536585365854, 0.20844327176781002, 0.18286587059150236, 0.12582827648741018, 0.13843376839766733, 0.21288559156579462, 0.20208550573514078, 0.19663038202870414, 0.17531605783334497, 0.16906800306257394, 0.17156384904609387, 0.16686357634303983, 0.16064030131826743]}, {\"marker\": {\"color\": \"rgba(128, 177, 211, 0.6)\", \"line\": {\"color\": \"rgba(128, 177, 211, 0.8999999999999999)\", \"width\": 1}}, \"name\": \"Fancy\", \"orientation\": \"v\", \"text\": \"\", \"type\": \"bar\", \"x\": [\"2021-week_33\", \"2021-week_34\", \"2021-week_35\", \"2021-week_36\", \"2021-week_37\", \"2021-week_38\", \"2021-week_39\", \"2021-week_40\", \"2021-week_41\", \"2021-week_42\", \"2021-week_43\", \"2021-week_44\", \"2021-week_45\", \"2021-week_46\", \"2021-week_47\", \"2021-week_48\", \"2021-week_49\", \"2021-week_50\", \"2021-week_51\", \"2022-week_01\", \"2022-week_02\", \"2022-week_03\", \"2022-week_04\", \"2022-week_05\", \"2022-week_06\", \"2022-week_52\"], \"y\": [0.06485093340763444, 0.05260594252313687, 0.06129548458916023, 0.0739402362751911, 0.0821289605336298, 0.08106224297762599, 0.07450055493895671, 0.08322921005136749, 0.10069541029207232, 0.07957707289927657, 0.08561286281060765, 0.0904259039093643, 0.09217451523545707, 0.0713588850174216, 0.039786140813775864, 0.07025826159400167, 0.11494733905280044, 0.11170508192168842, 0.09160484185864896, 0.06743135210288495, 0.0704430423628926, 0.09170915694628763, 0.12382543328461057, 0.13681938448684028, 0.15671693654875252, 0.08242310106716887]}, {\"marker\": {\"color\": \"rgba(255, 153, 51, 0.6)\", \"line\": {\"color\": \"rgba(255, 153, 51, 0.8999999999999999)\", \"width\": 1}}, \"name\": \"FlagTap\", \"orientation\": \"v\", \"text\": \"\", \"type\": \"bar\", \"x\": [\"2021-week_33\", \"2021-week_34\", \"2021-week_35\", \"2021-week_36\", \"2021-week_37\", \"2021-week_38\", \"2021-week_39\", \"2021-week_40\", \"2021-week_41\", \"2021-week_42\", \"2021-week_43\", \"2021-week_44\", \"2021-week_45\", \"2021-week_46\", \"2021-week_47\", \"2021-week_48\", \"2021-week_49\", \"2021-week_50\", \"2021-week_51\", \"2022-week_01\", \"2022-week_02\", \"2022-week_03\", \"2022-week_04\", \"2022-week_05\", \"2022-week_06\", \"2022-week_52\"], \"y\": [0.00013931457230426304, \"\", \"\", \"\", \"\", \"\", \"\", \"\", \"\", \"\", \"\", \"\", \"\", \"\", \"\", \"\", \"\", \"\", \"\", \"\", \"\", \"\", \"\", \"\", \"\", \"\"]}, {\"marker\": {\"color\": \"rgba(55, 128, 191, 0.6)\", \"line\": {\"color\": \"rgba(55, 128, 191, 0.8999999999999999)\", \"width\": 1}}, \"name\": \"Fry Multimedia\", \"orientation\": \"v\", \"text\": \"\", \"type\": \"bar\", \"x\": [\"2021-week_33\", \"2021-week_34\", \"2021-week_35\", \"2021-week_36\", \"2021-week_37\", \"2021-week_38\", \"2021-week_39\", \"2021-week_40\", \"2021-week_41\", \"2021-week_42\", \"2021-week_43\", \"2021-week_44\", \"2021-week_45\", \"2021-week_46\", \"2021-week_47\", \"2021-week_48\", \"2021-week_49\", \"2021-week_50\", \"2021-week_51\", \"2022-week_01\", \"2022-week_02\", \"2022-week_03\", \"2022-week_04\", \"2022-week_05\", \"2022-week_06\", \"2022-week_52\"], \"y\": [0.01567288938422959, 0.017744067914550136, 0.017950323523272804, 0.01716469770674079, 0.017857142857142856, 0.01575242210915174, 0.014567147613762486, 0.018256282104678605, 0.0196105702364395, 0.0134251530328325, 0.012111087909793277, 0.01258829288761452, 0.010110803324099723, 0.00975609756097561, 0.011803916122760728, 0.014509858372674257, 0.012624677408104903, 0.009233546237156345, 0.01101132370167903, 0.016336461591936045, 0.016501421340913817, 0.014178948103653, 0.012041483956288717, 0.009956830524996518, 0.012162068246577246, 0.006528562460765851]}, {\"marker\": {\"color\": \"rgba(50, 171, 96, 0.6)\", \"line\": {\"color\": \"rgba(50, 171, 96, 0.8999999999999999)\", \"width\": 1}}, \"name\": \"G-mode\", \"orientation\": \"v\", \"text\": \"\", \"type\": \"bar\", \"x\": [\"2021-week_33\", \"2021-week_34\", \"2021-week_35\", \"2021-week_36\", \"2021-week_37\", \"2021-week_38\", \"2021-week_39\", \"2021-week_40\", \"2021-week_41\", \"2021-week_42\", \"2021-week_43\", \"2021-week_44\", \"2021-week_45\", \"2021-week_46\", \"2021-week_47\", \"2021-week_48\", \"2021-week_49\", \"2021-week_50\", \"2021-week_51\", \"2022-week_01\", \"2022-week_02\", \"2022-week_03\", \"2022-week_04\", \"2022-week_05\", \"2022-week_06\", \"2022-week_52\"], \"y\": [0.0026469768737809973, 0.0026442140421682556, 0.0030612954845891604, 0.005628908964558721, 0.005350194552529183, 0.002997142259705862, 0.004786348501664817, 0.004928502013050118, 0.005563282336578581, 0.0025041736227045075, 0.0021577225586413306, 0.002587593538009651, 0.004293628808864266, 0.0029965156794425087, 0.002846826829606999, 0.0036101083032490976, 0.00411522633744856, 0.002360455429047487, 0.004607575165950801, 0.0022940563086548487, 0.003328017749427997, 0.002374799189774394, 0.0027841581401823624, 0.002297730121153043, 0.0014594481895892695, 0.004331450094161958]}, {\"marker\": {\"color\": \"rgba(128, 0, 128, 0.6)\", \"line\": {\"color\": \"rgba(128, 0, 128, 0.8999999999999999)\", \"width\": 1}}, \"name\": \"Glory Medical\", \"orientation\": \"v\", \"text\": \"\", \"type\": \"bar\", \"x\": [\"2021-week_33\", \"2021-week_34\", \"2021-week_35\", \"2021-week_36\", \"2021-week_37\", \"2021-week_38\", \"2021-week_39\", \"2021-week_40\", \"2021-week_41\", \"2021-week_42\", \"2021-week_43\", \"2021-week_44\", \"2021-week_45\", \"2021-week_46\", \"2021-week_47\", \"2021-week_48\", \"2021-week_49\", \"2021-week_50\", \"2021-week_51\", \"2022-week_01\", \"2022-week_02\", \"2022-week_03\", \"2022-week_04\", \"2022-week_05\", \"2022-week_06\", \"2022-week_52\"], \"y\": [0.0034132070214544443, 0.0007654303806276529, 0.00013914979475405275, 0.0006254343293954135, 0.0002084491384102279, 0.00034850491391928625, 0.0002081021087680355, 0.00020824656393169514, 6.954102920723227e-05, 6.956037840845854e-05, 6.960395350455906e-05, 0.0003496748024337366, \"\", 0.00013937282229965157, 0.00020830440216636578, 0.00027770063871146905, 0.0004184975936388366, 0.0003471257983893363, 0.00031237797735259666, 0.00013903371567605143, 0.00013866740622616653, 6.984703499336453e-05, \"\", 0.0001392563709789723, \"\", 6.277463904582549e-05]}, {\"marker\": {\"color\": \"rgba(219, 64, 82, 0.6)\", \"line\": {\"color\": \"rgba(219, 64, 82, 0.8999999999999999)\", \"width\": 1}}, \"name\": \"Joules Clothing\", \"orientation\": \"v\", \"text\": \"\", \"type\": \"bar\", \"x\": [\"2021-week_33\", \"2021-week_34\", \"2021-week_35\", \"2021-week_36\", \"2021-week_37\", \"2021-week_38\", \"2021-week_39\", \"2021-week_40\", \"2021-week_41\", \"2021-week_42\", \"2021-week_43\", \"2021-week_44\", \"2021-week_45\", \"2021-week_46\", \"2021-week_47\", \"2021-week_48\", \"2021-week_49\", \"2021-week_50\", \"2021-week_51\", \"2022-week_01\", \"2022-week_02\", \"2022-week_03\", \"2022-week_04\", \"2022-week_05\", \"2022-week_06\", \"2022-week_52\"], \"y\": [0.00027862914460852607, 6.958458005705935e-05, 0.00034787448688513185, 0.00020847810979847116, \"\", 6.970098278385725e-05, \"\", \"\", 6.954102920723227e-05, 0.0001391207568169171, \"\", 0.00020980488146024197, 6.925207756232688e-05, 0.00013937282229965157, 6.943480072212192e-05, \"\", \"\", \"\", \"\", \"\", 6.933370311308327e-05, \"\", \"\", \"\", \"\", \"\"]}, {\"marker\": {\"color\": \"rgba(0, 128, 128, 0.6)\", \"line\": {\"color\": \"rgba(0, 128, 128, 0.8999999999999999)\", \"width\": 1}}, \"name\": \"Jun Group\", \"orientation\": \"v\", \"text\": \"\", \"type\": \"bar\", \"x\": [\"2021-week_33\", \"2021-week_34\", \"2021-week_35\", \"2021-week_36\", \"2021-week_37\", \"2021-week_38\", \"2021-week_39\", \"2021-week_40\", \"2021-week_41\", \"2021-week_42\", \"2021-week_43\", \"2021-week_44\", \"2021-week_45\", \"2021-week_46\", \"2021-week_47\", \"2021-week_48\", \"2021-week_49\", \"2021-week_50\", \"2021-week_51\", \"2022-week_01\", \"2022-week_02\", \"2022-week_03\", \"2022-week_04\", \"2022-week_05\", \"2022-week_06\", \"2022-week_52\"], \"y\": [\"\", \"\", \"\", \"\", \"\", \"\", \"\", \"\", \"\", \"\", \"\", 6.993496048674733e-05, \"\", \"\", \"\", \"\", \"\", \"\", 7.809449433814917e-05, \"\", \"\", \"\", 0.00013920790700911812, \"\", \"\", \"\"]}, {\"marker\": {\"color\": \"rgba(255, 255, 51, 0.6)\", \"line\": {\"color\": \"rgba(255, 255, 51, 0.8999999999999999)\", \"width\": 1}}, \"name\": \"LocalVox Media\", \"orientation\": \"v\", \"text\": \"\", \"type\": \"bar\", \"x\": [\"2021-week_33\", \"2021-week_34\", \"2021-week_35\", \"2021-week_36\", \"2021-week_37\", \"2021-week_38\", \"2021-week_39\", \"2021-week_40\", \"2021-week_41\", \"2021-week_42\", \"2021-week_43\", \"2021-week_44\", \"2021-week_45\", \"2021-week_46\", \"2021-week_47\", \"2021-week_48\", \"2021-week_49\", \"2021-week_50\", \"2021-week_51\", \"2022-week_01\", \"2022-week_02\", \"2022-week_03\", \"2022-week_04\", \"2022-week_05\", \"2022-week_06\", \"2022-week_52\"], \"y\": [0.015254945667316801, 0.020875374017117806, 0.01551520211507688, 0.01535788742182071, 0.01764869371873263, 0.015961525057503312, 0.013665371809100999, 0.016034985422740525, 0.015716272600834493, 0.011268781302170284, 0.009396533723115472, 0.014546471781243443, 0.017243767313019392, 0.016445993031358887, 0.017914178586307457, 0.01825881699527909, 0.02218037246285834, 0.016870313801721742, 0.01663412729402577, 0.016127911018421967, 0.01504541357553907, 0.011175525598938325, 0.0119022760492796, 0.011001253307338811, 0.010146639794287303, 0.021468926553672316]}, {\"marker\": {\"color\": \"rgba(128, 128, 0, 0.6)\", \"line\": {\"color\": \"rgba(128, 128, 0, 0.8999999999999999)\", \"width\": 1}}, \"name\": \"Marketo Japan\", \"orientation\": \"v\", \"text\": \"\", \"type\": \"bar\", \"x\": [\"2021-week_33\", \"2021-week_34\", \"2021-week_35\", \"2021-week_36\", \"2021-week_37\", \"2021-week_38\", \"2021-week_39\", \"2021-week_40\", \"2021-week_41\", \"2021-week_42\", \"2021-week_43\", \"2021-week_44\", \"2021-week_45\", \"2021-week_46\", \"2021-week_47\", \"2021-week_48\", \"2021-week_49\", \"2021-week_50\", \"2021-week_51\", \"2022-week_01\", \"2022-week_02\", \"2022-week_03\", \"2022-week_04\", \"2022-week_05\", \"2022-week_06\", \"2022-week_52\"], \"y\": [\"\", \"\", \"\", \"\", 6.948304613674263e-05, \"\", \"\", \"\", \"\", \"\", \"\", \"\", \"\", \"\", \"\", \"\", \"\", \"\", \"\", \"\", \"\", \"\", \"\", \"\", \"\", \"\"]}, {\"marker\": {\"color\": \"rgba(251, 128, 114, 0.6)\", \"line\": {\"color\": \"rgba(251, 128, 114, 0.8999999999999999)\", \"width\": 1}}, \"name\": \"Metranome\", \"orientation\": \"v\", \"text\": \"\", \"type\": \"bar\", \"x\": [\"2021-week_33\", \"2021-week_34\", \"2021-week_35\", \"2021-week_36\", \"2021-week_37\", \"2021-week_38\", \"2021-week_39\", \"2021-week_40\", \"2021-week_41\", \"2021-week_42\", \"2021-week_43\", \"2021-week_44\", \"2021-week_45\", \"2021-week_46\", \"2021-week_47\", \"2021-week_48\", \"2021-week_49\", \"2021-week_50\", \"2021-week_51\", \"2022-week_01\", \"2022-week_02\", \"2022-week_03\", \"2022-week_04\", \"2022-week_05\", \"2022-week_06\", \"2022-week_52\"], \"y\": [0.00027862914460852607, 0.00020875374017117806, 0.0002782995895081055, 0.00034746351633078526, 6.948304613674263e-05, 6.970098278385725e-05, 0.00013873473917869035, 0.00013883104262113008, \"\", \"\", \"\", 6.993496048674733e-05, \"\", 6.968641114982578e-05, \"\", \"\", 0.0001394991978796122, 0.00013885031935573453, 7.809449433814917e-05, \"\", \"\", \"\", 0.00013920790700911812, 6.962818548948615e-05, 6.949753283758427e-05, 6.277463904582549e-05]}, {\"marker\": {\"color\": \"rgba(251, 128, 114, 0.6)\", \"line\": {\"color\": \"rgba(251, 128, 114, 0.7999999999999998)\", \"width\": 1}}, \"name\": \"Mission Street Manufacturing\", \"orientation\": \"v\", \"text\": \"\", \"type\": \"bar\", \"x\": [\"2021-week_33\", \"2021-week_34\", \"2021-week_35\", \"2021-week_36\", \"2021-week_37\", \"2021-week_38\", \"2021-week_39\", \"2021-week_40\", \"2021-week_41\", \"2021-week_42\", \"2021-week_43\", \"2021-week_44\", \"2021-week_45\", \"2021-week_46\", \"2021-week_47\", \"2021-week_48\", \"2021-week_49\", \"2021-week_50\", \"2021-week_51\", \"2022-week_01\", \"2022-week_02\", \"2022-week_03\", \"2022-week_04\", \"2022-week_05\", \"2022-week_06\", \"2022-week_52\"], \"y\": [0.0009752020061298412, 0.0006958458005705936, 0.0010436234606553956, 0.00034746351633078526, 0.0003474152306837132, 0.0006273088450547153, 0.000416204217536071, 0.0003470776065528252, 0.0004172461752433936, 0.00041736227045075126, 0.00041762372102735435, 0.0009091544863277152, 0.0006232686980609418, 0.0005574912891986063, 0.0005554784057769754, 0.00041655095806720355, 0.0009067447862174793, 0.00041655095806720355, 0.0003904724716907458, 0.0003475842891901286, 0.00020800110933924982, 0.0004889292449535517, 6.960395350455906e-05, 0.00020888455646845844, 0.0005559802627006741, 0.00025109855618330194]}, {\"marker\": {\"color\": \"rgba(128, 177, 211, 0.6)\", \"line\": {\"color\": \"rgba(128, 177, 211, 0.7999999999999998)\", \"width\": 1}}, \"name\": \"MoJoe Brewing Company\", \"orientation\": \"v\", \"text\": \"\", \"type\": \"bar\", \"x\": [\"2021-week_33\", \"2021-week_34\", \"2021-week_35\", \"2021-week_36\", \"2021-week_37\", \"2021-week_38\", \"2021-week_39\", \"2021-week_40\", \"2021-week_41\", \"2021-week_42\", \"2021-week_43\", \"2021-week_44\", \"2021-week_45\", \"2021-week_46\", \"2021-week_47\", \"2021-week_48\", \"2021-week_49\", \"2021-week_50\", \"2021-week_51\", \"2022-week_01\", \"2022-week_02\", \"2022-week_03\", \"2022-week_04\", \"2022-week_05\", \"2022-week_06\", \"2022-week_52\"], \"y\": [0.09424630816383393, 0.07890891378470531, 0.10387532178390037, 0.08881167477414871, 0.09672040022234575, 0.0759740712344044, 0.08011931187569367, 0.07309454394002499, 0.05744089012517385, 0.041666666666666664, 0.0680030625739542, 0.06007413105811595, 0.056509695290858725, 0.09874564459930314, 0.0611026246354673, 0.13732296584282144, 0.0823045267489712, 0.12454873646209386, 0.07169074580242094, 0.07897115050399722, 0.08028842820495043, 0.10169728295033875, 0.06507969652676272, 0.08174348976465673, 0.06393773021057753, 0.14055241682360325]}, {\"marker\": {\"color\": \"rgba(255, 153, 51, 0.6)\", \"line\": {\"color\": \"rgba(255, 153, 51, 0.7999999999999998)\", \"width\": 1}}, \"name\": \"Modanisa\", \"orientation\": \"v\", \"text\": \"\", \"type\": \"bar\", \"x\": [\"2021-week_33\", \"2021-week_34\", \"2021-week_35\", \"2021-week_36\", \"2021-week_37\", \"2021-week_38\", \"2021-week_39\", \"2021-week_40\", \"2021-week_41\", \"2021-week_42\", \"2021-week_43\", \"2021-week_44\", \"2021-week_45\", \"2021-week_46\", \"2021-week_47\", \"2021-week_48\", \"2021-week_49\", \"2021-week_50\", \"2021-week_51\", \"2022-week_01\", \"2022-week_02\", \"2022-week_03\", \"2022-week_04\", \"2022-week_05\", \"2022-week_06\", \"2022-week_52\"], \"y\": [0.009055447199777097, 0.008141395866675945, 0.007583663814095874, 0.007157748436414177, 0.006461923290717065, 0.005854882553844009, 0.02746947835738069, 0.024711925586561156, 0.026564673157162728, 0.022746243739565943, 0.03048653163499687, 0.01594517099097839, 0.006232686980609419, 0.006480836236933798, 0.007290654075822803, 0.006525965009719522, 0.006277463904582548, 0.005762288253262983, 0.004919953143303397, 0.004449078901633646, 0.003328017749427997, 0.0034923517496682267, 0.0027841581401823624, 0.004108062943879683, 0.0025714087149906178, 0.004331450094161958]}, {\"marker\": {\"color\": \"rgba(55, 128, 191, 0.6)\", \"line\": {\"color\": \"rgba(55, 128, 191, 0.7999999999999998)\", \"width\": 1}}, \"name\": \"OpenDesks, Inc.\", \"orientation\": \"v\", \"text\": \"\", \"type\": \"bar\", \"x\": [\"2021-week_33\", \"2021-week_34\", \"2021-week_35\", \"2021-week_36\", \"2021-week_37\", \"2021-week_38\", \"2021-week_39\", \"2021-week_40\", \"2021-week_41\", \"2021-week_42\", \"2021-week_43\", \"2021-week_44\", \"2021-week_45\", \"2021-week_46\", \"2021-week_47\", \"2021-week_48\", \"2021-week_49\", \"2021-week_50\", \"2021-week_51\", \"2022-week_01\", \"2022-week_02\", \"2022-week_03\", \"2022-week_04\", \"2022-week_05\", \"2022-week_06\", \"2022-week_52\"], \"y\": [0.00041794371691278906, 0.0004175074803423561, 0.0004870242816391846, 0.001320361362056984, 0.0009032795997776543, 0.0012546176901094305, 0.00201165371809101, 0.0023601277245592113, 0.0018080667593880389, 0.0019476905954368391, 0.001113663256072945, 0.0018882439331421778, 0.001592797783933518, 0.0029965156794425087, 0.002569087626718511, 0.0014579283532352124, 0.0015344911766757342, 0.0008331019161344071, 0.002420929324482624, 0.00145985401459854, 0.0016640088747139985, 0.001187399594887197, 0.0009048513955592678, 0.0008355382258738338, 0.0009034679268885954, 0.0018832391713747645]}, {\"marker\": {\"color\": \"rgba(50, 171, 96, 0.6)\", \"line\": {\"color\": \"rgba(50, 171, 96, 0.7999999999999998)\", \"width\": 1}}, \"name\": \"PageBites\", \"orientation\": \"v\", \"text\": \"\", \"type\": \"bar\", \"x\": [\"2021-week_33\", \"2021-week_34\", \"2021-week_35\", \"2021-week_36\", \"2021-week_37\", \"2021-week_38\", \"2021-week_39\", \"2021-week_40\", \"2021-week_41\", \"2021-week_42\", \"2021-week_43\", \"2021-week_44\", \"2021-week_45\", \"2021-week_46\", \"2021-week_47\", \"2021-week_48\", \"2021-week_49\", \"2021-week_50\", \"2021-week_51\", \"2022-week_01\", \"2022-week_02\", \"2022-week_03\", \"2022-week_04\", \"2022-week_05\", \"2022-week_06\", \"2022-week_52\"], \"y\": [0.0016021175814990248, 0.0006958458005705936, 0.001113198358032422, 0.0008339124391938846, 0.0012506948304613673, 0.0007667108106224297, 0.00048557158712541623, 6.941552131056504e-05, 0.0004867872044506259, 0.0005564830272676684, 0.00027841581401823624, 0.00020980488146024197, \"\", \"\", \"\", \"\", \"\", \"\", \"\", \"\", 0.00013866740622616653, 0.0002095411049800936, 0.00020881186051367718, 0.00020888455646845844, 0.00027799013135033706, \"\"]}, {\"marker\": {\"color\": \"rgba(128, 0, 128, 0.6)\", \"line\": {\"color\": \"rgba(128, 0, 128, 0.7999999999999998)\", \"width\": 1}}, \"name\": \"Pole Star\", \"orientation\": \"v\", \"text\": \"\", \"type\": \"bar\", \"x\": [\"2021-week_33\", \"2021-week_34\", \"2021-week_35\", \"2021-week_36\", \"2021-week_37\", \"2021-week_38\", \"2021-week_39\", \"2021-week_40\", \"2021-week_41\", \"2021-week_42\", \"2021-week_43\", \"2021-week_44\", \"2021-week_45\", \"2021-week_46\", \"2021-week_47\", \"2021-week_48\", \"2021-week_49\", \"2021-week_50\", \"2021-week_51\", \"2022-week_01\", \"2022-week_02\", \"2022-week_03\", \"2022-week_04\", \"2022-week_05\", \"2022-week_06\", \"2022-week_52\"], \"y\": [0.0030649205906937865, 0.0017396145014264839, \"\", \"\", 6.948304613674263e-05, 6.970098278385725e-05, 0.00013873473917869035, 6.941552131056504e-05, 0.0011821974965229485, 0.00020868113522537563, 0.00020881186051367718, 0.0006294146443807259, 0.0017313019390581717, 0.0011149825783972125, \"\", \"\", 0.0001394991978796122, 6.942515967786726e-05, 7.809449433814917e-05, 0.0003475842891901286, 0.0003466685155654163, 0.00034923517496682265, 0.0015312869771002993, 0.001392563709789723, 0.0016679407881020224, 0.00012554927809165097]}, {\"marker\": {\"color\": \"rgba(219, 64, 82, 0.6)\", \"line\": {\"color\": \"rgba(219, 64, 82, 0.7999999999999998)\", \"width\": 1}}, \"name\": \"Puentes Company\", \"orientation\": \"v\", \"text\": \"\", \"type\": \"bar\", \"x\": [\"2021-week_33\", \"2021-week_34\", \"2021-week_35\", \"2021-week_36\", \"2021-week_37\", \"2021-week_38\", \"2021-week_39\", \"2021-week_40\", \"2021-week_41\", \"2021-week_42\", \"2021-week_43\", \"2021-week_44\", \"2021-week_45\", \"2021-week_46\", \"2021-week_47\", \"2021-week_48\", \"2021-week_49\", \"2021-week_50\", \"2021-week_51\", \"2022-week_01\", \"2022-week_02\", \"2022-week_03\", \"2022-week_04\", \"2022-week_05\", \"2022-week_06\", \"2022-week_52\"], \"y\": [0.09452493730844247, 0.08197063530721592, 0.07521046406456551, 0.07588603196664351, 0.07406892718176765, 0.0683069631281801, 0.06804938956714761, 0.06976259891711786, 0.08817802503477051, 0.07206455203116305, 0.06333959768914875, 0.07720819637736905, 0.10297783933518005, 0.0932404181184669, 0.09061241494236912, 0.0814357123021383, 0.09130222501220618, 0.08497639544570952, 0.10378758297540024, 0.09336114007646855, 0.09061914996879983, 0.06635468324369631, 0.05902415257186608, 0.05653808661746275, 0.0583084300507332, 0.06936597614563716]}, {\"marker\": {\"color\": \"rgba(0, 128, 128, 0.6)\", \"line\": {\"color\": \"rgba(0, 128, 128, 0.7999999999999998)\", \"width\": 1}}, \"name\": \"PureSafe water systems\", \"orientation\": \"v\", \"text\": \"\", \"type\": \"bar\", \"x\": [\"2021-week_33\", \"2021-week_34\", \"2021-week_35\", \"2021-week_36\", \"2021-week_37\", \"2021-week_38\", \"2021-week_39\", \"2021-week_40\", \"2021-week_41\", \"2021-week_42\", \"2021-week_43\", \"2021-week_44\", \"2021-week_45\", \"2021-week_46\", \"2021-week_47\", \"2021-week_48\", \"2021-week_49\", \"2021-week_50\", \"2021-week_51\", \"2022-week_01\", \"2022-week_02\", \"2022-week_03\", \"2022-week_04\", \"2022-week_05\", \"2022-week_06\", \"2022-week_52\"], \"y\": [\"\", \"\", \"\", \"\", \"\", \"\", \"\", \"\", \"\", \"\", \"\", \"\", \"\", \"\", \"\", \"\", \"\", \"\", \"\", \"\", \"\", \"\", \"\", 6.962818548948615e-05, \"\", \"\"]}, {\"marker\": {\"color\": \"rgba(255, 255, 51, 0.6)\", \"line\": {\"color\": \"rgba(255, 255, 51, 0.7999999999999998)\", \"width\": 1}}, \"name\": \"RelayFoods\", \"orientation\": \"v\", \"text\": \"\", \"type\": \"bar\", \"x\": [\"2021-week_33\", \"2021-week_34\", \"2021-week_35\", \"2021-week_36\", \"2021-week_37\", \"2021-week_38\", \"2021-week_39\", \"2021-week_40\", \"2021-week_41\", \"2021-week_42\", \"2021-week_43\", \"2021-week_44\", \"2021-week_45\", \"2021-week_46\", \"2021-week_47\", \"2021-week_48\", \"2021-week_49\", \"2021-week_50\", \"2021-week_51\", \"2022-week_01\", \"2022-week_02\", \"2022-week_03\", \"2022-week_04\", \"2022-week_05\", \"2022-week_06\", \"2022-week_52\"], \"y\": [0.10929228197269435, 0.06297404495163872, 0.06880957350587907, 0.06949270326615706, 0.06663424124513619, 0.06754025231755768, 0.052372364039955606, 0.04602249062890462, 0.05660639777468707, 0.2598775737340011, 0.24131690680030626, 0.2721169312539338, 0.3479224376731302, 0.31679442508710803, 0.3327315650604083, 0.2905442932518745, 0.32370788867964007, 0.3126214940294363, 0.28621632174931666, 0.26930830726451166, 0.2656867503293351, 0.24760773905147726, 0.247511658662212, 0.22629160284082997, 0.23650010424629925, 0.3747018204645323]}, {\"marker\": {\"color\": \"rgba(128, 128, 0, 0.6)\", \"line\": {\"color\": \"rgba(128, 128, 0, 0.7999999999999998)\", \"width\": 1}}, \"name\": \"SOLOMO365\", \"orientation\": \"v\", \"text\": \"\", \"type\": \"bar\", \"x\": [\"2021-week_33\", \"2021-week_34\", \"2021-week_35\", \"2021-week_36\", \"2021-week_37\", \"2021-week_38\", \"2021-week_39\", \"2021-week_40\", \"2021-week_41\", \"2021-week_42\", \"2021-week_43\", \"2021-week_44\", \"2021-week_45\", \"2021-week_46\", \"2021-week_47\", \"2021-week_48\", \"2021-week_49\", \"2021-week_50\", \"2021-week_51\", \"2022-week_01\", \"2022-week_02\", \"2022-week_03\", \"2022-week_04\", \"2022-week_05\", \"2022-week_06\", \"2022-week_52\"], \"y\": [0.05544719977709668, 0.06039941548952752, 0.05976483684686565, 0.05573314801945796, 0.055586436909394105, 0.05813061964173695, 0.049944506104328525, 0.014993752603082049, \"\", \"\", \"\", \"\", \"\", \"\", \"\", \"\", \"\", \"\", \"\", \"\", \"\", \"\", \"\", \"\", \"\", \"\"]}, {\"marker\": {\"color\": \"rgba(128, 128, 0, 0.6)\", \"line\": {\"color\": \"rgba(128, 128, 0, 0.7)\", \"width\": 1}}, \"name\": \"Search Million Culture\", \"orientation\": \"v\", \"text\": \"\", \"type\": \"bar\", \"x\": [\"2021-week_33\", \"2021-week_34\", \"2021-week_35\", \"2021-week_36\", \"2021-week_37\", \"2021-week_38\", \"2021-week_39\", \"2021-week_40\", \"2021-week_41\", \"2021-week_42\", \"2021-week_43\", \"2021-week_44\", \"2021-week_45\", \"2021-week_46\", \"2021-week_47\", \"2021-week_48\", \"2021-week_49\", \"2021-week_50\", \"2021-week_51\", \"2022-week_01\", \"2022-week_02\", \"2022-week_03\", \"2022-week_04\", \"2022-week_05\", \"2022-week_06\", \"2022-week_52\"], \"y\": [0.35218723878517694, 0.39043907870016004, 0.35030960829332775, 0.35392633773453785, 0.3494302390216787, 0.33372830556910854, 0.3140260821309656, 0.3306261280022213, 0.3364394993045897, 0.25994713411240955, 0.24110809493979257, 0.1897335478005455, 0.0853185595567867, 0.09337979094076655, 0.09665324260519373, 0.11538461538461539, 0.13287298598033062, 0.12350735906692585, 0.12526356891839124, 0.19443865137295793, 0.2046730915898218, 0.23342879094782426, 0.25440245005916334, 0.25163626235900294, 0.23816804503440128, 0.0743879472693032]}, {\"marker\": {\"color\": \"rgba(251, 128, 114, 0.6)\", \"line\": {\"color\": \"rgba(251, 128, 114, 0.7)\", \"width\": 1}}, \"name\": \"Sensor Tower\", \"orientation\": \"v\", \"text\": \"\", \"type\": \"bar\", \"x\": [\"2021-week_33\", \"2021-week_34\", \"2021-week_35\", \"2021-week_36\", \"2021-week_37\", \"2021-week_38\", \"2021-week_39\", \"2021-week_40\", \"2021-week_41\", \"2021-week_42\", \"2021-week_43\", \"2021-week_44\", \"2021-week_45\", \"2021-week_46\", \"2021-week_47\", \"2021-week_48\", \"2021-week_49\", \"2021-week_50\", \"2021-week_51\", \"2022-week_01\", \"2022-week_02\", \"2022-week_03\", \"2022-week_04\", \"2022-week_05\", \"2022-week_06\", \"2022-week_52\"], \"y\": [0.03629144608526052, 0.03374852132767379, 0.031308703819661866, 0.018763029881862403, 0.012854363535297387, 0.008712622847982156, 0.0076997780244173145, 0.006455643481882549, 0.00674547983310153, 0.006816917084028937, 0.005568316280364725, 0.005384991957479544, 0.00574792243767313, 0.004320557491289199, 0.004443827246215803, 0.005554012774229381, 0.007463207086559252, 0.004859761177450708, 0.003358063256540414, 0.003475842891901286, 0.0029813492338625807, 0.00447021023957533, 0.004315445117282661, 0.003899178387411224, 0.004169851970255056, 0.004205900816070308]}, {\"marker\": {\"color\": \"rgba(128, 177, 211, 0.6)\", \"line\": {\"color\": \"rgba(128, 177, 211, 0.7)\", \"width\": 1}}, \"name\": \"Tab Solutions\", \"orientation\": \"v\", \"text\": \"\", \"type\": \"bar\", \"x\": [\"2021-week_33\", \"2021-week_34\", \"2021-week_35\", \"2021-week_36\", \"2021-week_37\", \"2021-week_38\", \"2021-week_39\", \"2021-week_40\", \"2021-week_41\", \"2021-week_42\", \"2021-week_43\", \"2021-week_44\", \"2021-week_45\", \"2021-week_46\", \"2021-week_47\", \"2021-week_48\", \"2021-week_49\", \"2021-week_50\", \"2021-week_51\", \"2022-week_01\", \"2022-week_02\", \"2022-week_03\", \"2022-week_04\", \"2022-week_05\", \"2022-week_06\", \"2022-week_52\"], \"y\": [0.0672192811368069, 0.054345557024563354, 0.04981562652195088, 0.055524669909659485, 0.05885214007782101, 0.04000836411793406, 0.05292730299667037, 0.06774954879911148, 0.0672461752433936, 0.047996661101836396, 0.04719148047609104, 0.05063291139240506, 0.04113573407202216, 0.014355400696864112, 0.016594917372587142, 0.0197167453485143, 0.031317569923972936, 0.02256317689530686, 0.019992190550566186, 0.010983663538408064, 0.012618733966581155, 0.01494726548858001, 0.016565740934085055, 0.01392563709789723, 0.01709639307804573, 0.013998744507219083]}, {\"marker\": {\"color\": \"rgba(255, 153, 51, 0.6)\", \"line\": {\"color\": \"rgba(255, 153, 51, 0.7)\", \"width\": 1}}, \"name\": \"VarVee\", \"orientation\": \"v\", \"text\": \"\", \"type\": \"bar\", \"x\": [\"2021-week_33\", \"2021-week_34\", \"2021-week_35\", \"2021-week_36\", \"2021-week_37\", \"2021-week_38\", \"2021-week_39\", \"2021-week_40\", \"2021-week_41\", \"2021-week_42\", \"2021-week_43\", \"2021-week_44\", \"2021-week_45\", \"2021-week_46\", \"2021-week_47\", \"2021-week_48\", \"2021-week_49\", \"2021-week_50\", \"2021-week_51\", \"2022-week_01\", \"2022-week_02\", \"2022-week_03\", \"2022-week_04\", \"2022-week_05\", \"2022-week_06\", \"2022-week_52\"], \"y\": [0.00229869044302034, 0.004662166863822976, 0.004870242816391846, 0.006879777623349548, 0.0074346859366314615, 0.007179201226737297, 0.005063817980022198, 0.004789670970428988, 0.005563282336578581, 0.0023650528658875902, 0.0029929700006960393, 0.003217008182390377, 0.003601108033240997, 0.0024390243902439024, 0.002707957228162755, 0.0017356289919466814, 0.0004882471925786427, 0.0006248264371008053, 0.00046856696602889497, 0.00027806743135210286, 0.0006933370311308326, 0.0007683173849270099, 0.0010440593025683859, 0.0007659100403843476, 0.0006949753283758427, 0.0003766478342749529]}, {\"marker\": {\"color\": \"rgba(55, 128, 191, 0.6)\", \"line\": {\"color\": \"rgba(55, 128, 191, 0.7)\", \"width\": 1}}, \"name\": \"aPriori Technologies\", \"orientation\": \"v\", \"text\": \"\", \"type\": \"bar\", \"x\": [\"2021-week_33\", \"2021-week_34\", \"2021-week_35\", \"2021-week_36\", \"2021-week_37\", \"2021-week_38\", \"2021-week_39\", \"2021-week_40\", \"2021-week_41\", \"2021-week_42\", \"2021-week_43\", \"2021-week_44\", \"2021-week_45\", \"2021-week_46\", \"2021-week_47\", \"2021-week_48\", \"2021-week_49\", \"2021-week_50\", \"2021-week_51\", \"2022-week_01\", \"2022-week_02\", \"2022-week_03\", \"2022-week_04\", \"2022-week_05\", \"2022-week_06\", \"2022-week_52\"], \"y\": [0.002995263304541655, 0.0029225523623964927, 0.003965769150490503, 0.0029881862404447534, 0.0027098387993329627, 0.002439534397435004, 0.0039539400665926745, 0.004442593363876163, 0.0035465924895688454, 0.002295492487479132, 0.002853762093686921, 0.002307853696062662, 0.003670360110803324, 0.005156794425087108, 0.004999305651992779, 0.003262982504859761, 0.0034874799469903047, 0.00354068314357123, 0.004139008199921906, 0.0032672923183872087, 0.002010677390279415, 0.0017461758748341133, 0.0020881186051367718, 0.002297730121153043, 0.002015428452289944, 0.0038292529817953547]}, {\"marker\": {\"color\": \"rgba(50, 171, 96, 0.6)\", \"line\": {\"color\": \"rgba(50, 171, 96, 0.7)\", \"width\": 1}}, \"name\": \"iDreamsky Technology\", \"orientation\": \"v\", \"text\": \"\", \"type\": \"bar\", \"x\": [\"2021-week_33\", \"2021-week_34\", \"2021-week_35\", \"2021-week_36\", \"2021-week_37\", \"2021-week_38\", \"2021-week_39\", \"2021-week_40\", \"2021-week_41\", \"2021-week_42\", \"2021-week_43\", \"2021-week_44\", \"2021-week_45\", \"2021-week_46\", \"2021-week_47\", \"2021-week_48\", \"2021-week_49\", \"2021-week_50\", \"2021-week_51\", \"2022-week_01\", \"2022-week_02\", \"2022-week_03\", \"2022-week_04\", \"2022-week_05\", \"2022-week_06\", \"2022-week_52\"], \"y\": [0.021872387851769294, 0.021153712337346045, 0.035761497251791556, 0.04211257817929118, 0.04175931072818232, 0.05123022234613508, 0.04557436182019978, 0.042759961127308066, 0.032753824756606396, 0.018433500278241515, 0.018932275353240064, 0.020560878383103713, 0.0260387811634349, 0.04494773519163763, 0.08734897930842939, 0.036239933351846706, 0.02483085722257097, 0.02513190780338795, 0.026395939086294416, 0.024261383385470976, 0.021770782777508147, 0.01990640497310889, 0.016356929073571377, 0.016362623590029244, 0.018555841267634997, 0.02366603892027621]}],                        {\"barmode\": \"stack\", \"legend\": {\"bgcolor\": \"#F5F6F9\", \"font\": {\"color\": \"#4D5663\"}, \"traceorder\": \"normal\"}, \"paper_bgcolor\": \"#F5F6F9\", \"plot_bgcolor\": \"#F5F6F9\", \"template\": {\"data\": {\"bar\": [{\"error_x\": {\"color\": \"#2a3f5f\"}, \"error_y\": {\"color\": \"#2a3f5f\"}, \"marker\": {\"line\": {\"color\": \"#E5ECF6\", \"width\": 0.5}}, \"type\": \"bar\"}], \"barpolar\": [{\"marker\": {\"line\": {\"color\": \"#E5ECF6\", \"width\": 0.5}}, \"type\": \"barpolar\"}], \"carpet\": [{\"aaxis\": {\"endlinecolor\": \"#2a3f5f\", \"gridcolor\": \"white\", \"linecolor\": \"white\", \"minorgridcolor\": \"white\", \"startlinecolor\": \"#2a3f5f\"}, \"baxis\": {\"endlinecolor\": \"#2a3f5f\", \"gridcolor\": \"white\", \"linecolor\": \"white\", \"minorgridcolor\": \"white\", \"startlinecolor\": \"#2a3f5f\"}, \"type\": \"carpet\"}], \"choropleth\": [{\"colorbar\": {\"outlinewidth\": 0, \"ticks\": \"\"}, \"type\": \"choropleth\"}], \"contour\": [{\"colorbar\": {\"outlinewidth\": 0, \"ticks\": \"\"}, \"colorscale\": [[0.0, \"#0d0887\"], [0.1111111111111111, \"#46039f\"], [0.2222222222222222, \"#7201a8\"], [0.3333333333333333, \"#9c179e\"], [0.4444444444444444, \"#bd3786\"], [0.5555555555555556, \"#d8576b\"], [0.6666666666666666, \"#ed7953\"], [0.7777777777777778, \"#fb9f3a\"], [0.8888888888888888, \"#fdca26\"], [1.0, \"#f0f921\"]], \"type\": \"contour\"}], \"contourcarpet\": [{\"colorbar\": {\"outlinewidth\": 0, \"ticks\": \"\"}, \"type\": \"contourcarpet\"}], \"heatmap\": [{\"colorbar\": {\"outlinewidth\": 0, \"ticks\": \"\"}, \"colorscale\": [[0.0, \"#0d0887\"], [0.1111111111111111, \"#46039f\"], [0.2222222222222222, \"#7201a8\"], [0.3333333333333333, \"#9c179e\"], [0.4444444444444444, \"#bd3786\"], [0.5555555555555556, \"#d8576b\"], [0.6666666666666666, \"#ed7953\"], [0.7777777777777778, \"#fb9f3a\"], [0.8888888888888888, \"#fdca26\"], [1.0, \"#f0f921\"]], \"type\": \"heatmap\"}], \"heatmapgl\": [{\"colorbar\": {\"outlinewidth\": 0, \"ticks\": \"\"}, \"colorscale\": [[0.0, \"#0d0887\"], [0.1111111111111111, \"#46039f\"], [0.2222222222222222, \"#7201a8\"], [0.3333333333333333, \"#9c179e\"], [0.4444444444444444, \"#bd3786\"], [0.5555555555555556, \"#d8576b\"], [0.6666666666666666, \"#ed7953\"], [0.7777777777777778, \"#fb9f3a\"], [0.8888888888888888, \"#fdca26\"], [1.0, \"#f0f921\"]], \"type\": \"heatmapgl\"}], \"histogram\": [{\"marker\": {\"colorbar\": {\"outlinewidth\": 0, \"ticks\": \"\"}}, \"type\": \"histogram\"}], \"histogram2d\": [{\"colorbar\": {\"outlinewidth\": 0, \"ticks\": \"\"}, \"colorscale\": [[0.0, \"#0d0887\"], [0.1111111111111111, \"#46039f\"], [0.2222222222222222, \"#7201a8\"], [0.3333333333333333, \"#9c179e\"], [0.4444444444444444, \"#bd3786\"], [0.5555555555555556, \"#d8576b\"], [0.6666666666666666, \"#ed7953\"], [0.7777777777777778, \"#fb9f3a\"], [0.8888888888888888, \"#fdca26\"], [1.0, \"#f0f921\"]], \"type\": \"histogram2d\"}], \"histogram2dcontour\": [{\"colorbar\": {\"outlinewidth\": 0, \"ticks\": \"\"}, \"colorscale\": [[0.0, \"#0d0887\"], [0.1111111111111111, \"#46039f\"], [0.2222222222222222, \"#7201a8\"], [0.3333333333333333, \"#9c179e\"], [0.4444444444444444, \"#bd3786\"], [0.5555555555555556, \"#d8576b\"], [0.6666666666666666, \"#ed7953\"], [0.7777777777777778, \"#fb9f3a\"], [0.8888888888888888, \"#fdca26\"], [1.0, \"#f0f921\"]], \"type\": \"histogram2dcontour\"}], \"mesh3d\": [{\"colorbar\": {\"outlinewidth\": 0, \"ticks\": \"\"}, \"type\": \"mesh3d\"}], \"parcoords\": [{\"line\": {\"colorbar\": {\"outlinewidth\": 0, \"ticks\": \"\"}}, \"type\": \"parcoords\"}], \"pie\": [{\"automargin\": true, \"type\": \"pie\"}], \"scatter\": [{\"marker\": {\"colorbar\": {\"outlinewidth\": 0, \"ticks\": \"\"}}, \"type\": \"scatter\"}], \"scatter3d\": [{\"line\": {\"colorbar\": {\"outlinewidth\": 0, \"ticks\": \"\"}}, \"marker\": {\"colorbar\": {\"outlinewidth\": 0, \"ticks\": \"\"}}, \"type\": \"scatter3d\"}], \"scattercarpet\": [{\"marker\": {\"colorbar\": {\"outlinewidth\": 0, \"ticks\": \"\"}}, \"type\": \"scattercarpet\"}], \"scattergeo\": [{\"marker\": {\"colorbar\": {\"outlinewidth\": 0, \"ticks\": \"\"}}, \"type\": \"scattergeo\"}], \"scattergl\": [{\"marker\": {\"colorbar\": {\"outlinewidth\": 0, \"ticks\": \"\"}}, \"type\": \"scattergl\"}], \"scattermapbox\": [{\"marker\": {\"colorbar\": {\"outlinewidth\": 0, \"ticks\": \"\"}}, \"type\": \"scattermapbox\"}], \"scatterpolar\": [{\"marker\": {\"colorbar\": {\"outlinewidth\": 0, \"ticks\": \"\"}}, \"type\": \"scatterpolar\"}], \"scatterpolargl\": [{\"marker\": {\"colorbar\": {\"outlinewidth\": 0, \"ticks\": \"\"}}, \"type\": \"scatterpolargl\"}], \"scatterternary\": [{\"marker\": {\"colorbar\": {\"outlinewidth\": 0, \"ticks\": \"\"}}, \"type\": \"scatterternary\"}], \"surface\": [{\"colorbar\": {\"outlinewidth\": 0, \"ticks\": \"\"}, \"colorscale\": [[0.0, \"#0d0887\"], [0.1111111111111111, \"#46039f\"], [0.2222222222222222, \"#7201a8\"], [0.3333333333333333, \"#9c179e\"], [0.4444444444444444, \"#bd3786\"], [0.5555555555555556, \"#d8576b\"], [0.6666666666666666, \"#ed7953\"], [0.7777777777777778, \"#fb9f3a\"], [0.8888888888888888, \"#fdca26\"], [1.0, \"#f0f921\"]], \"type\": \"surface\"}], \"table\": [{\"cells\": {\"fill\": {\"color\": \"#EBF0F8\"}, \"line\": {\"color\": \"white\"}}, \"header\": {\"fill\": {\"color\": \"#C8D4E3\"}, \"line\": {\"color\": \"white\"}}, \"type\": \"table\"}]}, \"layout\": {\"annotationdefaults\": {\"arrowcolor\": \"#2a3f5f\", \"arrowhead\": 0, \"arrowwidth\": 1}, \"autotypenumbers\": \"strict\", \"coloraxis\": {\"colorbar\": {\"outlinewidth\": 0, \"ticks\": \"\"}}, \"colorscale\": {\"diverging\": [[0, \"#8e0152\"], [0.1, \"#c51b7d\"], [0.2, \"#de77ae\"], [0.3, \"#f1b6da\"], [0.4, \"#fde0ef\"], [0.5, \"#f7f7f7\"], [0.6, \"#e6f5d0\"], [0.7, \"#b8e186\"], [0.8, \"#7fbc41\"], [0.9, \"#4d9221\"], [1, \"#276419\"]], \"sequential\": [[0.0, \"#0d0887\"], [0.1111111111111111, \"#46039f\"], [0.2222222222222222, \"#7201a8\"], [0.3333333333333333, \"#9c179e\"], [0.4444444444444444, \"#bd3786\"], [0.5555555555555556, \"#d8576b\"], [0.6666666666666666, \"#ed7953\"], [0.7777777777777778, \"#fb9f3a\"], [0.8888888888888888, \"#fdca26\"], [1.0, \"#f0f921\"]], \"sequentialminus\": [[0.0, \"#0d0887\"], [0.1111111111111111, \"#46039f\"], [0.2222222222222222, \"#7201a8\"], [0.3333333333333333, \"#9c179e\"], [0.4444444444444444, \"#bd3786\"], [0.5555555555555556, \"#d8576b\"], [0.6666666666666666, \"#ed7953\"], [0.7777777777777778, \"#fb9f3a\"], [0.8888888888888888, \"#fdca26\"], [1.0, \"#f0f921\"]]}, \"colorway\": [\"#636efa\", \"#EF553B\", \"#00cc96\", \"#ab63fa\", \"#FFA15A\", \"#19d3f3\", \"#FF6692\", \"#B6E880\", \"#FF97FF\", \"#FECB52\"], \"font\": {\"color\": \"#2a3f5f\"}, \"geo\": {\"bgcolor\": \"white\", \"lakecolor\": \"white\", \"landcolor\": \"#E5ECF6\", \"showlakes\": true, \"showland\": true, \"subunitcolor\": \"white\"}, \"hoverlabel\": {\"align\": \"left\"}, \"hovermode\": \"closest\", \"mapbox\": {\"style\": \"light\"}, \"paper_bgcolor\": \"white\", \"plot_bgcolor\": \"#E5ECF6\", \"polar\": {\"angularaxis\": {\"gridcolor\": \"white\", \"linecolor\": \"white\", \"ticks\": \"\"}, \"bgcolor\": \"#E5ECF6\", \"radialaxis\": {\"gridcolor\": \"white\", \"linecolor\": \"white\", \"ticks\": \"\"}}, \"scene\": {\"xaxis\": {\"backgroundcolor\": \"#E5ECF6\", \"gridcolor\": \"white\", \"gridwidth\": 2, \"linecolor\": \"white\", \"showbackground\": true, \"ticks\": \"\", \"zerolinecolor\": \"white\"}, \"yaxis\": {\"backgroundcolor\": \"#E5ECF6\", \"gridcolor\": \"white\", \"gridwidth\": 2, \"linecolor\": \"white\", \"showbackground\": true, \"ticks\": \"\", \"zerolinecolor\": \"white\"}, \"zaxis\": {\"backgroundcolor\": \"#E5ECF6\", \"gridcolor\": \"white\", \"gridwidth\": 2, \"linecolor\": \"white\", \"showbackground\": true, \"ticks\": \"\", \"zerolinecolor\": \"white\"}}, \"shapedefaults\": {\"line\": {\"color\": \"#2a3f5f\"}}, \"ternary\": {\"aaxis\": {\"gridcolor\": \"white\", \"linecolor\": \"white\", \"ticks\": \"\"}, \"baxis\": {\"gridcolor\": \"white\", \"linecolor\": \"white\", \"ticks\": \"\"}, \"bgcolor\": \"#E5ECF6\", \"caxis\": {\"gridcolor\": \"white\", \"linecolor\": \"white\", \"ticks\": \"\"}}, \"title\": {\"x\": 0.05}, \"xaxis\": {\"automargin\": true, \"gridcolor\": \"white\", \"linecolor\": \"white\", \"ticks\": \"\", \"title\": {\"standoff\": 15}, \"zerolinecolor\": \"white\", \"zerolinewidth\": 2}, \"yaxis\": {\"automargin\": true, \"gridcolor\": \"white\", \"linecolor\": \"white\", \"ticks\": \"\", \"title\": {\"standoff\": 15}, \"zerolinecolor\": \"white\", \"zerolinewidth\": 2}}}, \"title\": {\"font\": {\"color\": \"#4D5663\"}}, \"xaxis\": {\"gridcolor\": \"#E1E5ED\", \"showgrid\": true, \"tickfont\": {\"color\": \"#4D5663\"}, \"title\": {\"font\": {\"color\": \"#4D5663\"}, \"text\": \"\"}, \"zerolinecolor\": \"#E1E5ED\"}, \"yaxis\": {\"gridcolor\": \"#E1E5ED\", \"showgrid\": true, \"tickfont\": {\"color\": \"#4D5663\"}, \"title\": {\"font\": {\"color\": \"#4D5663\"}, \"text\": \"\"}, \"zerolinecolor\": \"#E1E5ED\"}},                        {\"showLink\": true, \"linkText\": \"Export to plot.ly\", \"plotlyServerURL\": \"https://plot.ly\", \"responsive\": true}                    ).then(function(){\n",
       "                            \n",
       "var gd = document.getElementById('87e783d2-8496-4ebd-b03e-132298be48dd');\n",
       "var x = new MutationObserver(function (mutations, observer) {{\n",
       "        var display = window.getComputedStyle(gd).display;\n",
       "        if (!display || display === 'none') {{\n",
       "            console.log([gd, 'removed!']);\n",
       "            Plotly.purge(gd);\n",
       "            observer.disconnect();\n",
       "        }}\n",
       "}});\n",
       "\n",
       "// Listen for the removal of the full notebook cells\n",
       "var notebookContainer = gd.closest('#notebook-container');\n",
       "if (notebookContainer) {{\n",
       "    x.observe(notebookContainer, {childList: true});\n",
       "}}\n",
       "\n",
       "// Listen for the clearing of the current output cell\n",
       "var outputEl = gd.closest('.output');\n",
       "if (outputEl) {{\n",
       "    x.observe(outputEl, {childList: true});\n",
       "}}\n",
       "\n",
       "                        })                };                });            </script>        </div>"
      ]
     },
     "metadata": {},
     "output_type": "display_data"
    }
   ],
   "source": []
  },
  {
   "cell_type": "markdown",
   "id": "a0a44ecb-56c0-4341-94f7-0642ebf71d85",
   "metadata": {},
   "source": [
    "## Appendix"
   ]
  },
  {
   "cell_type": "markdown",
   "id": "0f8d9f04-e707-42ed-b09c-8edbf46a820e",
   "metadata": {},
   "source": [
    "Code to create weekly files:"
   ]
  },
  {
   "cell_type": "code",
   "execution_count": 67,
   "id": "4d91c99c-0649-459d-ae1c-5b7cce5a6177",
   "metadata": {},
   "outputs": [],
   "source": [
    "# for l in ad_recs_annotated.region.unique():\n",
    "#     for w in ad_recs_annotated.week_id.unique():\n",
    "#         w_id = w.split('_')[1]\n",
    "#         y = w.split('-')[0]\n",
    "#         query = f'week_id == \"{w}\" and region == \"{l}\"'\n",
    "#         sample_f_name = f'{y}_{w_id}_{l}__Sample.csv'\n",
    "#         ad_recs_annotated.query(query)[['week_id','ad_id','requester','region','recommendation_type', 'rec_provider']].to_csv(f'data/weekly/{sample_f_name}', index=False)\n",
    "#         for s in ad_recs_annotated.recommendation_type.unique():\n",
    "#             ann_f_name = f'{y}_{w_id}_{l}_{s}_annotation_result.csv'\n",
    "#             query = f'week_id == \"{w}\" and region == \"{l}\" and recommendation_type == \"{s}\"'\n",
    "#             sss = ad_recs_annotated.query(query)\n",
    "#             if sss.empty:\n",
    "#                 continue            \n",
    "#             sss[['region','ad_id','is_success','is_sever']].drop_duplicates(subset=['ad_id']).to_csv(f'data/weekly/{ann_f_name}', index=False)"
   ]
  }
 ],
 "metadata": {
  "kernelspec": {
   "display_name": "Python 3 (ipykernel)",
   "language": "python",
   "name": "python3"
  },
  "language_info": {
   "codemirror_mode": {
    "name": "ipython",
    "version": 3
   },
   "file_extension": ".py",
   "mimetype": "text/x-python",
   "name": "python",
   "nbconvert_exporter": "python",
   "pygments_lexer": "ipython3",
   "version": "3.9.13"
  }
 },
 "nbformat": 4,
 "nbformat_minor": 5
}
